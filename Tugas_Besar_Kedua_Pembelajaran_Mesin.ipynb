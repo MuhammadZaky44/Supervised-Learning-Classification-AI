{
  "cells": [
    {
      "cell_type": "markdown",
      "metadata": {
        "id": "zaCdiqViZbfR"
      },
      "source": [
        "#**CUSTOMER CLASSIFICATION**"
      ]
    },
    {
      "cell_type": "markdown",
      "metadata": {
        "id": "Emix65_m7kXx"
      },
      "source": [
        "# Tugas Besar Pembelajaran Mesin Tahap ke - 2\n",
        "## Nama:  Muhammad Zaky Al Fatih - 1301190445\n",
        "##        Wida Sofiya - 1301191057\n",
        "# Kelas: IF - 43 - 12"
      ]
    },
    {
      "cell_type": "markdown",
      "metadata": {
        "id": "xxf0Xmx2ZpaU"
      },
      "source": [
        "#Import Library"
      ]
    },
    {
      "cell_type": "code",
      "execution_count": 1,
      "metadata": {
        "id": "eBgDXbOR68f1"
      },
      "outputs": [],
      "source": [
        "# Mengimport library yang akan diperlukan pada program\n",
        "import numpy as np\n",
        "import pandas as pd\n",
        "import matplotlib.pyplot as plt\n",
        "from scipy import stats\n",
        "import random as rd\n",
        "import seaborn as sns\n",
        "from sklearn import metrics\n",
        "from sklearn.model_selection import train_test_split\n",
        "from sklearn import datasets\n",
        "from sklearn.metrics import confusion_matrix, classification_report"
      ]
    },
    {
      "cell_type": "markdown",
      "metadata": {
        "id": "hM18okOaZwIk"
      },
      "source": [
        "#Loading Data"
      ]
    },
    {
      "cell_type": "code",
      "execution_count": 2,
      "metadata": {
        "id": "HMZ1FGjN8ItN"
      },
      "outputs": [],
      "source": [
        "# Import data frame train dan data frame test\n",
        "df_train = pd.read_csv(\"https://github.com/MuhammadZaky44/MuhammadZaky44/blob/main/kendaraan_train.csv?raw=true\")\n",
        "df_test = pd.read_csv(\"https://github.com/MuhammadZaky44/MuhammadZaky44/blob/main/kendaraan_test.csv?raw=true\")"
      ]
    },
    {
      "cell_type": "markdown",
      "metadata": {
        "id": "_sHyoYrCaMA-"
      },
      "source": [
        "#Data Exploration"
      ]
    },
    {
      "cell_type": "code",
      "execution_count": 3,
      "metadata": {
        "colab": {
          "base_uri": "https://localhost:8080/"
        },
        "id": "PR4dnSe6mC2G",
        "outputId": "9c6bbdcf-a55f-4f89-b612-a0c67abc413e"
      },
      "outputs": [
        {
          "output_type": "stream",
          "name": "stdout",
          "text": [
            "Jumlah dimensi data train: (285831, 12)\n",
            "Jumlah dimensi data test: (47639, 11)\n"
          ]
        }
      ],
      "source": [
        "print(\"Jumlah dimensi data train:\", df_train.shape)\n",
        "print(\"Jumlah dimensi data test:\", df_test.shape)"
      ]
    },
    {
      "cell_type": "code",
      "execution_count": 4,
      "metadata": {
        "colab": {
          "base_uri": "https://localhost:8080/",
          "height": 206
        },
        "id": "7xHhm0SCXY93",
        "outputId": "d4b2b66b-217d-4614-f32c-e4ce38161fc2"
      },
      "outputs": [
        {
          "output_type": "execute_result",
          "data": {
            "text/html": [
              "\n",
              "  <div id=\"df-d015c7ba-d3b4-41d5-aefe-0ca42d91ce17\">\n",
              "    <div class=\"colab-df-container\">\n",
              "      <div>\n",
              "<style scoped>\n",
              "    .dataframe tbody tr th:only-of-type {\n",
              "        vertical-align: middle;\n",
              "    }\n",
              "\n",
              "    .dataframe tbody tr th {\n",
              "        vertical-align: top;\n",
              "    }\n",
              "\n",
              "    .dataframe thead th {\n",
              "        text-align: right;\n",
              "    }\n",
              "</style>\n",
              "<table border=\"1\" class=\"dataframe\">\n",
              "  <thead>\n",
              "    <tr style=\"text-align: right;\">\n",
              "      <th></th>\n",
              "      <th>id</th>\n",
              "      <th>Jenis_Kelamin</th>\n",
              "      <th>Umur</th>\n",
              "      <th>SIM</th>\n",
              "      <th>Kode_Daerah</th>\n",
              "      <th>Sudah_Asuransi</th>\n",
              "      <th>Umur_Kendaraan</th>\n",
              "      <th>Kendaraan_Rusak</th>\n",
              "      <th>Premi</th>\n",
              "      <th>Kanal_Penjualan</th>\n",
              "      <th>Lama_Berlangganan</th>\n",
              "      <th>Tertarik</th>\n",
              "    </tr>\n",
              "  </thead>\n",
              "  <tbody>\n",
              "    <tr>\n",
              "      <th>0</th>\n",
              "      <td>1</td>\n",
              "      <td>Wanita</td>\n",
              "      <td>30.0</td>\n",
              "      <td>1.0</td>\n",
              "      <td>33.0</td>\n",
              "      <td>1.0</td>\n",
              "      <td>&lt; 1 Tahun</td>\n",
              "      <td>&lt; 1 Tahun</td>\n",
              "      <td>28029.0</td>\n",
              "      <td>152.0</td>\n",
              "      <td>97.0</td>\n",
              "      <td>0</td>\n",
              "    </tr>\n",
              "    <tr>\n",
              "      <th>1</th>\n",
              "      <td>2</td>\n",
              "      <td>Pria</td>\n",
              "      <td>48.0</td>\n",
              "      <td>1.0</td>\n",
              "      <td>39.0</td>\n",
              "      <td>0.0</td>\n",
              "      <td>&gt; 2 Tahun</td>\n",
              "      <td>Pernah</td>\n",
              "      <td>25800.0</td>\n",
              "      <td>29.0</td>\n",
              "      <td>158.0</td>\n",
              "      <td>0</td>\n",
              "    </tr>\n",
              "    <tr>\n",
              "      <th>2</th>\n",
              "      <td>3</td>\n",
              "      <td>NaN</td>\n",
              "      <td>21.0</td>\n",
              "      <td>1.0</td>\n",
              "      <td>46.0</td>\n",
              "      <td>1.0</td>\n",
              "      <td>&lt; 1 Tahun</td>\n",
              "      <td>Tidak</td>\n",
              "      <td>32733.0</td>\n",
              "      <td>160.0</td>\n",
              "      <td>119.0</td>\n",
              "      <td>0</td>\n",
              "    </tr>\n",
              "    <tr>\n",
              "      <th>3</th>\n",
              "      <td>4</td>\n",
              "      <td>Wanita</td>\n",
              "      <td>58.0</td>\n",
              "      <td>1.0</td>\n",
              "      <td>48.0</td>\n",
              "      <td>0.0</td>\n",
              "      <td>1-2 Tahun</td>\n",
              "      <td>Tidak</td>\n",
              "      <td>2630.0</td>\n",
              "      <td>124.0</td>\n",
              "      <td>63.0</td>\n",
              "      <td>0</td>\n",
              "    </tr>\n",
              "    <tr>\n",
              "      <th>4</th>\n",
              "      <td>5</td>\n",
              "      <td>Pria</td>\n",
              "      <td>50.0</td>\n",
              "      <td>1.0</td>\n",
              "      <td>35.0</td>\n",
              "      <td>0.0</td>\n",
              "      <td>&gt; 2 Tahun</td>\n",
              "      <td>NaN</td>\n",
              "      <td>34857.0</td>\n",
              "      <td>88.0</td>\n",
              "      <td>194.0</td>\n",
              "      <td>0</td>\n",
              "    </tr>\n",
              "  </tbody>\n",
              "</table>\n",
              "</div>\n",
              "      <button class=\"colab-df-convert\" onclick=\"convertToInteractive('df-d015c7ba-d3b4-41d5-aefe-0ca42d91ce17')\"\n",
              "              title=\"Convert this dataframe to an interactive table.\"\n",
              "              style=\"display:none;\">\n",
              "        \n",
              "  <svg xmlns=\"http://www.w3.org/2000/svg\" height=\"24px\"viewBox=\"0 0 24 24\"\n",
              "       width=\"24px\">\n",
              "    <path d=\"M0 0h24v24H0V0z\" fill=\"none\"/>\n",
              "    <path d=\"M18.56 5.44l.94 2.06.94-2.06 2.06-.94-2.06-.94-.94-2.06-.94 2.06-2.06.94zm-11 1L8.5 8.5l.94-2.06 2.06-.94-2.06-.94L8.5 2.5l-.94 2.06-2.06.94zm10 10l.94 2.06.94-2.06 2.06-.94-2.06-.94-.94-2.06-.94 2.06-2.06.94z\"/><path d=\"M17.41 7.96l-1.37-1.37c-.4-.4-.92-.59-1.43-.59-.52 0-1.04.2-1.43.59L10.3 9.45l-7.72 7.72c-.78.78-.78 2.05 0 2.83L4 21.41c.39.39.9.59 1.41.59.51 0 1.02-.2 1.41-.59l7.78-7.78 2.81-2.81c.8-.78.8-2.07 0-2.86zM5.41 20L4 18.59l7.72-7.72 1.47 1.35L5.41 20z\"/>\n",
              "  </svg>\n",
              "      </button>\n",
              "      \n",
              "  <style>\n",
              "    .colab-df-container {\n",
              "      display:flex;\n",
              "      flex-wrap:wrap;\n",
              "      gap: 12px;\n",
              "    }\n",
              "\n",
              "    .colab-df-convert {\n",
              "      background-color: #E8F0FE;\n",
              "      border: none;\n",
              "      border-radius: 50%;\n",
              "      cursor: pointer;\n",
              "      display: none;\n",
              "      fill: #1967D2;\n",
              "      height: 32px;\n",
              "      padding: 0 0 0 0;\n",
              "      width: 32px;\n",
              "    }\n",
              "\n",
              "    .colab-df-convert:hover {\n",
              "      background-color: #E2EBFA;\n",
              "      box-shadow: 0px 1px 2px rgba(60, 64, 67, 0.3), 0px 1px 3px 1px rgba(60, 64, 67, 0.15);\n",
              "      fill: #174EA6;\n",
              "    }\n",
              "\n",
              "    [theme=dark] .colab-df-convert {\n",
              "      background-color: #3B4455;\n",
              "      fill: #D2E3FC;\n",
              "    }\n",
              "\n",
              "    [theme=dark] .colab-df-convert:hover {\n",
              "      background-color: #434B5C;\n",
              "      box-shadow: 0px 1px 3px 1px rgba(0, 0, 0, 0.15);\n",
              "      filter: drop-shadow(0px 1px 2px rgba(0, 0, 0, 0.3));\n",
              "      fill: #FFFFFF;\n",
              "    }\n",
              "  </style>\n",
              "\n",
              "      <script>\n",
              "        const buttonEl =\n",
              "          document.querySelector('#df-d015c7ba-d3b4-41d5-aefe-0ca42d91ce17 button.colab-df-convert');\n",
              "        buttonEl.style.display =\n",
              "          google.colab.kernel.accessAllowed ? 'block' : 'none';\n",
              "\n",
              "        async function convertToInteractive(key) {\n",
              "          const element = document.querySelector('#df-d015c7ba-d3b4-41d5-aefe-0ca42d91ce17');\n",
              "          const dataTable =\n",
              "            await google.colab.kernel.invokeFunction('convertToInteractive',\n",
              "                                                     [key], {});\n",
              "          if (!dataTable) return;\n",
              "\n",
              "          const docLinkHtml = 'Like what you see? Visit the ' +\n",
              "            '<a target=\"_blank\" href=https://colab.research.google.com/notebooks/data_table.ipynb>data table notebook</a>'\n",
              "            + ' to learn more about interactive tables.';\n",
              "          element.innerHTML = '';\n",
              "          dataTable['output_type'] = 'display_data';\n",
              "          await google.colab.output.renderOutput(dataTable, element);\n",
              "          const docLink = document.createElement('div');\n",
              "          docLink.innerHTML = docLinkHtml;\n",
              "          element.appendChild(docLink);\n",
              "        }\n",
              "      </script>\n",
              "    </div>\n",
              "  </div>\n",
              "  "
            ],
            "text/plain": [
              "   id Jenis_Kelamin  Umur  ...  Kanal_Penjualan  Lama_Berlangganan  Tertarik\n",
              "0   1        Wanita  30.0  ...            152.0               97.0         0\n",
              "1   2          Pria  48.0  ...             29.0              158.0         0\n",
              "2   3           NaN  21.0  ...            160.0              119.0         0\n",
              "3   4        Wanita  58.0  ...            124.0               63.0         0\n",
              "4   5          Pria  50.0  ...             88.0              194.0         0\n",
              "\n",
              "[5 rows x 12 columns]"
            ]
          },
          "metadata": {},
          "execution_count": 4
        }
      ],
      "source": [
        "df_train.head()"
      ]
    },
    {
      "cell_type": "code",
      "execution_count": 5,
      "metadata": {
        "colab": {
          "base_uri": "https://localhost:8080/",
          "height": 206
        },
        "id": "xhoSeDFCw8J0",
        "outputId": "0024d5ee-6b0c-44c6-8c7a-315512aa6226"
      },
      "outputs": [
        {
          "output_type": "execute_result",
          "data": {
            "text/html": [
              "\n",
              "  <div id=\"df-474d9c36-a709-4a7b-981a-277b8b0ec3e0\">\n",
              "    <div class=\"colab-df-container\">\n",
              "      <div>\n",
              "<style scoped>\n",
              "    .dataframe tbody tr th:only-of-type {\n",
              "        vertical-align: middle;\n",
              "    }\n",
              "\n",
              "    .dataframe tbody tr th {\n",
              "        vertical-align: top;\n",
              "    }\n",
              "\n",
              "    .dataframe thead th {\n",
              "        text-align: right;\n",
              "    }\n",
              "</style>\n",
              "<table border=\"1\" class=\"dataframe\">\n",
              "  <thead>\n",
              "    <tr style=\"text-align: right;\">\n",
              "      <th></th>\n",
              "      <th>Jenis_Kelamin</th>\n",
              "      <th>Umur</th>\n",
              "      <th>SIM</th>\n",
              "      <th>Kode_Daerah</th>\n",
              "      <th>Sudah_Asuransi</th>\n",
              "      <th>Umur_Kendaraan</th>\n",
              "      <th>Kendaraan_Rusak</th>\n",
              "      <th>Premi</th>\n",
              "      <th>Kanal_Penjualan</th>\n",
              "      <th>Lama_Berlangganan</th>\n",
              "      <th>Tertarik</th>\n",
              "    </tr>\n",
              "  </thead>\n",
              "  <tbody>\n",
              "    <tr>\n",
              "      <th>0</th>\n",
              "      <td>Wanita</td>\n",
              "      <td>22</td>\n",
              "      <td>1</td>\n",
              "      <td>52</td>\n",
              "      <td>0</td>\n",
              "      <td>1-2 Tahun</td>\n",
              "      <td>Pernah</td>\n",
              "      <td>32895</td>\n",
              "      <td>124</td>\n",
              "      <td>71</td>\n",
              "      <td>1</td>\n",
              "    </tr>\n",
              "    <tr>\n",
              "      <th>1</th>\n",
              "      <td>Pria</td>\n",
              "      <td>54</td>\n",
              "      <td>1</td>\n",
              "      <td>52</td>\n",
              "      <td>0</td>\n",
              "      <td>1-2 Tahun</td>\n",
              "      <td>Pernah</td>\n",
              "      <td>43388</td>\n",
              "      <td>124</td>\n",
              "      <td>198</td>\n",
              "      <td>0</td>\n",
              "    </tr>\n",
              "    <tr>\n",
              "      <th>2</th>\n",
              "      <td>Wanita</td>\n",
              "      <td>24</td>\n",
              "      <td>1</td>\n",
              "      <td>52</td>\n",
              "      <td>0</td>\n",
              "      <td>1-2 Tahun</td>\n",
              "      <td>Pernah</td>\n",
              "      <td>45032</td>\n",
              "      <td>124</td>\n",
              "      <td>171</td>\n",
              "      <td>0</td>\n",
              "    </tr>\n",
              "    <tr>\n",
              "      <th>3</th>\n",
              "      <td>Wanita</td>\n",
              "      <td>78</td>\n",
              "      <td>1</td>\n",
              "      <td>52</td>\n",
              "      <td>0</td>\n",
              "      <td>&gt; 2 Tahun</td>\n",
              "      <td>Pernah</td>\n",
              "      <td>42825</td>\n",
              "      <td>26</td>\n",
              "      <td>208</td>\n",
              "      <td>1</td>\n",
              "    </tr>\n",
              "    <tr>\n",
              "      <th>4</th>\n",
              "      <td>Wanita</td>\n",
              "      <td>45</td>\n",
              "      <td>1</td>\n",
              "      <td>52</td>\n",
              "      <td>0</td>\n",
              "      <td>1-2 Tahun</td>\n",
              "      <td>Pernah</td>\n",
              "      <td>2630</td>\n",
              "      <td>26</td>\n",
              "      <td>228</td>\n",
              "      <td>0</td>\n",
              "    </tr>\n",
              "  </tbody>\n",
              "</table>\n",
              "</div>\n",
              "      <button class=\"colab-df-convert\" onclick=\"convertToInteractive('df-474d9c36-a709-4a7b-981a-277b8b0ec3e0')\"\n",
              "              title=\"Convert this dataframe to an interactive table.\"\n",
              "              style=\"display:none;\">\n",
              "        \n",
              "  <svg xmlns=\"http://www.w3.org/2000/svg\" height=\"24px\"viewBox=\"0 0 24 24\"\n",
              "       width=\"24px\">\n",
              "    <path d=\"M0 0h24v24H0V0z\" fill=\"none\"/>\n",
              "    <path d=\"M18.56 5.44l.94 2.06.94-2.06 2.06-.94-2.06-.94-.94-2.06-.94 2.06-2.06.94zm-11 1L8.5 8.5l.94-2.06 2.06-.94-2.06-.94L8.5 2.5l-.94 2.06-2.06.94zm10 10l.94 2.06.94-2.06 2.06-.94-2.06-.94-.94-2.06-.94 2.06-2.06.94z\"/><path d=\"M17.41 7.96l-1.37-1.37c-.4-.4-.92-.59-1.43-.59-.52 0-1.04.2-1.43.59L10.3 9.45l-7.72 7.72c-.78.78-.78 2.05 0 2.83L4 21.41c.39.39.9.59 1.41.59.51 0 1.02-.2 1.41-.59l7.78-7.78 2.81-2.81c.8-.78.8-2.07 0-2.86zM5.41 20L4 18.59l7.72-7.72 1.47 1.35L5.41 20z\"/>\n",
              "  </svg>\n",
              "      </button>\n",
              "      \n",
              "  <style>\n",
              "    .colab-df-container {\n",
              "      display:flex;\n",
              "      flex-wrap:wrap;\n",
              "      gap: 12px;\n",
              "    }\n",
              "\n",
              "    .colab-df-convert {\n",
              "      background-color: #E8F0FE;\n",
              "      border: none;\n",
              "      border-radius: 50%;\n",
              "      cursor: pointer;\n",
              "      display: none;\n",
              "      fill: #1967D2;\n",
              "      height: 32px;\n",
              "      padding: 0 0 0 0;\n",
              "      width: 32px;\n",
              "    }\n",
              "\n",
              "    .colab-df-convert:hover {\n",
              "      background-color: #E2EBFA;\n",
              "      box-shadow: 0px 1px 2px rgba(60, 64, 67, 0.3), 0px 1px 3px 1px rgba(60, 64, 67, 0.15);\n",
              "      fill: #174EA6;\n",
              "    }\n",
              "\n",
              "    [theme=dark] .colab-df-convert {\n",
              "      background-color: #3B4455;\n",
              "      fill: #D2E3FC;\n",
              "    }\n",
              "\n",
              "    [theme=dark] .colab-df-convert:hover {\n",
              "      background-color: #434B5C;\n",
              "      box-shadow: 0px 1px 3px 1px rgba(0, 0, 0, 0.15);\n",
              "      filter: drop-shadow(0px 1px 2px rgba(0, 0, 0, 0.3));\n",
              "      fill: #FFFFFF;\n",
              "    }\n",
              "  </style>\n",
              "\n",
              "      <script>\n",
              "        const buttonEl =\n",
              "          document.querySelector('#df-474d9c36-a709-4a7b-981a-277b8b0ec3e0 button.colab-df-convert');\n",
              "        buttonEl.style.display =\n",
              "          google.colab.kernel.accessAllowed ? 'block' : 'none';\n",
              "\n",
              "        async function convertToInteractive(key) {\n",
              "          const element = document.querySelector('#df-474d9c36-a709-4a7b-981a-277b8b0ec3e0');\n",
              "          const dataTable =\n",
              "            await google.colab.kernel.invokeFunction('convertToInteractive',\n",
              "                                                     [key], {});\n",
              "          if (!dataTable) return;\n",
              "\n",
              "          const docLinkHtml = 'Like what you see? Visit the ' +\n",
              "            '<a target=\"_blank\" href=https://colab.research.google.com/notebooks/data_table.ipynb>data table notebook</a>'\n",
              "            + ' to learn more about interactive tables.';\n",
              "          element.innerHTML = '';\n",
              "          dataTable['output_type'] = 'display_data';\n",
              "          await google.colab.output.renderOutput(dataTable, element);\n",
              "          const docLink = document.createElement('div');\n",
              "          docLink.innerHTML = docLinkHtml;\n",
              "          element.appendChild(docLink);\n",
              "        }\n",
              "      </script>\n",
              "    </div>\n",
              "  </div>\n",
              "  "
            ],
            "text/plain": [
              "  Jenis_Kelamin  Umur  SIM  ...  Kanal_Penjualan  Lama_Berlangganan Tertarik\n",
              "0        Wanita    22    1  ...              124                 71        1\n",
              "1          Pria    54    1  ...              124                198        0\n",
              "2        Wanita    24    1  ...              124                171        0\n",
              "3        Wanita    78    1  ...               26                208        1\n",
              "4        Wanita    45    1  ...               26                228        0\n",
              "\n",
              "[5 rows x 11 columns]"
            ]
          },
          "metadata": {},
          "execution_count": 5
        }
      ],
      "source": [
        "df_test.head()"
      ]
    },
    {
      "cell_type": "markdown",
      "metadata": {
        "id": "aUHZLG-BQoMb"
      },
      "source": [
        "### Explore Categorical Variable"
      ]
    },
    {
      "cell_type": "code",
      "execution_count": 6,
      "metadata": {
        "colab": {
          "base_uri": "https://localhost:8080/"
        },
        "id": "JxPVKSDk5tyL",
        "outputId": "06939e37-649c-4c5a-88ab-03cada444023"
      },
      "outputs": [
        {
          "output_type": "execute_result",
          "data": {
            "text/plain": [
              "Index(['id', 'Jenis_Kelamin', 'Umur', 'SIM', 'Kode_Daerah', 'Sudah_Asuransi',\n",
              "       'Umur_Kendaraan', 'Kendaraan_Rusak', 'Premi', 'Kanal_Penjualan',\n",
              "       'Lama_Berlangganan', 'Tertarik'],\n",
              "      dtype='object')"
            ]
          },
          "metadata": {},
          "execution_count": 6
        }
      ],
      "source": [
        "df_train_col = df_train.columns\n",
        "df_train_col"
      ]
    },
    {
      "cell_type": "code",
      "execution_count": 7,
      "metadata": {
        "colab": {
          "base_uri": "https://localhost:8080/"
        },
        "id": "XSdVGuJux-Um",
        "outputId": "6d14eb98-7eff-4564-dc10-3952bca978fa"
      },
      "outputs": [
        {
          "output_type": "execute_result",
          "data": {
            "text/plain": [
              "Index(['Jenis_Kelamin', 'Umur', 'SIM', 'Kode_Daerah', 'Sudah_Asuransi',\n",
              "       'Umur_Kendaraan', 'Kendaraan_Rusak', 'Premi', 'Kanal_Penjualan',\n",
              "       'Lama_Berlangganan', 'Tertarik'],\n",
              "      dtype='object')"
            ]
          },
          "metadata": {},
          "execution_count": 7
        }
      ],
      "source": [
        "df_test_col = df_test.columns\n",
        "df_test_col"
      ]
    },
    {
      "cell_type": "code",
      "execution_count": 8,
      "metadata": {
        "colab": {
          "base_uri": "https://localhost:8080/"
        },
        "id": "ZDocazsv8cf-",
        "outputId": "d665b974-fe17-4deb-bb56-9dceddff171f"
      },
      "outputs": [
        {
          "output_type": "stream",
          "name": "stdout",
          "text": [
            "<class 'pandas.core.frame.DataFrame'>\n",
            "RangeIndex: 285831 entries, 0 to 285830\n",
            "Data columns (total 12 columns):\n",
            " #   Column             Non-Null Count   Dtype  \n",
            "---  ------             --------------   -----  \n",
            " 0   id                 285831 non-null  int64  \n",
            " 1   Jenis_Kelamin      271391 non-null  object \n",
            " 2   Umur               271617 non-null  float64\n",
            " 3   SIM                271427 non-null  float64\n",
            " 4   Kode_Daerah        271525 non-null  float64\n",
            " 5   Sudah_Asuransi     271602 non-null  float64\n",
            " 6   Umur_Kendaraan     271556 non-null  object \n",
            " 7   Kendaraan_Rusak    271643 non-null  object \n",
            " 8   Premi              271262 non-null  float64\n",
            " 9   Kanal_Penjualan    271532 non-null  float64\n",
            " 10  Lama_Berlangganan  271839 non-null  float64\n",
            " 11  Tertarik           285831 non-null  int64  \n",
            "dtypes: float64(7), int64(2), object(3)\n",
            "memory usage: 26.2+ MB\n"
          ]
        }
      ],
      "source": [
        "#Melihat informasi dataset\n",
        "df_train.info()"
      ]
    },
    {
      "cell_type": "code",
      "execution_count": 9,
      "metadata": {
        "colab": {
          "base_uri": "https://localhost:8080/"
        },
        "id": "5_tzMlCCzGLf",
        "outputId": "8e5a828b-795f-424d-df04-68bfbe4c18f0"
      },
      "outputs": [
        {
          "output_type": "stream",
          "name": "stdout",
          "text": [
            "<class 'pandas.core.frame.DataFrame'>\n",
            "RangeIndex: 47639 entries, 0 to 47638\n",
            "Data columns (total 11 columns):\n",
            " #   Column             Non-Null Count  Dtype \n",
            "---  ------             --------------  ----- \n",
            " 0   Jenis_Kelamin      47639 non-null  object\n",
            " 1   Umur               47639 non-null  int64 \n",
            " 2   SIM                47639 non-null  int64 \n",
            " 3   Kode_Daerah        47639 non-null  int64 \n",
            " 4   Sudah_Asuransi     47639 non-null  int64 \n",
            " 5   Umur_Kendaraan     47639 non-null  object\n",
            " 6   Kendaraan_Rusak    47639 non-null  object\n",
            " 7   Premi              47639 non-null  int64 \n",
            " 8   Kanal_Penjualan    47639 non-null  int64 \n",
            " 9   Lama_Berlangganan  47639 non-null  int64 \n",
            " 10  Tertarik           47639 non-null  int64 \n",
            "dtypes: int64(8), object(3)\n",
            "memory usage: 4.0+ MB\n"
          ]
        }
      ],
      "source": [
        "df_test.info()"
      ]
    },
    {
      "cell_type": "code",
      "execution_count": 10,
      "metadata": {
        "colab": {
          "base_uri": "https://localhost:8080/"
        },
        "id": "jgb-i4PlDvwZ",
        "outputId": "60e06241-03b4-4e91-f302-2243f65428f0"
      },
      "outputs": [
        {
          "output_type": "stream",
          "name": "stdout",
          "text": [
            "Variabel kategori dalam dataset: ['Jenis_Kelamin', 'Umur_Kendaraan', 'Kendaraan_Rusak']\n"
          ]
        }
      ],
      "source": [
        "#Menemukan variabel categorical di data train\n",
        "s = (df_train.dtypes == 'object')\n",
        "df_train_categorical = list(s[s].index)\n",
        "print(\"Variabel kategori dalam dataset:\", df_train_categorical)"
      ]
    },
    {
      "cell_type": "code",
      "execution_count": 11,
      "metadata": {
        "colab": {
          "base_uri": "https://localhost:8080/"
        },
        "id": "MCy86xkcFLso",
        "outputId": "aa57d321-e752-4454-ae8a-297e369605e4"
      },
      "outputs": [
        {
          "output_type": "stream",
          "name": "stdout",
          "text": [
            "Variabel kategori dalam dataset: ['Jenis_Kelamin', 'Umur_Kendaraan', 'Kendaraan_Rusak']\n"
          ]
        }
      ],
      "source": [
        "#Menemukan variabel categorical di data test\n",
        "c = (df_test.dtypes == 'object')\n",
        "df_test_categorical = list(s[s].index)\n",
        "print(\"Variabel kategori dalam dataset:\", df_test_categorical)"
      ]
    },
    {
      "cell_type": "code",
      "execution_count": 12,
      "metadata": {
        "colab": {
          "base_uri": "https://localhost:8080/",
          "height": 0
        },
        "id": "mvyeEMb8Fooh",
        "outputId": "506f026a-09b5-4158-9167-bbd83bb88e56"
      },
      "outputs": [
        {
          "output_type": "execute_result",
          "data": {
            "text/html": [
              "\n",
              "  <div id=\"df-b4e52cdb-b146-46a0-8202-8279b55c86e9\">\n",
              "    <div class=\"colab-df-container\">\n",
              "      <div>\n",
              "<style scoped>\n",
              "    .dataframe tbody tr th:only-of-type {\n",
              "        vertical-align: middle;\n",
              "    }\n",
              "\n",
              "    .dataframe tbody tr th {\n",
              "        vertical-align: top;\n",
              "    }\n",
              "\n",
              "    .dataframe thead th {\n",
              "        text-align: right;\n",
              "    }\n",
              "</style>\n",
              "<table border=\"1\" class=\"dataframe\">\n",
              "  <thead>\n",
              "    <tr style=\"text-align: right;\">\n",
              "      <th></th>\n",
              "      <th>Jenis_Kelamin</th>\n",
              "      <th>Umur_Kendaraan</th>\n",
              "      <th>Kendaraan_Rusak</th>\n",
              "    </tr>\n",
              "  </thead>\n",
              "  <tbody>\n",
              "    <tr>\n",
              "      <th>0</th>\n",
              "      <td>Wanita</td>\n",
              "      <td>&lt; 1 Tahun</td>\n",
              "      <td>&lt; 1 Tahun</td>\n",
              "    </tr>\n",
              "    <tr>\n",
              "      <th>1</th>\n",
              "      <td>Pria</td>\n",
              "      <td>&gt; 2 Tahun</td>\n",
              "      <td>Pernah</td>\n",
              "    </tr>\n",
              "    <tr>\n",
              "      <th>2</th>\n",
              "      <td>NaN</td>\n",
              "      <td>&lt; 1 Tahun</td>\n",
              "      <td>Tidak</td>\n",
              "    </tr>\n",
              "    <tr>\n",
              "      <th>3</th>\n",
              "      <td>Wanita</td>\n",
              "      <td>1-2 Tahun</td>\n",
              "      <td>Tidak</td>\n",
              "    </tr>\n",
              "    <tr>\n",
              "      <th>4</th>\n",
              "      <td>Pria</td>\n",
              "      <td>&gt; 2 Tahun</td>\n",
              "      <td>NaN</td>\n",
              "    </tr>\n",
              "  </tbody>\n",
              "</table>\n",
              "</div>\n",
              "      <button class=\"colab-df-convert\" onclick=\"convertToInteractive('df-b4e52cdb-b146-46a0-8202-8279b55c86e9')\"\n",
              "              title=\"Convert this dataframe to an interactive table.\"\n",
              "              style=\"display:none;\">\n",
              "        \n",
              "  <svg xmlns=\"http://www.w3.org/2000/svg\" height=\"24px\"viewBox=\"0 0 24 24\"\n",
              "       width=\"24px\">\n",
              "    <path d=\"M0 0h24v24H0V0z\" fill=\"none\"/>\n",
              "    <path d=\"M18.56 5.44l.94 2.06.94-2.06 2.06-.94-2.06-.94-.94-2.06-.94 2.06-2.06.94zm-11 1L8.5 8.5l.94-2.06 2.06-.94-2.06-.94L8.5 2.5l-.94 2.06-2.06.94zm10 10l.94 2.06.94-2.06 2.06-.94-2.06-.94-.94-2.06-.94 2.06-2.06.94z\"/><path d=\"M17.41 7.96l-1.37-1.37c-.4-.4-.92-.59-1.43-.59-.52 0-1.04.2-1.43.59L10.3 9.45l-7.72 7.72c-.78.78-.78 2.05 0 2.83L4 21.41c.39.39.9.59 1.41.59.51 0 1.02-.2 1.41-.59l7.78-7.78 2.81-2.81c.8-.78.8-2.07 0-2.86zM5.41 20L4 18.59l7.72-7.72 1.47 1.35L5.41 20z\"/>\n",
              "  </svg>\n",
              "      </button>\n",
              "      \n",
              "  <style>\n",
              "    .colab-df-container {\n",
              "      display:flex;\n",
              "      flex-wrap:wrap;\n",
              "      gap: 12px;\n",
              "    }\n",
              "\n",
              "    .colab-df-convert {\n",
              "      background-color: #E8F0FE;\n",
              "      border: none;\n",
              "      border-radius: 50%;\n",
              "      cursor: pointer;\n",
              "      display: none;\n",
              "      fill: #1967D2;\n",
              "      height: 32px;\n",
              "      padding: 0 0 0 0;\n",
              "      width: 32px;\n",
              "    }\n",
              "\n",
              "    .colab-df-convert:hover {\n",
              "      background-color: #E2EBFA;\n",
              "      box-shadow: 0px 1px 2px rgba(60, 64, 67, 0.3), 0px 1px 3px 1px rgba(60, 64, 67, 0.15);\n",
              "      fill: #174EA6;\n",
              "    }\n",
              "\n",
              "    [theme=dark] .colab-df-convert {\n",
              "      background-color: #3B4455;\n",
              "      fill: #D2E3FC;\n",
              "    }\n",
              "\n",
              "    [theme=dark] .colab-df-convert:hover {\n",
              "      background-color: #434B5C;\n",
              "      box-shadow: 0px 1px 3px 1px rgba(0, 0, 0, 0.15);\n",
              "      filter: drop-shadow(0px 1px 2px rgba(0, 0, 0, 0.3));\n",
              "      fill: #FFFFFF;\n",
              "    }\n",
              "  </style>\n",
              "\n",
              "      <script>\n",
              "        const buttonEl =\n",
              "          document.querySelector('#df-b4e52cdb-b146-46a0-8202-8279b55c86e9 button.colab-df-convert');\n",
              "        buttonEl.style.display =\n",
              "          google.colab.kernel.accessAllowed ? 'block' : 'none';\n",
              "\n",
              "        async function convertToInteractive(key) {\n",
              "          const element = document.querySelector('#df-b4e52cdb-b146-46a0-8202-8279b55c86e9');\n",
              "          const dataTable =\n",
              "            await google.colab.kernel.invokeFunction('convertToInteractive',\n",
              "                                                     [key], {});\n",
              "          if (!dataTable) return;\n",
              "\n",
              "          const docLinkHtml = 'Like what you see? Visit the ' +\n",
              "            '<a target=\"_blank\" href=https://colab.research.google.com/notebooks/data_table.ipynb>data table notebook</a>'\n",
              "            + ' to learn more about interactive tables.';\n",
              "          element.innerHTML = '';\n",
              "          dataTable['output_type'] = 'display_data';\n",
              "          await google.colab.output.renderOutput(dataTable, element);\n",
              "          const docLink = document.createElement('div');\n",
              "          docLink.innerHTML = docLinkHtml;\n",
              "          element.appendChild(docLink);\n",
              "        }\n",
              "      </script>\n",
              "    </div>\n",
              "  </div>\n",
              "  "
            ],
            "text/plain": [
              "  Jenis_Kelamin Umur_Kendaraan Kendaraan_Rusak\n",
              "0        Wanita      < 1 Tahun       < 1 Tahun\n",
              "1          Pria      > 2 Tahun          Pernah\n",
              "2           NaN      < 1 Tahun           Tidak\n",
              "3        Wanita      1-2 Tahun           Tidak\n",
              "4          Pria      > 2 Tahun             NaN"
            ]
          },
          "metadata": {},
          "execution_count": 12
        }
      ],
      "source": [
        "#Melihat variabel categorical data_train\n",
        "df_train[df_train_categorical].head()"
      ]
    },
    {
      "cell_type": "code",
      "execution_count": 13,
      "metadata": {
        "colab": {
          "base_uri": "https://localhost:8080/",
          "height": 0
        },
        "id": "COHowQhzFzkg",
        "outputId": "740bf1fd-93a4-4e5e-80eb-9fd1166be4a8"
      },
      "outputs": [
        {
          "output_type": "execute_result",
          "data": {
            "text/html": [
              "\n",
              "  <div id=\"df-f91af227-39d2-4838-962e-ea1b8465b41f\">\n",
              "    <div class=\"colab-df-container\">\n",
              "      <div>\n",
              "<style scoped>\n",
              "    .dataframe tbody tr th:only-of-type {\n",
              "        vertical-align: middle;\n",
              "    }\n",
              "\n",
              "    .dataframe tbody tr th {\n",
              "        vertical-align: top;\n",
              "    }\n",
              "\n",
              "    .dataframe thead th {\n",
              "        text-align: right;\n",
              "    }\n",
              "</style>\n",
              "<table border=\"1\" class=\"dataframe\">\n",
              "  <thead>\n",
              "    <tr style=\"text-align: right;\">\n",
              "      <th></th>\n",
              "      <th>Jenis_Kelamin</th>\n",
              "      <th>Umur_Kendaraan</th>\n",
              "      <th>Kendaraan_Rusak</th>\n",
              "    </tr>\n",
              "  </thead>\n",
              "  <tbody>\n",
              "    <tr>\n",
              "      <th>0</th>\n",
              "      <td>Wanita</td>\n",
              "      <td>1-2 Tahun</td>\n",
              "      <td>Pernah</td>\n",
              "    </tr>\n",
              "    <tr>\n",
              "      <th>1</th>\n",
              "      <td>Pria</td>\n",
              "      <td>1-2 Tahun</td>\n",
              "      <td>Pernah</td>\n",
              "    </tr>\n",
              "    <tr>\n",
              "      <th>2</th>\n",
              "      <td>Wanita</td>\n",
              "      <td>1-2 Tahun</td>\n",
              "      <td>Pernah</td>\n",
              "    </tr>\n",
              "    <tr>\n",
              "      <th>3</th>\n",
              "      <td>Wanita</td>\n",
              "      <td>&gt; 2 Tahun</td>\n",
              "      <td>Pernah</td>\n",
              "    </tr>\n",
              "    <tr>\n",
              "      <th>4</th>\n",
              "      <td>Wanita</td>\n",
              "      <td>1-2 Tahun</td>\n",
              "      <td>Pernah</td>\n",
              "    </tr>\n",
              "  </tbody>\n",
              "</table>\n",
              "</div>\n",
              "      <button class=\"colab-df-convert\" onclick=\"convertToInteractive('df-f91af227-39d2-4838-962e-ea1b8465b41f')\"\n",
              "              title=\"Convert this dataframe to an interactive table.\"\n",
              "              style=\"display:none;\">\n",
              "        \n",
              "  <svg xmlns=\"http://www.w3.org/2000/svg\" height=\"24px\"viewBox=\"0 0 24 24\"\n",
              "       width=\"24px\">\n",
              "    <path d=\"M0 0h24v24H0V0z\" fill=\"none\"/>\n",
              "    <path d=\"M18.56 5.44l.94 2.06.94-2.06 2.06-.94-2.06-.94-.94-2.06-.94 2.06-2.06.94zm-11 1L8.5 8.5l.94-2.06 2.06-.94-2.06-.94L8.5 2.5l-.94 2.06-2.06.94zm10 10l.94 2.06.94-2.06 2.06-.94-2.06-.94-.94-2.06-.94 2.06-2.06.94z\"/><path d=\"M17.41 7.96l-1.37-1.37c-.4-.4-.92-.59-1.43-.59-.52 0-1.04.2-1.43.59L10.3 9.45l-7.72 7.72c-.78.78-.78 2.05 0 2.83L4 21.41c.39.39.9.59 1.41.59.51 0 1.02-.2 1.41-.59l7.78-7.78 2.81-2.81c.8-.78.8-2.07 0-2.86zM5.41 20L4 18.59l7.72-7.72 1.47 1.35L5.41 20z\"/>\n",
              "  </svg>\n",
              "      </button>\n",
              "      \n",
              "  <style>\n",
              "    .colab-df-container {\n",
              "      display:flex;\n",
              "      flex-wrap:wrap;\n",
              "      gap: 12px;\n",
              "    }\n",
              "\n",
              "    .colab-df-convert {\n",
              "      background-color: #E8F0FE;\n",
              "      border: none;\n",
              "      border-radius: 50%;\n",
              "      cursor: pointer;\n",
              "      display: none;\n",
              "      fill: #1967D2;\n",
              "      height: 32px;\n",
              "      padding: 0 0 0 0;\n",
              "      width: 32px;\n",
              "    }\n",
              "\n",
              "    .colab-df-convert:hover {\n",
              "      background-color: #E2EBFA;\n",
              "      box-shadow: 0px 1px 2px rgba(60, 64, 67, 0.3), 0px 1px 3px 1px rgba(60, 64, 67, 0.15);\n",
              "      fill: #174EA6;\n",
              "    }\n",
              "\n",
              "    [theme=dark] .colab-df-convert {\n",
              "      background-color: #3B4455;\n",
              "      fill: #D2E3FC;\n",
              "    }\n",
              "\n",
              "    [theme=dark] .colab-df-convert:hover {\n",
              "      background-color: #434B5C;\n",
              "      box-shadow: 0px 1px 3px 1px rgba(0, 0, 0, 0.15);\n",
              "      filter: drop-shadow(0px 1px 2px rgba(0, 0, 0, 0.3));\n",
              "      fill: #FFFFFF;\n",
              "    }\n",
              "  </style>\n",
              "\n",
              "      <script>\n",
              "        const buttonEl =\n",
              "          document.querySelector('#df-f91af227-39d2-4838-962e-ea1b8465b41f button.colab-df-convert');\n",
              "        buttonEl.style.display =\n",
              "          google.colab.kernel.accessAllowed ? 'block' : 'none';\n",
              "\n",
              "        async function convertToInteractive(key) {\n",
              "          const element = document.querySelector('#df-f91af227-39d2-4838-962e-ea1b8465b41f');\n",
              "          const dataTable =\n",
              "            await google.colab.kernel.invokeFunction('convertToInteractive',\n",
              "                                                     [key], {});\n",
              "          if (!dataTable) return;\n",
              "\n",
              "          const docLinkHtml = 'Like what you see? Visit the ' +\n",
              "            '<a target=\"_blank\" href=https://colab.research.google.com/notebooks/data_table.ipynb>data table notebook</a>'\n",
              "            + ' to learn more about interactive tables.';\n",
              "          element.innerHTML = '';\n",
              "          dataTable['output_type'] = 'display_data';\n",
              "          await google.colab.output.renderOutput(dataTable, element);\n",
              "          const docLink = document.createElement('div');\n",
              "          docLink.innerHTML = docLinkHtml;\n",
              "          element.appendChild(docLink);\n",
              "        }\n",
              "      </script>\n",
              "    </div>\n",
              "  </div>\n",
              "  "
            ],
            "text/plain": [
              "  Jenis_Kelamin Umur_Kendaraan Kendaraan_Rusak\n",
              "0        Wanita      1-2 Tahun          Pernah\n",
              "1          Pria      1-2 Tahun          Pernah\n",
              "2        Wanita      1-2 Tahun          Pernah\n",
              "3        Wanita      > 2 Tahun          Pernah\n",
              "4        Wanita      1-2 Tahun          Pernah"
            ]
          },
          "metadata": {},
          "execution_count": 13
        }
      ],
      "source": [
        "#Melihat variabel categorical data_train\n",
        "df_test[df_test_categorical].head()"
      ]
    },
    {
      "cell_type": "markdown",
      "metadata": {
        "id": "g_fhQRgeGNu6"
      },
      "source": [
        "Ada 3 variabel categorical yaitu 'Jenis_Kelamin', 'Umur_Kendaraan', 'Kendaraan_Rusak'"
      ]
    },
    {
      "cell_type": "code",
      "execution_count": 14,
      "metadata": {
        "colab": {
          "base_uri": "https://localhost:8080/"
        },
        "id": "D0MC1KK7IRXa",
        "outputId": "ce1dbbd5-862b-49af-e217-1cac1d69a30f"
      },
      "outputs": [
        {
          "output_type": "stream",
          "name": "stdout",
          "text": [
            "Pria      146678\n",
            "Wanita    124713\n",
            "Name: Jenis_Kelamin, dtype: int64\n",
            "1-2 Tahun    142761\n",
            "< 1 Tahun    117378\n",
            "> 2 Tahun     11417\n",
            "Name: Umur_Kendaraan, dtype: int64\n",
            "Pernah       137123\n",
            "Tidak        134519\n",
            "< 1 Tahun         1\n",
            "Name: Kendaraan_Rusak, dtype: int64\n"
          ]
        }
      ],
      "source": [
        "# Melihat frequensi dari variabel categorical data train\n",
        "for var in df_train_categorical: \n",
        "    print(df_train[var].value_counts())"
      ]
    },
    {
      "cell_type": "code",
      "execution_count": 15,
      "metadata": {
        "id": "760XuGk9Kyq-"
      },
      "outputs": [],
      "source": [
        "# data index ke 0 didrop karene terdapat data noise \n",
        "# pada kolom 'Kendaraan_Rusak'\n",
        "df_train = df_train.iloc[1: , :]"
      ]
    },
    {
      "cell_type": "code",
      "execution_count": 16,
      "metadata": {
        "colab": {
          "base_uri": "https://localhost:8080/"
        },
        "id": "zghFm2IYK-Kh",
        "outputId": "a97cc80c-69be-4193-b2bf-f377a5d4768a"
      },
      "outputs": [
        {
          "output_type": "stream",
          "name": "stdout",
          "text": [
            "Pria      146678\n",
            "Wanita    124712\n",
            "Name: Jenis_Kelamin, dtype: int64\n",
            "1-2 Tahun    142761\n",
            "< 1 Tahun    117377\n",
            "> 2 Tahun     11417\n",
            "Name: Umur_Kendaraan, dtype: int64\n",
            "Pernah    137123\n",
            "Tidak     134519\n",
            "Name: Kendaraan_Rusak, dtype: int64\n"
          ]
        }
      ],
      "source": [
        "# Melihat frequensi dari variabel categorical data train\n",
        "# setelah drop noise\n",
        "for var in df_train_categorical: \n",
        "    print(df_train[var].value_counts())"
      ]
    },
    {
      "cell_type": "code",
      "execution_count": 17,
      "metadata": {
        "colab": {
          "base_uri": "https://localhost:8080/"
        },
        "id": "jE-tJrOWJrBi",
        "outputId": "8590b93b-16aa-408d-c7ea-0a6b3051ee4e"
      },
      "outputs": [
        {
          "output_type": "stream",
          "name": "stdout",
          "text": [
            "Pria      0.513165\n",
            "Wanita    0.436315\n",
            "Name: Jenis_Kelamin, dtype: float64\n",
            "1-2 Tahun    0.499461\n",
            "< 1 Tahun    0.410653\n",
            "> 2 Tahun    0.039943\n",
            "Name: Umur_Kendaraan, dtype: float64\n",
            "Pernah    0.479736\n",
            "Tidak     0.470626\n",
            "Name: Kendaraan_Rusak, dtype: float64\n"
          ]
        }
      ],
      "source": [
        "#Melihat persentase dari variabel categorical data train\n",
        "for var in df_train_categorical: \n",
        "    print(df_train[var].value_counts()/np.float(len(df_train)))"
      ]
    },
    {
      "cell_type": "code",
      "execution_count": 18,
      "metadata": {
        "colab": {
          "base_uri": "https://localhost:8080/"
        },
        "id": "8VM3f6uhJWeG",
        "outputId": "0583915a-b412-4cff-a201-3f6a3df874c8"
      },
      "outputs": [
        {
          "output_type": "stream",
          "name": "stdout",
          "text": [
            "Pria      25870\n",
            "Wanita    21769\n",
            "Name: Jenis_Kelamin, dtype: int64\n",
            "1-2 Tahun    24966\n",
            "< 1 Tahun    20692\n",
            "> 2 Tahun     1981\n",
            "Name: Umur_Kendaraan, dtype: int64\n",
            "Pernah    24041\n",
            "Tidak     23598\n",
            "Name: Kendaraan_Rusak, dtype: int64\n"
          ]
        }
      ],
      "source": [
        "#Melihat frequensi dari variabel categorical data test\n",
        "for var in df_test_categorical: \n",
        "    print(df_test[var].value_counts())"
      ]
    },
    {
      "cell_type": "code",
      "execution_count": 19,
      "metadata": {
        "colab": {
          "base_uri": "https://localhost:8080/"
        },
        "id": "agxW0RtOKC1O",
        "outputId": "5d959524-eb62-4945-ad77-07d85508fd01"
      },
      "outputs": [
        {
          "output_type": "stream",
          "name": "stdout",
          "text": [
            "Pria      0.543042\n",
            "Wanita    0.456958\n",
            "Name: Jenis_Kelamin, dtype: float64\n",
            "1-2 Tahun    0.524066\n",
            "< 1 Tahun    0.434350\n",
            "> 2 Tahun    0.041584\n",
            "Name: Umur_Kendaraan, dtype: float64\n",
            "Pernah    0.50465\n",
            "Tidak     0.49535\n",
            "Name: Kendaraan_Rusak, dtype: float64\n"
          ]
        }
      ],
      "source": [
        "#Melihat persentase dari variabel categorical\n",
        "for var in df_test_categorical: \n",
        "    print(df_test[var].value_counts()/np.float(len(df_test)))"
      ]
    },
    {
      "cell_type": "code",
      "execution_count": 20,
      "metadata": {
        "colab": {
          "base_uri": "https://localhost:8080/"
        },
        "id": "muDHlO5NPSYq",
        "outputId": "046b08b4-ea5e-4538-da7f-446b5813076e"
      },
      "outputs": [
        {
          "output_type": "execute_result",
          "data": {
            "text/plain": [
              "Jenis_Kelamin      14440\n",
              "Umur_Kendaraan     14275\n",
              "Kendaraan_Rusak    14188\n",
              "dtype: int64"
            ]
          },
          "metadata": {},
          "execution_count": 20
        }
      ],
      "source": [
        "#Cek missing value dalam variabel categorical data train\n",
        "df_train[df_train_categorical].isnull().sum()"
      ]
    },
    {
      "cell_type": "markdown",
      "metadata": {
        "id": "QEZjYk7YQx8p"
      },
      "source": [
        "### Explore Numerical Variable"
      ]
    },
    {
      "cell_type": "code",
      "execution_count": 21,
      "metadata": {
        "colab": {
          "base_uri": "https://localhost:8080/"
        },
        "id": "q2sPH_DfQkWq",
        "outputId": "18e71c20-9114-41d7-afac-9e4cb051b245"
      },
      "outputs": [
        {
          "output_type": "stream",
          "name": "stdout",
          "text": [
            "Ada 9 variabel numerical\n",
            "\n",
            "Variabel numeric diantaranya : ['id', 'Umur', 'SIM', 'Kode_Daerah', 'Sudah_Asuransi', 'Premi', 'Kanal_Penjualan', 'Lama_Berlangganan', 'Tertarik']\n"
          ]
        }
      ],
      "source": [
        "# Menemukan variabel numeric\n",
        "df_train_numerical = [var for var in df_train.columns if df_train[var].dtype!='O']\n",
        "print('Ada {} variabel numerical\\n'.format(len(df_train_numerical)))\n",
        "print('Variabel numeric diantaranya :', df_train_numerical)"
      ]
    },
    {
      "cell_type": "code",
      "execution_count": 22,
      "metadata": {
        "colab": {
          "base_uri": "https://localhost:8080/",
          "height": 206
        },
        "id": "1guR7dBaRwFS",
        "outputId": "a863da02-8574-4385-cff6-387d47ca422b"
      },
      "outputs": [
        {
          "output_type": "execute_result",
          "data": {
            "text/html": [
              "\n",
              "  <div id=\"df-01f22a09-2c08-4a0b-9c3f-17ccbe3dadac\">\n",
              "    <div class=\"colab-df-container\">\n",
              "      <div>\n",
              "<style scoped>\n",
              "    .dataframe tbody tr th:only-of-type {\n",
              "        vertical-align: middle;\n",
              "    }\n",
              "\n",
              "    .dataframe tbody tr th {\n",
              "        vertical-align: top;\n",
              "    }\n",
              "\n",
              "    .dataframe thead th {\n",
              "        text-align: right;\n",
              "    }\n",
              "</style>\n",
              "<table border=\"1\" class=\"dataframe\">\n",
              "  <thead>\n",
              "    <tr style=\"text-align: right;\">\n",
              "      <th></th>\n",
              "      <th>id</th>\n",
              "      <th>Umur</th>\n",
              "      <th>SIM</th>\n",
              "      <th>Kode_Daerah</th>\n",
              "      <th>Sudah_Asuransi</th>\n",
              "      <th>Premi</th>\n",
              "      <th>Kanal_Penjualan</th>\n",
              "      <th>Lama_Berlangganan</th>\n",
              "      <th>Tertarik</th>\n",
              "    </tr>\n",
              "  </thead>\n",
              "  <tbody>\n",
              "    <tr>\n",
              "      <th>1</th>\n",
              "      <td>2</td>\n",
              "      <td>48.0</td>\n",
              "      <td>1.0</td>\n",
              "      <td>39.0</td>\n",
              "      <td>0.0</td>\n",
              "      <td>25800.0</td>\n",
              "      <td>29.0</td>\n",
              "      <td>158.0</td>\n",
              "      <td>0</td>\n",
              "    </tr>\n",
              "    <tr>\n",
              "      <th>2</th>\n",
              "      <td>3</td>\n",
              "      <td>21.0</td>\n",
              "      <td>1.0</td>\n",
              "      <td>46.0</td>\n",
              "      <td>1.0</td>\n",
              "      <td>32733.0</td>\n",
              "      <td>160.0</td>\n",
              "      <td>119.0</td>\n",
              "      <td>0</td>\n",
              "    </tr>\n",
              "    <tr>\n",
              "      <th>3</th>\n",
              "      <td>4</td>\n",
              "      <td>58.0</td>\n",
              "      <td>1.0</td>\n",
              "      <td>48.0</td>\n",
              "      <td>0.0</td>\n",
              "      <td>2630.0</td>\n",
              "      <td>124.0</td>\n",
              "      <td>63.0</td>\n",
              "      <td>0</td>\n",
              "    </tr>\n",
              "    <tr>\n",
              "      <th>4</th>\n",
              "      <td>5</td>\n",
              "      <td>50.0</td>\n",
              "      <td>1.0</td>\n",
              "      <td>35.0</td>\n",
              "      <td>0.0</td>\n",
              "      <td>34857.0</td>\n",
              "      <td>88.0</td>\n",
              "      <td>194.0</td>\n",
              "      <td>0</td>\n",
              "    </tr>\n",
              "    <tr>\n",
              "      <th>5</th>\n",
              "      <td>6</td>\n",
              "      <td>21.0</td>\n",
              "      <td>1.0</td>\n",
              "      <td>35.0</td>\n",
              "      <td>1.0</td>\n",
              "      <td>22735.0</td>\n",
              "      <td>152.0</td>\n",
              "      <td>171.0</td>\n",
              "      <td>0</td>\n",
              "    </tr>\n",
              "  </tbody>\n",
              "</table>\n",
              "</div>\n",
              "      <button class=\"colab-df-convert\" onclick=\"convertToInteractive('df-01f22a09-2c08-4a0b-9c3f-17ccbe3dadac')\"\n",
              "              title=\"Convert this dataframe to an interactive table.\"\n",
              "              style=\"display:none;\">\n",
              "        \n",
              "  <svg xmlns=\"http://www.w3.org/2000/svg\" height=\"24px\"viewBox=\"0 0 24 24\"\n",
              "       width=\"24px\">\n",
              "    <path d=\"M0 0h24v24H0V0z\" fill=\"none\"/>\n",
              "    <path d=\"M18.56 5.44l.94 2.06.94-2.06 2.06-.94-2.06-.94-.94-2.06-.94 2.06-2.06.94zm-11 1L8.5 8.5l.94-2.06 2.06-.94-2.06-.94L8.5 2.5l-.94 2.06-2.06.94zm10 10l.94 2.06.94-2.06 2.06-.94-2.06-.94-.94-2.06-.94 2.06-2.06.94z\"/><path d=\"M17.41 7.96l-1.37-1.37c-.4-.4-.92-.59-1.43-.59-.52 0-1.04.2-1.43.59L10.3 9.45l-7.72 7.72c-.78.78-.78 2.05 0 2.83L4 21.41c.39.39.9.59 1.41.59.51 0 1.02-.2 1.41-.59l7.78-7.78 2.81-2.81c.8-.78.8-2.07 0-2.86zM5.41 20L4 18.59l7.72-7.72 1.47 1.35L5.41 20z\"/>\n",
              "  </svg>\n",
              "      </button>\n",
              "      \n",
              "  <style>\n",
              "    .colab-df-container {\n",
              "      display:flex;\n",
              "      flex-wrap:wrap;\n",
              "      gap: 12px;\n",
              "    }\n",
              "\n",
              "    .colab-df-convert {\n",
              "      background-color: #E8F0FE;\n",
              "      border: none;\n",
              "      border-radius: 50%;\n",
              "      cursor: pointer;\n",
              "      display: none;\n",
              "      fill: #1967D2;\n",
              "      height: 32px;\n",
              "      padding: 0 0 0 0;\n",
              "      width: 32px;\n",
              "    }\n",
              "\n",
              "    .colab-df-convert:hover {\n",
              "      background-color: #E2EBFA;\n",
              "      box-shadow: 0px 1px 2px rgba(60, 64, 67, 0.3), 0px 1px 3px 1px rgba(60, 64, 67, 0.15);\n",
              "      fill: #174EA6;\n",
              "    }\n",
              "\n",
              "    [theme=dark] .colab-df-convert {\n",
              "      background-color: #3B4455;\n",
              "      fill: #D2E3FC;\n",
              "    }\n",
              "\n",
              "    [theme=dark] .colab-df-convert:hover {\n",
              "      background-color: #434B5C;\n",
              "      box-shadow: 0px 1px 3px 1px rgba(0, 0, 0, 0.15);\n",
              "      filter: drop-shadow(0px 1px 2px rgba(0, 0, 0, 0.3));\n",
              "      fill: #FFFFFF;\n",
              "    }\n",
              "  </style>\n",
              "\n",
              "      <script>\n",
              "        const buttonEl =\n",
              "          document.querySelector('#df-01f22a09-2c08-4a0b-9c3f-17ccbe3dadac button.colab-df-convert');\n",
              "        buttonEl.style.display =\n",
              "          google.colab.kernel.accessAllowed ? 'block' : 'none';\n",
              "\n",
              "        async function convertToInteractive(key) {\n",
              "          const element = document.querySelector('#df-01f22a09-2c08-4a0b-9c3f-17ccbe3dadac');\n",
              "          const dataTable =\n",
              "            await google.colab.kernel.invokeFunction('convertToInteractive',\n",
              "                                                     [key], {});\n",
              "          if (!dataTable) return;\n",
              "\n",
              "          const docLinkHtml = 'Like what you see? Visit the ' +\n",
              "            '<a target=\"_blank\" href=https://colab.research.google.com/notebooks/data_table.ipynb>data table notebook</a>'\n",
              "            + ' to learn more about interactive tables.';\n",
              "          element.innerHTML = '';\n",
              "          dataTable['output_type'] = 'display_data';\n",
              "          await google.colab.output.renderOutput(dataTable, element);\n",
              "          const docLink = document.createElement('div');\n",
              "          docLink.innerHTML = docLinkHtml;\n",
              "          element.appendChild(docLink);\n",
              "        }\n",
              "      </script>\n",
              "    </div>\n",
              "  </div>\n",
              "  "
            ],
            "text/plain": [
              "   id  Umur  SIM  ...  Kanal_Penjualan  Lama_Berlangganan  Tertarik\n",
              "1   2  48.0  1.0  ...             29.0              158.0         0\n",
              "2   3  21.0  1.0  ...            160.0              119.0         0\n",
              "3   4  58.0  1.0  ...            124.0               63.0         0\n",
              "4   5  50.0  1.0  ...             88.0              194.0         0\n",
              "5   6  21.0  1.0  ...            152.0              171.0         0\n",
              "\n",
              "[5 rows x 9 columns]"
            ]
          },
          "metadata": {},
          "execution_count": 22
        }
      ],
      "source": [
        "# Melihat variabel numerik dalam train set\n",
        "df_train[df_train_numerical].head()"
      ]
    },
    {
      "cell_type": "markdown",
      "metadata": {
        "id": "fNYRV20bSCny"
      },
      "source": [
        "Ada 9 variabel numerik yaitu 'id', 'Umur', 'SIM', 'Kode_Daerah', 'Sudah_Asuransi', 'Premi', 'Kanal_Penjualan', 'Lama_Berlangganan', 'Tertarik'. Variabel 'Tertarik' adalah target."
      ]
    },
    {
      "cell_type": "code",
      "execution_count": 23,
      "metadata": {
        "colab": {
          "base_uri": "https://localhost:8080/"
        },
        "id": "MOQqYsbjR8R0",
        "outputId": "cc2189e7-aeba-49c0-d899-97dc599e2225"
      },
      "outputs": [
        {
          "output_type": "execute_result",
          "data": {
            "text/plain": [
              "id                       0\n",
              "Umur                 14214\n",
              "SIM                  14404\n",
              "Kode_Daerah          14306\n",
              "Sudah_Asuransi       14229\n",
              "Premi                14569\n",
              "Kanal_Penjualan      14299\n",
              "Lama_Berlangganan    13992\n",
              "Tertarik                 0\n",
              "dtype: int64"
            ]
          },
          "metadata": {},
          "execution_count": 23
        }
      ],
      "source": [
        "df_train[df_train_numerical].isnull().sum()"
      ]
    },
    {
      "cell_type": "markdown",
      "metadata": {
        "id": "OVZWTPPaS49Q"
      },
      "source": [
        "Terdapat 7 variabel numeric yang mempunyai missing value"
      ]
    },
    {
      "cell_type": "code",
      "execution_count": 24,
      "metadata": {
        "colab": {
          "base_uri": "https://localhost:8080/",
          "height": 332
        },
        "id": "t-PqTZKikul9",
        "outputId": "ccd8c880-a99c-4732-af13-b602862f254e"
      },
      "outputs": [
        {
          "output_type": "execute_result",
          "data": {
            "text/html": [
              "\n",
              "  <div id=\"df-a1c40bcd-af8b-45f4-831e-498226cf7237\">\n",
              "    <div class=\"colab-df-container\">\n",
              "      <div>\n",
              "<style scoped>\n",
              "    .dataframe tbody tr th:only-of-type {\n",
              "        vertical-align: middle;\n",
              "    }\n",
              "\n",
              "    .dataframe tbody tr th {\n",
              "        vertical-align: top;\n",
              "    }\n",
              "\n",
              "    .dataframe thead th {\n",
              "        text-align: right;\n",
              "    }\n",
              "</style>\n",
              "<table border=\"1\" class=\"dataframe\">\n",
              "  <thead>\n",
              "    <tr style=\"text-align: right;\">\n",
              "      <th></th>\n",
              "      <th>count</th>\n",
              "      <th>mean</th>\n",
              "      <th>std</th>\n",
              "      <th>min</th>\n",
              "      <th>25%</th>\n",
              "      <th>50%</th>\n",
              "      <th>75%</th>\n",
              "      <th>max</th>\n",
              "    </tr>\n",
              "  </thead>\n",
              "  <tbody>\n",
              "    <tr>\n",
              "      <th>id</th>\n",
              "      <td>285830.0</td>\n",
              "      <td>142916.50</td>\n",
              "      <td>82512.16</td>\n",
              "      <td>2.0</td>\n",
              "      <td>71459.25</td>\n",
              "      <td>142916.5</td>\n",
              "      <td>214373.75</td>\n",
              "      <td>285831.0</td>\n",
              "    </tr>\n",
              "    <tr>\n",
              "      <th>Umur</th>\n",
              "      <td>271616.0</td>\n",
              "      <td>38.84</td>\n",
              "      <td>15.52</td>\n",
              "      <td>20.0</td>\n",
              "      <td>25.00</td>\n",
              "      <td>36.0</td>\n",
              "      <td>49.00</td>\n",
              "      <td>85.0</td>\n",
              "    </tr>\n",
              "    <tr>\n",
              "      <th>SIM</th>\n",
              "      <td>271426.0</td>\n",
              "      <td>1.00</td>\n",
              "      <td>0.05</td>\n",
              "      <td>0.0</td>\n",
              "      <td>1.00</td>\n",
              "      <td>1.0</td>\n",
              "      <td>1.00</td>\n",
              "      <td>1.0</td>\n",
              "    </tr>\n",
              "    <tr>\n",
              "      <th>Kode_Daerah</th>\n",
              "      <td>271524.0</td>\n",
              "      <td>26.41</td>\n",
              "      <td>13.25</td>\n",
              "      <td>0.0</td>\n",
              "      <td>15.00</td>\n",
              "      <td>28.0</td>\n",
              "      <td>35.00</td>\n",
              "      <td>52.0</td>\n",
              "    </tr>\n",
              "    <tr>\n",
              "      <th>Sudah_Asuransi</th>\n",
              "      <td>271601.0</td>\n",
              "      <td>0.46</td>\n",
              "      <td>0.50</td>\n",
              "      <td>0.0</td>\n",
              "      <td>0.00</td>\n",
              "      <td>0.0</td>\n",
              "      <td>1.00</td>\n",
              "      <td>1.0</td>\n",
              "    </tr>\n",
              "    <tr>\n",
              "      <th>Premi</th>\n",
              "      <td>271261.0</td>\n",
              "      <td>30536.69</td>\n",
              "      <td>17155.03</td>\n",
              "      <td>2630.0</td>\n",
              "      <td>24398.00</td>\n",
              "      <td>31646.0</td>\n",
              "      <td>39378.00</td>\n",
              "      <td>540165.0</td>\n",
              "    </tr>\n",
              "    <tr>\n",
              "      <th>Kanal_Penjualan</th>\n",
              "      <td>271531.0</td>\n",
              "      <td>112.02</td>\n",
              "      <td>54.20</td>\n",
              "      <td>1.0</td>\n",
              "      <td>29.00</td>\n",
              "      <td>132.0</td>\n",
              "      <td>152.00</td>\n",
              "      <td>163.0</td>\n",
              "    </tr>\n",
              "    <tr>\n",
              "      <th>Lama_Berlangganan</th>\n",
              "      <td>271838.0</td>\n",
              "      <td>154.29</td>\n",
              "      <td>83.69</td>\n",
              "      <td>10.0</td>\n",
              "      <td>82.00</td>\n",
              "      <td>154.0</td>\n",
              "      <td>227.00</td>\n",
              "      <td>299.0</td>\n",
              "    </tr>\n",
              "    <tr>\n",
              "      <th>Tertarik</th>\n",
              "      <td>285830.0</td>\n",
              "      <td>0.12</td>\n",
              "      <td>0.33</td>\n",
              "      <td>0.0</td>\n",
              "      <td>0.00</td>\n",
              "      <td>0.0</td>\n",
              "      <td>0.00</td>\n",
              "      <td>1.0</td>\n",
              "    </tr>\n",
              "  </tbody>\n",
              "</table>\n",
              "</div>\n",
              "      <button class=\"colab-df-convert\" onclick=\"convertToInteractive('df-a1c40bcd-af8b-45f4-831e-498226cf7237')\"\n",
              "              title=\"Convert this dataframe to an interactive table.\"\n",
              "              style=\"display:none;\">\n",
              "        \n",
              "  <svg xmlns=\"http://www.w3.org/2000/svg\" height=\"24px\"viewBox=\"0 0 24 24\"\n",
              "       width=\"24px\">\n",
              "    <path d=\"M0 0h24v24H0V0z\" fill=\"none\"/>\n",
              "    <path d=\"M18.56 5.44l.94 2.06.94-2.06 2.06-.94-2.06-.94-.94-2.06-.94 2.06-2.06.94zm-11 1L8.5 8.5l.94-2.06 2.06-.94-2.06-.94L8.5 2.5l-.94 2.06-2.06.94zm10 10l.94 2.06.94-2.06 2.06-.94-2.06-.94-.94-2.06-.94 2.06-2.06.94z\"/><path d=\"M17.41 7.96l-1.37-1.37c-.4-.4-.92-.59-1.43-.59-.52 0-1.04.2-1.43.59L10.3 9.45l-7.72 7.72c-.78.78-.78 2.05 0 2.83L4 21.41c.39.39.9.59 1.41.59.51 0 1.02-.2 1.41-.59l7.78-7.78 2.81-2.81c.8-.78.8-2.07 0-2.86zM5.41 20L4 18.59l7.72-7.72 1.47 1.35L5.41 20z\"/>\n",
              "  </svg>\n",
              "      </button>\n",
              "      \n",
              "  <style>\n",
              "    .colab-df-container {\n",
              "      display:flex;\n",
              "      flex-wrap:wrap;\n",
              "      gap: 12px;\n",
              "    }\n",
              "\n",
              "    .colab-df-convert {\n",
              "      background-color: #E8F0FE;\n",
              "      border: none;\n",
              "      border-radius: 50%;\n",
              "      cursor: pointer;\n",
              "      display: none;\n",
              "      fill: #1967D2;\n",
              "      height: 32px;\n",
              "      padding: 0 0 0 0;\n",
              "      width: 32px;\n",
              "    }\n",
              "\n",
              "    .colab-df-convert:hover {\n",
              "      background-color: #E2EBFA;\n",
              "      box-shadow: 0px 1px 2px rgba(60, 64, 67, 0.3), 0px 1px 3px 1px rgba(60, 64, 67, 0.15);\n",
              "      fill: #174EA6;\n",
              "    }\n",
              "\n",
              "    [theme=dark] .colab-df-convert {\n",
              "      background-color: #3B4455;\n",
              "      fill: #D2E3FC;\n",
              "    }\n",
              "\n",
              "    [theme=dark] .colab-df-convert:hover {\n",
              "      background-color: #434B5C;\n",
              "      box-shadow: 0px 1px 3px 1px rgba(0, 0, 0, 0.15);\n",
              "      filter: drop-shadow(0px 1px 2px rgba(0, 0, 0, 0.3));\n",
              "      fill: #FFFFFF;\n",
              "    }\n",
              "  </style>\n",
              "\n",
              "      <script>\n",
              "        const buttonEl =\n",
              "          document.querySelector('#df-a1c40bcd-af8b-45f4-831e-498226cf7237 button.colab-df-convert');\n",
              "        buttonEl.style.display =\n",
              "          google.colab.kernel.accessAllowed ? 'block' : 'none';\n",
              "\n",
              "        async function convertToInteractive(key) {\n",
              "          const element = document.querySelector('#df-a1c40bcd-af8b-45f4-831e-498226cf7237');\n",
              "          const dataTable =\n",
              "            await google.colab.kernel.invokeFunction('convertToInteractive',\n",
              "                                                     [key], {});\n",
              "          if (!dataTable) return;\n",
              "\n",
              "          const docLinkHtml = 'Like what you see? Visit the ' +\n",
              "            '<a target=\"_blank\" href=https://colab.research.google.com/notebooks/data_table.ipynb>data table notebook</a>'\n",
              "            + ' to learn more about interactive tables.';\n",
              "          element.innerHTML = '';\n",
              "          dataTable['output_type'] = 'display_data';\n",
              "          await google.colab.output.renderOutput(dataTable, element);\n",
              "          const docLink = document.createElement('div');\n",
              "          docLink.innerHTML = docLinkHtml;\n",
              "          element.appendChild(docLink);\n",
              "        }\n",
              "      </script>\n",
              "    </div>\n",
              "  </div>\n",
              "  "
            ],
            "text/plain": [
              "                      count       mean       std  ...       50%        75%       max\n",
              "id                 285830.0  142916.50  82512.16  ...  142916.5  214373.75  285831.0\n",
              "Umur               271616.0      38.84     15.52  ...      36.0      49.00      85.0\n",
              "SIM                271426.0       1.00      0.05  ...       1.0       1.00       1.0\n",
              "Kode_Daerah        271524.0      26.41     13.25  ...      28.0      35.00      52.0\n",
              "Sudah_Asuransi     271601.0       0.46      0.50  ...       0.0       1.00       1.0\n",
              "Premi              271261.0   30536.69  17155.03  ...   31646.0   39378.00  540165.0\n",
              "Kanal_Penjualan    271531.0     112.02     54.20  ...     132.0     152.00     163.0\n",
              "Lama_Berlangganan  271838.0     154.29     83.69  ...     154.0     227.00     299.0\n",
              "Tertarik           285830.0       0.12      0.33  ...       0.0       0.00       1.0\n",
              "\n",
              "[9 rows x 8 columns]"
            ]
          },
          "metadata": {},
          "execution_count": 24
        }
      ],
      "source": [
        "#Melihat rangkuman statistika dari data train\n",
        "round((df_train.describe().T),2)"
      ]
    },
    {
      "cell_type": "code",
      "execution_count": 25,
      "metadata": {
        "colab": {
          "base_uri": "https://localhost:8080/",
          "height": 348
        },
        "id": "BzJtiIgW1D2D",
        "outputId": "ecba510b-a40f-4336-ce1f-618faa1681e9"
      },
      "outputs": [
        {
          "output_type": "stream",
          "name": "stdout",
          "text": [
            "Tidak tertarik 87.75 % dari dataset\n",
            "Tertarik 12.25 % dari dataset\n",
            "\n"
          ]
        },
        {
          "output_type": "execute_result",
          "data": {
            "text/plain": [
              "<matplotlib.axes._subplots.AxesSubplot at 0x7f7ff870d210>"
            ]
          },
          "metadata": {},
          "execution_count": 25
        },
        {
          "output_type": "display_data",
          "data": {
            "image/png": "[encoded data removed]",
            "text/plain": [
              "<Figure size 432x288 with 1 Axes>"
            ]
          },
          "metadata": {
            "needs_background": "light"
          }
        }
      ],
      "source": [
        "#Melihat distribusi data di variabel target\n",
        "print('Tidak tertarik', round(df_train['Tertarik'].value_counts()[0]/len(df_train) * 100,2), '% dari dataset')\n",
        "print('Tertarik', round(df_train['Tertarik'].value_counts()[1]/len(df_train) * 100,2), '% dari dataset\\n')\n",
        "colours=[\"#f7b2b0\",\"#8f7198\", \"#003f5c\"]\n",
        "sns.countplot(data= df_train, x=\"Tertarik\",palette=colours)"
      ]
    },
    {
      "cell_type": "markdown",
      "metadata": {
        "id": "D68FHyYQsJlB"
      },
      "source": [
        "Plot jumlah target menunjukkan imbalance dalam data. Hal ini akan cenderung memberikan akurasi klasifikasi yang menyesatkan."
      ]
    },
    {
      "cell_type": "code",
      "execution_count": 26,
      "metadata": {
        "colab": {
          "base_uri": "https://localhost:8080/",
          "height": 300
        },
        "id": "Mz1ga03dkxKr",
        "outputId": "0c85833a-c50e-4f07-aee1-33b7b6c8aefd"
      },
      "outputs": [
        {
          "output_type": "execute_result",
          "data": {
            "text/html": [
              "\n",
              "  <div id=\"df-c99ce128-d487-452e-bb7a-b905fea9cfda\">\n",
              "    <div class=\"colab-df-container\">\n",
              "      <div>\n",
              "<style scoped>\n",
              "    .dataframe tbody tr th:only-of-type {\n",
              "        vertical-align: middle;\n",
              "    }\n",
              "\n",
              "    .dataframe tbody tr th {\n",
              "        vertical-align: top;\n",
              "    }\n",
              "\n",
              "    .dataframe thead th {\n",
              "        text-align: right;\n",
              "    }\n",
              "</style>\n",
              "<table border=\"1\" class=\"dataframe\">\n",
              "  <thead>\n",
              "    <tr style=\"text-align: right;\">\n",
              "      <th></th>\n",
              "      <th>count</th>\n",
              "      <th>mean</th>\n",
              "      <th>std</th>\n",
              "      <th>min</th>\n",
              "      <th>25%</th>\n",
              "      <th>50%</th>\n",
              "      <th>75%</th>\n",
              "      <th>max</th>\n",
              "    </tr>\n",
              "  </thead>\n",
              "  <tbody>\n",
              "    <tr>\n",
              "      <th>Umur</th>\n",
              "      <td>47639.0</td>\n",
              "      <td>38.82</td>\n",
              "      <td>15.55</td>\n",
              "      <td>20.0</td>\n",
              "      <td>25.0</td>\n",
              "      <td>36.0</td>\n",
              "      <td>49.0</td>\n",
              "      <td>85.0</td>\n",
              "    </tr>\n",
              "    <tr>\n",
              "      <th>SIM</th>\n",
              "      <td>47639.0</td>\n",
              "      <td>1.00</td>\n",
              "      <td>0.05</td>\n",
              "      <td>0.0</td>\n",
              "      <td>1.0</td>\n",
              "      <td>1.0</td>\n",
              "      <td>1.0</td>\n",
              "      <td>1.0</td>\n",
              "    </tr>\n",
              "    <tr>\n",
              "      <th>Kode_Daerah</th>\n",
              "      <td>47639.0</td>\n",
              "      <td>26.33</td>\n",
              "      <td>13.21</td>\n",
              "      <td>0.0</td>\n",
              "      <td>15.0</td>\n",
              "      <td>28.0</td>\n",
              "      <td>35.0</td>\n",
              "      <td>52.0</td>\n",
              "    </tr>\n",
              "    <tr>\n",
              "      <th>Sudah_Asuransi</th>\n",
              "      <td>47639.0</td>\n",
              "      <td>0.46</td>\n",
              "      <td>0.50</td>\n",
              "      <td>0.0</td>\n",
              "      <td>0.0</td>\n",
              "      <td>0.0</td>\n",
              "      <td>1.0</td>\n",
              "      <td>1.0</td>\n",
              "    </tr>\n",
              "    <tr>\n",
              "      <th>Premi</th>\n",
              "      <td>47639.0</td>\n",
              "      <td>30626.48</td>\n",
              "      <td>17404.79</td>\n",
              "      <td>2630.0</td>\n",
              "      <td>24395.5</td>\n",
              "      <td>31738.0</td>\n",
              "      <td>39474.5</td>\n",
              "      <td>540165.0</td>\n",
              "    </tr>\n",
              "    <tr>\n",
              "      <th>Kanal_Penjualan</th>\n",
              "      <td>47639.0</td>\n",
              "      <td>112.18</td>\n",
              "      <td>54.16</td>\n",
              "      <td>1.0</td>\n",
              "      <td>29.0</td>\n",
              "      <td>135.0</td>\n",
              "      <td>152.0</td>\n",
              "      <td>163.0</td>\n",
              "    </tr>\n",
              "    <tr>\n",
              "      <th>Lama_Berlangganan</th>\n",
              "      <td>47639.0</td>\n",
              "      <td>154.45</td>\n",
              "      <td>83.64</td>\n",
              "      <td>10.0</td>\n",
              "      <td>82.0</td>\n",
              "      <td>155.0</td>\n",
              "      <td>227.0</td>\n",
              "      <td>299.0</td>\n",
              "    </tr>\n",
              "    <tr>\n",
              "      <th>Tertarik</th>\n",
              "      <td>47639.0</td>\n",
              "      <td>0.12</td>\n",
              "      <td>0.33</td>\n",
              "      <td>0.0</td>\n",
              "      <td>0.0</td>\n",
              "      <td>0.0</td>\n",
              "      <td>0.0</td>\n",
              "      <td>1.0</td>\n",
              "    </tr>\n",
              "  </tbody>\n",
              "</table>\n",
              "</div>\n",
              "      <button class=\"colab-df-convert\" onclick=\"convertToInteractive('df-c99ce128-d487-452e-bb7a-b905fea9cfda')\"\n",
              "              title=\"Convert this dataframe to an interactive table.\"\n",
              "              style=\"display:none;\">\n",
              "        \n",
              "  <svg xmlns=\"http://www.w3.org/2000/svg\" height=\"24px\"viewBox=\"0 0 24 24\"\n",
              "       width=\"24px\">\n",
              "    <path d=\"M0 0h24v24H0V0z\" fill=\"none\"/>\n",
              "    <path d=\"M18.56 5.44l.94 2.06.94-2.06 2.06-.94-2.06-.94-.94-2.06-.94 2.06-2.06.94zm-11 1L8.5 8.5l.94-2.06 2.06-.94-2.06-.94L8.5 2.5l-.94 2.06-2.06.94zm10 10l.94 2.06.94-2.06 2.06-.94-2.06-.94-.94-2.06-.94 2.06-2.06.94z\"/><path d=\"M17.41 7.96l-1.37-1.37c-.4-.4-.92-.59-1.43-.59-.52 0-1.04.2-1.43.59L10.3 9.45l-7.72 7.72c-.78.78-.78 2.05 0 2.83L4 21.41c.39.39.9.59 1.41.59.51 0 1.02-.2 1.41-.59l7.78-7.78 2.81-2.81c.8-.78.8-2.07 0-2.86zM5.41 20L4 18.59l7.72-7.72 1.47 1.35L5.41 20z\"/>\n",
              "  </svg>\n",
              "      </button>\n",
              "      \n",
              "  <style>\n",
              "    .colab-df-container {\n",
              "      display:flex;\n",
              "      flex-wrap:wrap;\n",
              "      gap: 12px;\n",
              "    }\n",
              "\n",
              "    .colab-df-convert {\n",
              "      background-color: #E8F0FE;\n",
              "      border: none;\n",
              "      border-radius: 50%;\n",
              "      cursor: pointer;\n",
              "      display: none;\n",
              "      fill: #1967D2;\n",
              "      height: 32px;\n",
              "      padding: 0 0 0 0;\n",
              "      width: 32px;\n",
              "    }\n",
              "\n",
              "    .colab-df-convert:hover {\n",
              "      background-color: #E2EBFA;\n",
              "      box-shadow: 0px 1px 2px rgba(60, 64, 67, 0.3), 0px 1px 3px 1px rgba(60, 64, 67, 0.15);\n",
              "      fill: #174EA6;\n",
              "    }\n",
              "\n",
              "    [theme=dark] .colab-df-convert {\n",
              "      background-color: #3B4455;\n",
              "      fill: #D2E3FC;\n",
              "    }\n",
              "\n",
              "    [theme=dark] .colab-df-convert:hover {\n",
              "      background-color: #434B5C;\n",
              "      box-shadow: 0px 1px 3px 1px rgba(0, 0, 0, 0.15);\n",
              "      filter: drop-shadow(0px 1px 2px rgba(0, 0, 0, 0.3));\n",
              "      fill: #FFFFFF;\n",
              "    }\n",
              "  </style>\n",
              "\n",
              "      <script>\n",
              "        const buttonEl =\n",
              "          document.querySelector('#df-c99ce128-d487-452e-bb7a-b905fea9cfda button.colab-df-convert');\n",
              "        buttonEl.style.display =\n",
              "          google.colab.kernel.accessAllowed ? 'block' : 'none';\n",
              "\n",
              "        async function convertToInteractive(key) {\n",
              "          const element = document.querySelector('#df-c99ce128-d487-452e-bb7a-b905fea9cfda');\n",
              "          const dataTable =\n",
              "            await google.colab.kernel.invokeFunction('convertToInteractive',\n",
              "                                                     [key], {});\n",
              "          if (!dataTable) return;\n",
              "\n",
              "          const docLinkHtml = 'Like what you see? Visit the ' +\n",
              "            '<a target=\"_blank\" href=https://colab.research.google.com/notebooks/data_table.ipynb>data table notebook</a>'\n",
              "            + ' to learn more about interactive tables.';\n",
              "          element.innerHTML = '';\n",
              "          dataTable['output_type'] = 'display_data';\n",
              "          await google.colab.output.renderOutput(dataTable, element);\n",
              "          const docLink = document.createElement('div');\n",
              "          docLink.innerHTML = docLinkHtml;\n",
              "          element.appendChild(docLink);\n",
              "        }\n",
              "      </script>\n",
              "    </div>\n",
              "  </div>\n",
              "  "
            ],
            "text/plain": [
              "                     count      mean       std  ...      50%      75%       max\n",
              "Umur               47639.0     38.82     15.55  ...     36.0     49.0      85.0\n",
              "SIM                47639.0      1.00      0.05  ...      1.0      1.0       1.0\n",
              "Kode_Daerah        47639.0     26.33     13.21  ...     28.0     35.0      52.0\n",
              "Sudah_Asuransi     47639.0      0.46      0.50  ...      0.0      1.0       1.0\n",
              "Premi              47639.0  30626.48  17404.79  ...  31738.0  39474.5  540165.0\n",
              "Kanal_Penjualan    47639.0    112.18     54.16  ...    135.0    152.0     163.0\n",
              "Lama_Berlangganan  47639.0    154.45     83.64  ...    155.0    227.0     299.0\n",
              "Tertarik           47639.0      0.12      0.33  ...      0.0      0.0       1.0\n",
              "\n",
              "[8 rows x 8 columns]"
            ]
          },
          "metadata": {},
          "execution_count": 26
        }
      ],
      "source": [
        "round((df_test.describe().T),2)"
      ]
    },
    {
      "cell_type": "markdown",
      "metadata": {
        "id": "wp6u3EdFbV03"
      },
      "source": [
        "Berdasarkan korelasi terlihat bahwa fitur 'Sudah_Asuransi', 'Kanal_Penjualan', dan 'Umur' adalah fitur-fitur yang memiliki korelasi yang tinggi dengan 'Tertarik'."
      ]
    },
    {
      "cell_type": "code",
      "execution_count": 27,
      "metadata": {
        "id": "g5-7Kjtfc9db"
      },
      "outputs": [],
      "source": [
        "colours=[\"#f7b2b0\",\"#8f7198\", \"#003f5c\"]"
      ]
    },
    {
      "cell_type": "markdown",
      "metadata": {
        "id": "K8NshE2d9LP3"
      },
      "source": [
        "# Data Pre-Processing"
      ]
    },
    {
      "cell_type": "markdown",
      "metadata": {
        "id": "M3cVLEj_mDRG"
      },
      "source": [
        "## Data Train"
      ]
    },
    {
      "cell_type": "code",
      "execution_count": 28,
      "metadata": {
        "colab": {
          "base_uri": "https://localhost:8080/",
          "height": 224
        },
        "id": "M7kK9VTK84wo",
        "outputId": "b919d2d8-290f-40b7-df50-f5fb14e2e74d"
      },
      "outputs": [
        {
          "output_type": "stream",
          "name": "stdout",
          "text": [
            "Jumlah Data : 285830\n"
          ]
        },
        {
          "output_type": "execute_result",
          "data": {
            "text/html": [
              "\n",
              "  <div id=\"df-6c2b7edf-ca98-4801-b144-bde0bdf3d209\">\n",
              "    <div class=\"colab-df-container\">\n",
              "      <div>\n",
              "<style scoped>\n",
              "    .dataframe tbody tr th:only-of-type {\n",
              "        vertical-align: middle;\n",
              "    }\n",
              "\n",
              "    .dataframe tbody tr th {\n",
              "        vertical-align: top;\n",
              "    }\n",
              "\n",
              "    .dataframe thead th {\n",
              "        text-align: right;\n",
              "    }\n",
              "</style>\n",
              "<table border=\"1\" class=\"dataframe\">\n",
              "  <thead>\n",
              "    <tr style=\"text-align: right;\">\n",
              "      <th></th>\n",
              "      <th>Jenis_Kelamin</th>\n",
              "      <th>Umur</th>\n",
              "      <th>SIM</th>\n",
              "      <th>Kode_Daerah</th>\n",
              "      <th>Sudah_Asuransi</th>\n",
              "      <th>Umur_Kendaraan</th>\n",
              "      <th>Kendaraan_Rusak</th>\n",
              "      <th>Premi</th>\n",
              "      <th>Kanal_Penjualan</th>\n",
              "      <th>Lama_Berlangganan</th>\n",
              "      <th>Tertarik</th>\n",
              "    </tr>\n",
              "  </thead>\n",
              "  <tbody>\n",
              "    <tr>\n",
              "      <th>85251</th>\n",
              "      <td>Wanita</td>\n",
              "      <td>45.0</td>\n",
              "      <td>1.0</td>\n",
              "      <td>28.0</td>\n",
              "      <td>1.0</td>\n",
              "      <td>1-2 Tahun</td>\n",
              "      <td>Tidak</td>\n",
              "      <td>39165.0</td>\n",
              "      <td>26.0</td>\n",
              "      <td>166.0</td>\n",
              "      <td>0</td>\n",
              "    </tr>\n",
              "    <tr>\n",
              "      <th>204077</th>\n",
              "      <td>Wanita</td>\n",
              "      <td>24.0</td>\n",
              "      <td>1.0</td>\n",
              "      <td>45.0</td>\n",
              "      <td>0.0</td>\n",
              "      <td>&lt; 1 Tahun</td>\n",
              "      <td>NaN</td>\n",
              "      <td>30919.0</td>\n",
              "      <td>152.0</td>\n",
              "      <td>265.0</td>\n",
              "      <td>0</td>\n",
              "    </tr>\n",
              "    <tr>\n",
              "      <th>262692</th>\n",
              "      <td>Pria</td>\n",
              "      <td>44.0</td>\n",
              "      <td>NaN</td>\n",
              "      <td>36.0</td>\n",
              "      <td>0.0</td>\n",
              "      <td>1-2 Tahun</td>\n",
              "      <td>Pernah</td>\n",
              "      <td>35937.0</td>\n",
              "      <td>124.0</td>\n",
              "      <td>160.0</td>\n",
              "      <td>0</td>\n",
              "    </tr>\n",
              "    <tr>\n",
              "      <th>57243</th>\n",
              "      <td>Pria</td>\n",
              "      <td>30.0</td>\n",
              "      <td>1.0</td>\n",
              "      <td>28.0</td>\n",
              "      <td>0.0</td>\n",
              "      <td>&lt; 1 Tahun</td>\n",
              "      <td>Pernah</td>\n",
              "      <td>NaN</td>\n",
              "      <td>122.0</td>\n",
              "      <td>172.0</td>\n",
              "      <td>0</td>\n",
              "    </tr>\n",
              "    <tr>\n",
              "      <th>180790</th>\n",
              "      <td>Wanita</td>\n",
              "      <td>20.0</td>\n",
              "      <td>1.0</td>\n",
              "      <td>43.0</td>\n",
              "      <td>1.0</td>\n",
              "      <td>&lt; 1 Tahun</td>\n",
              "      <td>Tidak</td>\n",
              "      <td>2630.0</td>\n",
              "      <td>160.0</td>\n",
              "      <td>104.0</td>\n",
              "      <td>0</td>\n",
              "    </tr>\n",
              "  </tbody>\n",
              "</table>\n",
              "</div>\n",
              "      <button class=\"colab-df-convert\" onclick=\"convertToInteractive('df-6c2b7edf-ca98-4801-b144-bde0bdf3d209')\"\n",
              "              title=\"Convert this dataframe to an interactive table.\"\n",
              "              style=\"display:none;\">\n",
              "        \n",
              "  <svg xmlns=\"http://www.w3.org/2000/svg\" height=\"24px\"viewBox=\"0 0 24 24\"\n",
              "       width=\"24px\">\n",
              "    <path d=\"M0 0h24v24H0V0z\" fill=\"none\"/>\n",
              "    <path d=\"M18.56 5.44l.94 2.06.94-2.06 2.06-.94-2.06-.94-.94-2.06-.94 2.06-2.06.94zm-11 1L8.5 8.5l.94-2.06 2.06-.94-2.06-.94L8.5 2.5l-.94 2.06-2.06.94zm10 10l.94 2.06.94-2.06 2.06-.94-2.06-.94-.94-2.06-.94 2.06-2.06.94z\"/><path d=\"M17.41 7.96l-1.37-1.37c-.4-.4-.92-.59-1.43-.59-.52 0-1.04.2-1.43.59L10.3 9.45l-7.72 7.72c-.78.78-.78 2.05 0 2.83L4 21.41c.39.39.9.59 1.41.59.51 0 1.02-.2 1.41-.59l7.78-7.78 2.81-2.81c.8-.78.8-2.07 0-2.86zM5.41 20L4 18.59l7.72-7.72 1.47 1.35L5.41 20z\"/>\n",
              "  </svg>\n",
              "      </button>\n",
              "      \n",
              "  <style>\n",
              "    .colab-df-container {\n",
              "      display:flex;\n",
              "      flex-wrap:wrap;\n",
              "      gap: 12px;\n",
              "    }\n",
              "\n",
              "    .colab-df-convert {\n",
              "      background-color: #E8F0FE;\n",
              "      border: none;\n",
              "      border-radius: 50%;\n",
              "      cursor: pointer;\n",
              "      display: none;\n",
              "      fill: #1967D2;\n",
              "      height: 32px;\n",
              "      padding: 0 0 0 0;\n",
              "      width: 32px;\n",
              "    }\n",
              "\n",
              "    .colab-df-convert:hover {\n",
              "      background-color: #E2EBFA;\n",
              "      box-shadow: 0px 1px 2px rgba(60, 64, 67, 0.3), 0px 1px 3px 1px rgba(60, 64, 67, 0.15);\n",
              "      fill: #174EA6;\n",
              "    }\n",
              "\n",
              "    [theme=dark] .colab-df-convert {\n",
              "      background-color: #3B4455;\n",
              "      fill: #D2E3FC;\n",
              "    }\n",
              "\n",
              "    [theme=dark] .colab-df-convert:hover {\n",
              "      background-color: #434B5C;\n",
              "      box-shadow: 0px 1px 3px 1px rgba(0, 0, 0, 0.15);\n",
              "      filter: drop-shadow(0px 1px 2px rgba(0, 0, 0, 0.3));\n",
              "      fill: #FFFFFF;\n",
              "    }\n",
              "  </style>\n",
              "\n",
              "      <script>\n",
              "        const buttonEl =\n",
              "          document.querySelector('#df-6c2b7edf-ca98-4801-b144-bde0bdf3d209 button.colab-df-convert');\n",
              "        buttonEl.style.display =\n",
              "          google.colab.kernel.accessAllowed ? 'block' : 'none';\n",
              "\n",
              "        async function convertToInteractive(key) {\n",
              "          const element = document.querySelector('#df-6c2b7edf-ca98-4801-b144-bde0bdf3d209');\n",
              "          const dataTable =\n",
              "            await google.colab.kernel.invokeFunction('convertToInteractive',\n",
              "                                                     [key], {});\n",
              "          if (!dataTable) return;\n",
              "\n",
              "          const docLinkHtml = 'Like what you see? Visit the ' +\n",
              "            '<a target=\"_blank\" href=https://colab.research.google.com/notebooks/data_table.ipynb>data table notebook</a>'\n",
              "            + ' to learn more about interactive tables.';\n",
              "          element.innerHTML = '';\n",
              "          dataTable['output_type'] = 'display_data';\n",
              "          await google.colab.output.renderOutput(dataTable, element);\n",
              "          const docLink = document.createElement('div');\n",
              "          docLink.innerHTML = docLinkHtml;\n",
              "          element.appendChild(docLink);\n",
              "        }\n",
              "      </script>\n",
              "    </div>\n",
              "  </div>\n",
              "  "
            ],
            "text/plain": [
              "       Jenis_Kelamin  Umur  SIM  ...  Kanal_Penjualan  Lama_Berlangganan Tertarik\n",
              "85251         Wanita  45.0  1.0  ...             26.0              166.0        0\n",
              "204077        Wanita  24.0  1.0  ...            152.0              265.0        0\n",
              "262692          Pria  44.0  NaN  ...            124.0              160.0        0\n",
              "57243           Pria  30.0  1.0  ...            122.0              172.0        0\n",
              "180790        Wanita  20.0  1.0  ...            160.0              104.0        0\n",
              "\n",
              "[5 rows x 11 columns]"
            ]
          },
          "metadata": {},
          "execution_count": 28
        }
      ],
      "source": [
        "# Mengdrop kolom ID karena tidak diperlukan\n",
        "\n",
        "df_train.drop(['id'], axis=1, inplace=True)\n",
        "\n",
        "print(\"Jumlah Data :\", len(df_train))\n",
        "df_train.sample(5)"
      ]
    },
    {
      "cell_type": "code",
      "execution_count": 29,
      "metadata": {
        "colab": {
          "base_uri": "https://localhost:8080/"
        },
        "id": "mqUJhCU_ZU5Q",
        "outputId": "2c4f42e6-fa6f-49b4-8326-810eb62cf3b1"
      },
      "outputs": [
        {
          "output_type": "execute_result",
          "data": {
            "text/plain": [
              "Jenis_Kelamin        0\n",
              "Umur                 0\n",
              "SIM                  0\n",
              "Kode_Daerah          0\n",
              "Sudah_Asuransi       0\n",
              "Umur_Kendaraan       0\n",
              "Kendaraan_Rusak      0\n",
              "Premi                0\n",
              "Kanal_Penjualan      0\n",
              "Lama_Berlangganan    0\n",
              "Tertarik             0\n",
              "dtype: int64"
            ]
          },
          "metadata": {},
          "execution_count": 29
        }
      ],
      "source": [
        "df_test.isna().sum()"
      ]
    },
    {
      "cell_type": "code",
      "execution_count": 30,
      "metadata": {
        "colab": {
          "base_uri": "https://localhost:8080/"
        },
        "id": "HFNPH_tkFDwu",
        "outputId": "1959c38d-08aa-4c2c-8a41-8e69713b1d7d"
      },
      "outputs": [
        {
          "output_type": "stream",
          "name": "stdout",
          "text": [
            "Data Double : 169\n"
          ]
        }
      ],
      "source": [
        "# Mengecek data yang bernilai sama pada data train\n",
        "double = list(df_train.duplicated())\n",
        "print(\"Data Double :\", double.count(True))"
      ]
    },
    {
      "cell_type": "code",
      "execution_count": 31,
      "metadata": {
        "id": "LScWZuy_GU5O"
      },
      "outputs": [],
      "source": [
        "# Mengdrop data yang double\n",
        "df_train.drop_duplicates(inplace=True)"
      ]
    },
    {
      "cell_type": "code",
      "execution_count": 32,
      "metadata": {
        "colab": {
          "base_uri": "https://localhost:8080/"
        },
        "id": "OGmb3WF8GbC0",
        "outputId": "ef57947d-b369-459a-bae2-85bf765d0f86"
      },
      "outputs": [
        {
          "output_type": "stream",
          "name": "stdout",
          "text": [
            "Data Double : 0\n"
          ]
        }
      ],
      "source": [
        "double = list(df_train.duplicated())\n",
        "print(\"Data Double :\", double.count(True))"
      ]
    },
    {
      "cell_type": "markdown",
      "metadata": {
        "id": "6hSgdmhe1HXw"
      },
      "source": [
        "### Handling Missing Value"
      ]
    },
    {
      "cell_type": "code",
      "execution_count": 33,
      "metadata": {
        "colab": {
          "base_uri": "https://localhost:8080/"
        },
        "id": "08f9kgHBmB4v",
        "outputId": "eb46df6b-68e5-4d1a-9c38-133965aba5fe"
      },
      "outputs": [
        {
          "output_type": "execute_result",
          "data": {
            "text/plain": [
              "Jenis_Kelamin        5.05\n",
              "Umur                 4.97\n",
              "SIM                  5.04\n",
              "Kode_Daerah          5.00\n",
              "Sudah_Asuransi       4.98\n",
              "Umur_Kendaraan       5.00\n",
              "Kendaraan_Rusak      4.97\n",
              "Premi                5.08\n",
              "Kanal_Penjualan      5.00\n",
              "Lama_Berlangganan    4.88\n",
              "Tertarik             0.00\n",
              "dtype: float64"
            ]
          },
          "metadata": {},
          "execution_count": 33
        }
      ],
      "source": [
        "# Mengecek persentase data kosong pada data train\n",
        "df_train.isna().mean().round(4) * 100"
      ]
    },
    {
      "cell_type": "code",
      "execution_count": 34,
      "metadata": {
        "id": "s6VT9NPVp_--"
      },
      "outputs": [],
      "source": [
        "# Me-replace nilai null pada data frame, mengganti nilai null tersebut menggunakan modus untuk data categorical\n",
        "df_train['Umur_Kendaraan'] = df_train['Umur_Kendaraan'].fillna(df_train['Umur_Kendaraan'].mode()[0])\n",
        "df_train['Jenis_Kelamin'] = df_train['Jenis_Kelamin'].fillna(df_train['Jenis_Kelamin'].mode()[0])\n",
        "df_train['Kendaraan_Rusak'] = df_train['Kendaraan_Rusak'].fillna(df_train['Kendaraan_Rusak'].mode()[0])\n",
        "\n",
        "# Me-replace nilai null pada data frame, mengganti nilai null tersebut menggunakan mean untuk data numerical\n",
        "df_train = round(df_train.replace(np.NaN, df_train.mean()))"
      ]
    },
    {
      "cell_type": "code",
      "execution_count": 35,
      "metadata": {
        "colab": {
          "base_uri": "https://localhost:8080/"
        },
        "id": "sMCThXsIXCTw",
        "outputId": "db4ae5fb-57f4-4ece-f1f0-a0f785065ab9"
      },
      "outputs": [
        {
          "output_type": "execute_result",
          "data": {
            "text/plain": [
              "Jenis_Kelamin        0.0\n",
              "Umur                 0.0\n",
              "SIM                  0.0\n",
              "Kode_Daerah          0.0\n",
              "Sudah_Asuransi       0.0\n",
              "Umur_Kendaraan       0.0\n",
              "Kendaraan_Rusak      0.0\n",
              "Premi                0.0\n",
              "Kanal_Penjualan      0.0\n",
              "Lama_Berlangganan    0.0\n",
              "Tertarik             0.0\n",
              "dtype: float64"
            ]
          },
          "metadata": {},
          "execution_count": 35
        }
      ],
      "source": [
        "#Cek kembali missing value\n",
        "df_train.isna().mean().round(4) * 100"
      ]
    },
    {
      "cell_type": "markdown",
      "metadata": {
        "id": "q6BXKtK_iZsk"
      },
      "source": [
        "### Feature Engineering"
      ]
    },
    {
      "cell_type": "code",
      "execution_count": 36,
      "metadata": {
        "colab": {
          "base_uri": "https://localhost:8080/"
        },
        "id": "IOJLdHwqiYn0",
        "outputId": "4efaa5a4-2f6d-46c7-edb3-8d0d899b0923"
      },
      "outputs": [
        {
          "output_type": "stream",
          "name": "stdout",
          "text": [
            "Sekarang semua fitur numerik\n"
          ]
        }
      ],
      "source": [
        "def data_labelling(df):\n",
        "    df['Umur_Kendaraan'] = df['Umur_Kendaraan'].replace(['< 1 Tahun', '1-2 Tahun', '> 2 Tahun'], [0, 1, 2])\n",
        "    df['Jenis_Kelamin'] = df['Jenis_Kelamin'].replace(['Pria', 'Wanita'], [1, 0])\n",
        "    df['Kendaraan_Rusak'] = df['Kendaraan_Rusak'].replace(['Tidak', 'Pernah', '< 1 Tahun'], [0, 1, 2])\n",
        "\n",
        "data_labelling(df_train)\n",
        "print(\"Sekarang semua fitur numerik\")"
      ]
    },
    {
      "cell_type": "code",
      "execution_count": 37,
      "metadata": {
        "colab": {
          "base_uri": "https://localhost:8080/",
          "height": 206
        },
        "id": "Cre8Q9AnXt5y",
        "outputId": "89a535a9-96d7-48c1-a424-744606648dbe"
      },
      "outputs": [
        {
          "output_type": "execute_result",
          "data": {
            "text/html": [
              "\n",
              "  <div id=\"df-20fe4a65-092e-4f65-ae98-626f1f22964c\">\n",
              "    <div class=\"colab-df-container\">\n",
              "      <div>\n",
              "<style scoped>\n",
              "    .dataframe tbody tr th:only-of-type {\n",
              "        vertical-align: middle;\n",
              "    }\n",
              "\n",
              "    .dataframe tbody tr th {\n",
              "        vertical-align: top;\n",
              "    }\n",
              "\n",
              "    .dataframe thead th {\n",
              "        text-align: right;\n",
              "    }\n",
              "</style>\n",
              "<table border=\"1\" class=\"dataframe\">\n",
              "  <thead>\n",
              "    <tr style=\"text-align: right;\">\n",
              "      <th></th>\n",
              "      <th>Jenis_Kelamin</th>\n",
              "      <th>Umur</th>\n",
              "      <th>SIM</th>\n",
              "      <th>Kode_Daerah</th>\n",
              "      <th>Sudah_Asuransi</th>\n",
              "      <th>Umur_Kendaraan</th>\n",
              "      <th>Kendaraan_Rusak</th>\n",
              "      <th>Premi</th>\n",
              "      <th>Kanal_Penjualan</th>\n",
              "      <th>Lama_Berlangganan</th>\n",
              "      <th>Tertarik</th>\n",
              "    </tr>\n",
              "  </thead>\n",
              "  <tbody>\n",
              "    <tr>\n",
              "      <th>1</th>\n",
              "      <td>1</td>\n",
              "      <td>48.0</td>\n",
              "      <td>1.0</td>\n",
              "      <td>39.0</td>\n",
              "      <td>0.0</td>\n",
              "      <td>2</td>\n",
              "      <td>1</td>\n",
              "      <td>25800.0</td>\n",
              "      <td>29.0</td>\n",
              "      <td>158.0</td>\n",
              "      <td>0</td>\n",
              "    </tr>\n",
              "    <tr>\n",
              "      <th>2</th>\n",
              "      <td>1</td>\n",
              "      <td>21.0</td>\n",
              "      <td>1.0</td>\n",
              "      <td>46.0</td>\n",
              "      <td>1.0</td>\n",
              "      <td>0</td>\n",
              "      <td>0</td>\n",
              "      <td>32733.0</td>\n",
              "      <td>160.0</td>\n",
              "      <td>119.0</td>\n",
              "      <td>0</td>\n",
              "    </tr>\n",
              "    <tr>\n",
              "      <th>3</th>\n",
              "      <td>0</td>\n",
              "      <td>58.0</td>\n",
              "      <td>1.0</td>\n",
              "      <td>48.0</td>\n",
              "      <td>0.0</td>\n",
              "      <td>1</td>\n",
              "      <td>0</td>\n",
              "      <td>2630.0</td>\n",
              "      <td>124.0</td>\n",
              "      <td>63.0</td>\n",
              "      <td>0</td>\n",
              "    </tr>\n",
              "    <tr>\n",
              "      <th>4</th>\n",
              "      <td>1</td>\n",
              "      <td>50.0</td>\n",
              "      <td>1.0</td>\n",
              "      <td>35.0</td>\n",
              "      <td>0.0</td>\n",
              "      <td>2</td>\n",
              "      <td>1</td>\n",
              "      <td>34857.0</td>\n",
              "      <td>88.0</td>\n",
              "      <td>194.0</td>\n",
              "      <td>0</td>\n",
              "    </tr>\n",
              "    <tr>\n",
              "      <th>5</th>\n",
              "      <td>1</td>\n",
              "      <td>21.0</td>\n",
              "      <td>1.0</td>\n",
              "      <td>35.0</td>\n",
              "      <td>1.0</td>\n",
              "      <td>0</td>\n",
              "      <td>0</td>\n",
              "      <td>22735.0</td>\n",
              "      <td>152.0</td>\n",
              "      <td>171.0</td>\n",
              "      <td>0</td>\n",
              "    </tr>\n",
              "  </tbody>\n",
              "</table>\n",
              "</div>\n",
              "      <button class=\"colab-df-convert\" onclick=\"convertToInteractive('df-20fe4a65-092e-4f65-ae98-626f1f22964c')\"\n",
              "              title=\"Convert this dataframe to an interactive table.\"\n",
              "              style=\"display:none;\">\n",
              "        \n",
              "  <svg xmlns=\"http://www.w3.org/2000/svg\" height=\"24px\"viewBox=\"0 0 24 24\"\n",
              "       width=\"24px\">\n",
              "    <path d=\"M0 0h24v24H0V0z\" fill=\"none\"/>\n",
              "    <path d=\"M18.56 5.44l.94 2.06.94-2.06 2.06-.94-2.06-.94-.94-2.06-.94 2.06-2.06.94zm-11 1L8.5 8.5l.94-2.06 2.06-.94-2.06-.94L8.5 2.5l-.94 2.06-2.06.94zm10 10l.94 2.06.94-2.06 2.06-.94-2.06-.94-.94-2.06-.94 2.06-2.06.94z\"/><path d=\"M17.41 7.96l-1.37-1.37c-.4-.4-.92-.59-1.43-.59-.52 0-1.04.2-1.43.59L10.3 9.45l-7.72 7.72c-.78.78-.78 2.05 0 2.83L4 21.41c.39.39.9.59 1.41.59.51 0 1.02-.2 1.41-.59l7.78-7.78 2.81-2.81c.8-.78.8-2.07 0-2.86zM5.41 20L4 18.59l7.72-7.72 1.47 1.35L5.41 20z\"/>\n",
              "  </svg>\n",
              "      </button>\n",
              "      \n",
              "  <style>\n",
              "    .colab-df-container {\n",
              "      display:flex;\n",
              "      flex-wrap:wrap;\n",
              "      gap: 12px;\n",
              "    }\n",
              "\n",
              "    .colab-df-convert {\n",
              "      background-color: #E8F0FE;\n",
              "      border: none;\n",
              "      border-radius: 50%;\n",
              "      cursor: pointer;\n",
              "      display: none;\n",
              "      fill: #1967D2;\n",
              "      height: 32px;\n",
              "      padding: 0 0 0 0;\n",
              "      width: 32px;\n",
              "    }\n",
              "\n",
              "    .colab-df-convert:hover {\n",
              "      background-color: #E2EBFA;\n",
              "      box-shadow: 0px 1px 2px rgba(60, 64, 67, 0.3), 0px 1px 3px 1px rgba(60, 64, 67, 0.15);\n",
              "      fill: #174EA6;\n",
              "    }\n",
              "\n",
              "    [theme=dark] .colab-df-convert {\n",
              "      background-color: #3B4455;\n",
              "      fill: #D2E3FC;\n",
              "    }\n",
              "\n",
              "    [theme=dark] .colab-df-convert:hover {\n",
              "      background-color: #434B5C;\n",
              "      box-shadow: 0px 1px 3px 1px rgba(0, 0, 0, 0.15);\n",
              "      filter: drop-shadow(0px 1px 2px rgba(0, 0, 0, 0.3));\n",
              "      fill: #FFFFFF;\n",
              "    }\n",
              "  </style>\n",
              "\n",
              "      <script>\n",
              "        const buttonEl =\n",
              "          document.querySelector('#df-20fe4a65-092e-4f65-ae98-626f1f22964c button.colab-df-convert');\n",
              "        buttonEl.style.display =\n",
              "          google.colab.kernel.accessAllowed ? 'block' : 'none';\n",
              "\n",
              "        async function convertToInteractive(key) {\n",
              "          const element = document.querySelector('#df-20fe4a65-092e-4f65-ae98-626f1f22964c');\n",
              "          const dataTable =\n",
              "            await google.colab.kernel.invokeFunction('convertToInteractive',\n",
              "                                                     [key], {});\n",
              "          if (!dataTable) return;\n",
              "\n",
              "          const docLinkHtml = 'Like what you see? Visit the ' +\n",
              "            '<a target=\"_blank\" href=https://colab.research.google.com/notebooks/data_table.ipynb>data table notebook</a>'\n",
              "            + ' to learn more about interactive tables.';\n",
              "          element.innerHTML = '';\n",
              "          dataTable['output_type'] = 'display_data';\n",
              "          await google.colab.output.renderOutput(dataTable, element);\n",
              "          const docLink = document.createElement('div');\n",
              "          docLink.innerHTML = docLinkHtml;\n",
              "          element.appendChild(docLink);\n",
              "        }\n",
              "      </script>\n",
              "    </div>\n",
              "  </div>\n",
              "  "
            ],
            "text/plain": [
              "   Jenis_Kelamin  Umur  SIM  ...  Kanal_Penjualan  Lama_Berlangganan  Tertarik\n",
              "1              1  48.0  1.0  ...             29.0              158.0         0\n",
              "2              1  21.0  1.0  ...            160.0              119.0         0\n",
              "3              0  58.0  1.0  ...            124.0               63.0         0\n",
              "4              1  50.0  1.0  ...             88.0              194.0         0\n",
              "5              1  21.0  1.0  ...            152.0              171.0         0\n",
              "\n",
              "[5 rows x 11 columns]"
            ]
          },
          "metadata": {},
          "execution_count": 37
        }
      ],
      "source": [
        "df_train.head()"
      ]
    },
    {
      "cell_type": "markdown",
      "metadata": {
        "id": "SUcsrOcM6dAU"
      },
      "source": [
        "### Menghandle outliers menggunakan metode IQR"
      ]
    },
    {
      "cell_type": "code",
      "execution_count": 38,
      "metadata": {
        "colab": {
          "base_uri": "https://localhost:8080/",
          "height": 267
        },
        "id": "kZ9FWj_WXWSG",
        "outputId": "6a906364-d7b5-4d13-acbf-97c138a964e9"
      },
      "outputs": [
        {
          "output_type": "display_data",
          "data": {
            "image/png": "[encoded data removed]",
            "text/plain": [
              "<Figure size 2592x432 with 4 Axes>"
            ]
          },
          "metadata": {
            "needs_background": "light"
          }
        }
      ],
      "source": [
        "# Mengecek outlier menggunakan boxplot\n",
        "fig, ax = plt.subplots(ncols=4, figsize=(36, 6))\n",
        "sns.boxplot(y='Lama_Berlangganan', data=df_train, ax=ax[0])\n",
        "sns.boxplot(y='Premi', data=df_train, ax=ax[1])\n",
        "sns.boxplot(y='Umur', data=df_train, ax=ax[2])\n",
        "sns.boxplot(y='Kanal_Penjualan', data=df_train, ax=ax[3])\n",
        "plt.show()"
      ]
    },
    {
      "cell_type": "code",
      "execution_count": 39,
      "metadata": {
        "colab": {
          "base_uri": "https://localhost:8080/"
        },
        "id": "iB18lj_Z6uN3",
        "outputId": "222fd151-8c13-4743-bcd3-a073bdef928b"
      },
      "outputs": [
        {
          "output_type": "execute_result",
          "data": {
            "text/plain": [
              "['Jenis_Kelamin', 'Umur_Kendaraan', 'Kendaraan_Rusak']"
            ]
          },
          "metadata": {},
          "execution_count": 39
        }
      ],
      "source": [
        "df_train_categorical"
      ]
    },
    {
      "cell_type": "code",
      "execution_count": 40,
      "metadata": {
        "colab": {
          "base_uri": "https://localhost:8080/"
        },
        "id": "-YtVsDAuah96",
        "outputId": "733ed8fd-c749-4311-d02c-8a6fbb3d5fb6"
      },
      "outputs": [
        {
          "output_type": "execute_result",
          "data": {
            "text/plain": [
              "['id',\n",
              " 'Umur',\n",
              " 'SIM',\n",
              " 'Kode_Daerah',\n",
              " 'Sudah_Asuransi',\n",
              " 'Premi',\n",
              " 'Kanal_Penjualan',\n",
              " 'Lama_Berlangganan',\n",
              " 'Tertarik']"
            ]
          },
          "metadata": {},
          "execution_count": 40
        }
      ],
      "source": [
        "df_train_numerical"
      ]
    },
    {
      "cell_type": "code",
      "execution_count": 41,
      "metadata": {
        "id": "Nz8JZ-Ut5HH3"
      },
      "outputs": [],
      "source": [
        "# Membuat list yang berisi nama kolom yang ingin dihapus outliersnya\n",
        "columns = [\n",
        "        'Lama_Berlangganan', 'Umur', 'Premi', 'Kanal_Penjualan'\n",
        "]\n",
        "\n",
        "columns_numerical = [\n",
        "                     'Umur', 'SIM', 'Kode_Daerah', 'Premi', 'Kanal_Penjualan', 'Lama_Berlangganan'\n",
        "]"
      ]
    },
    {
      "cell_type": "code",
      "execution_count": 42,
      "metadata": {
        "id": "h6xSI0Dz_8ry"
      },
      "outputs": [],
      "source": [
        "# Mendefinisikan fungsi-fungsi yang akan dipakai disini\n",
        "\n",
        "# Fungsi outliers disini untuk mendapatkan index mana saja yang bersifat outliers dari data frame\n",
        "def outliers(df, ft):\n",
        "  Q1 = df[ft].quantile(0.25)\n",
        "  Q3 = df[ft].quantile(0.75)\n",
        "  IQR = Q3 - Q1\n",
        "\n",
        "  lower_bound = Q1 - 1.5 * IQR\n",
        "  upper_bound = Q3 + 1.5 * IQR\n",
        "\n",
        "  ls = df.index[ (df[ft] < lower_bound) | (df[ft] > upper_bound) ]\n",
        "  return ls\n",
        "\n",
        "# Fungsi remove disini untuk menghapus outliers dari data frame berdasarkan index yang didapatkan\n",
        "def remove(df, ls):\n",
        "  ls = sorted(set(ls))\n",
        "  df = df.drop(ls)\n",
        "  return df"
      ]
    },
    {
      "cell_type": "code",
      "execution_count": 43,
      "metadata": {
        "id": "_Zhues_YHZSe"
      },
      "outputs": [],
      "source": [
        "# Mendefinisikan list kosong index_list yang menyimpan nilai index dari outliers\n",
        "index_list = []\n",
        "\n",
        "# Melakukan perulangan sebanyak columns\n",
        "for col in columns:\n",
        "  index_list.extend(outliers(df_train,col))  "
      ]
    },
    {
      "cell_type": "code",
      "execution_count": 44,
      "metadata": {
        "colab": {
          "base_uri": "https://localhost:8080/"
        },
        "id": "VV4HbS4qNVsO",
        "outputId": "125311fb-7d95-4c68-b30c-ce48aa43c2df"
      },
      "outputs": [
        {
          "output_type": "stream",
          "name": "stdout",
          "text": [
            "Jumlah data setelah menghapus outlier: 230630\n"
          ]
        }
      ],
      "source": [
        "# Menjadikan data yang bersih dari df_train menjadi df_cleaned_train\n",
        "df_cleaned_train = remove(df_train, index_list)\n",
        "\n",
        "print(\"Jumlah data setelah menghapus outlier:\", len(df_cleaned_train))"
      ]
    },
    {
      "cell_type": "code",
      "execution_count": 45,
      "metadata": {
        "colab": {
          "base_uri": "https://localhost:8080/",
          "height": 424
        },
        "id": "pohIJvZl-z0a",
        "outputId": "185d3954-f07c-4913-da5e-f504e6527cab"
      },
      "outputs": [
        {
          "output_type": "execute_result",
          "data": {
            "text/html": [
              "\n",
              "  <div id=\"df-b28dfc14-e8c3-4850-9a72-e4536ddf8eab\">\n",
              "    <div class=\"colab-df-container\">\n",
              "      <div>\n",
              "<style scoped>\n",
              "    .dataframe tbody tr th:only-of-type {\n",
              "        vertical-align: middle;\n",
              "    }\n",
              "\n",
              "    .dataframe tbody tr th {\n",
              "        vertical-align: top;\n",
              "    }\n",
              "\n",
              "    .dataframe thead th {\n",
              "        text-align: right;\n",
              "    }\n",
              "</style>\n",
              "<table border=\"1\" class=\"dataframe\">\n",
              "  <thead>\n",
              "    <tr style=\"text-align: right;\">\n",
              "      <th></th>\n",
              "      <th>Jenis_Kelamin</th>\n",
              "      <th>Umur</th>\n",
              "      <th>SIM</th>\n",
              "      <th>Kode_Daerah</th>\n",
              "      <th>Sudah_Asuransi</th>\n",
              "      <th>Umur_Kendaraan</th>\n",
              "      <th>Kendaraan_Rusak</th>\n",
              "      <th>Premi</th>\n",
              "      <th>Kanal_Penjualan</th>\n",
              "      <th>Lama_Berlangganan</th>\n",
              "      <th>Tertarik</th>\n",
              "    </tr>\n",
              "  </thead>\n",
              "  <tbody>\n",
              "    <tr>\n",
              "      <th>1</th>\n",
              "      <td>1</td>\n",
              "      <td>48.0</td>\n",
              "      <td>1.0</td>\n",
              "      <td>39.0</td>\n",
              "      <td>0.0</td>\n",
              "      <td>2</td>\n",
              "      <td>1</td>\n",
              "      <td>25800.0</td>\n",
              "      <td>29.0</td>\n",
              "      <td>158.0</td>\n",
              "      <td>0</td>\n",
              "    </tr>\n",
              "    <tr>\n",
              "      <th>2</th>\n",
              "      <td>1</td>\n",
              "      <td>21.0</td>\n",
              "      <td>1.0</td>\n",
              "      <td>46.0</td>\n",
              "      <td>1.0</td>\n",
              "      <td>0</td>\n",
              "      <td>0</td>\n",
              "      <td>32733.0</td>\n",
              "      <td>160.0</td>\n",
              "      <td>119.0</td>\n",
              "      <td>0</td>\n",
              "    </tr>\n",
              "    <tr>\n",
              "      <th>4</th>\n",
              "      <td>1</td>\n",
              "      <td>50.0</td>\n",
              "      <td>1.0</td>\n",
              "      <td>35.0</td>\n",
              "      <td>0.0</td>\n",
              "      <td>2</td>\n",
              "      <td>1</td>\n",
              "      <td>34857.0</td>\n",
              "      <td>88.0</td>\n",
              "      <td>194.0</td>\n",
              "      <td>0</td>\n",
              "    </tr>\n",
              "    <tr>\n",
              "      <th>5</th>\n",
              "      <td>1</td>\n",
              "      <td>21.0</td>\n",
              "      <td>1.0</td>\n",
              "      <td>35.0</td>\n",
              "      <td>1.0</td>\n",
              "      <td>0</td>\n",
              "      <td>0</td>\n",
              "      <td>22735.0</td>\n",
              "      <td>152.0</td>\n",
              "      <td>171.0</td>\n",
              "      <td>0</td>\n",
              "    </tr>\n",
              "    <tr>\n",
              "      <th>6</th>\n",
              "      <td>0</td>\n",
              "      <td>33.0</td>\n",
              "      <td>1.0</td>\n",
              "      <td>8.0</td>\n",
              "      <td>0.0</td>\n",
              "      <td>1</td>\n",
              "      <td>1</td>\n",
              "      <td>32435.0</td>\n",
              "      <td>124.0</td>\n",
              "      <td>215.0</td>\n",
              "      <td>1</td>\n",
              "    </tr>\n",
              "    <tr>\n",
              "      <th>...</th>\n",
              "      <td>...</td>\n",
              "      <td>...</td>\n",
              "      <td>...</td>\n",
              "      <td>...</td>\n",
              "      <td>...</td>\n",
              "      <td>...</td>\n",
              "      <td>...</td>\n",
              "      <td>...</td>\n",
              "      <td>...</td>\n",
              "      <td>...</td>\n",
              "      <td>...</td>\n",
              "    </tr>\n",
              "    <tr>\n",
              "      <th>285826</th>\n",
              "      <td>0</td>\n",
              "      <td>23.0</td>\n",
              "      <td>1.0</td>\n",
              "      <td>4.0</td>\n",
              "      <td>1.0</td>\n",
              "      <td>0</td>\n",
              "      <td>0</td>\n",
              "      <td>25988.0</td>\n",
              "      <td>152.0</td>\n",
              "      <td>217.0</td>\n",
              "      <td>0</td>\n",
              "    </tr>\n",
              "    <tr>\n",
              "      <th>285827</th>\n",
              "      <td>0</td>\n",
              "      <td>21.0</td>\n",
              "      <td>1.0</td>\n",
              "      <td>46.0</td>\n",
              "      <td>1.0</td>\n",
              "      <td>0</td>\n",
              "      <td>0</td>\n",
              "      <td>44686.0</td>\n",
              "      <td>152.0</td>\n",
              "      <td>50.0</td>\n",
              "      <td>0</td>\n",
              "    </tr>\n",
              "    <tr>\n",
              "      <th>285828</th>\n",
              "      <td>0</td>\n",
              "      <td>23.0</td>\n",
              "      <td>1.0</td>\n",
              "      <td>50.0</td>\n",
              "      <td>1.0</td>\n",
              "      <td>0</td>\n",
              "      <td>0</td>\n",
              "      <td>49751.0</td>\n",
              "      <td>152.0</td>\n",
              "      <td>226.0</td>\n",
              "      <td>0</td>\n",
              "    </tr>\n",
              "    <tr>\n",
              "      <th>285829</th>\n",
              "      <td>1</td>\n",
              "      <td>68.0</td>\n",
              "      <td>1.0</td>\n",
              "      <td>7.0</td>\n",
              "      <td>1.0</td>\n",
              "      <td>1</td>\n",
              "      <td>0</td>\n",
              "      <td>30503.0</td>\n",
              "      <td>124.0</td>\n",
              "      <td>270.0</td>\n",
              "      <td>0</td>\n",
              "    </tr>\n",
              "    <tr>\n",
              "      <th>285830</th>\n",
              "      <td>1</td>\n",
              "      <td>45.0</td>\n",
              "      <td>1.0</td>\n",
              "      <td>28.0</td>\n",
              "      <td>0.0</td>\n",
              "      <td>1</td>\n",
              "      <td>1</td>\n",
              "      <td>36480.0</td>\n",
              "      <td>26.0</td>\n",
              "      <td>44.0</td>\n",
              "      <td>0</td>\n",
              "    </tr>\n",
              "  </tbody>\n",
              "</table>\n",
              "<p>230630 rows × 11 columns</p>\n",
              "</div>\n",
              "      <button class=\"colab-df-convert\" onclick=\"convertToInteractive('df-b28dfc14-e8c3-4850-9a72-e4536ddf8eab')\"\n",
              "              title=\"Convert this dataframe to an interactive table.\"\n",
              "              style=\"display:none;\">\n",
              "        \n",
              "  <svg xmlns=\"http://www.w3.org/2000/svg\" height=\"24px\"viewBox=\"0 0 24 24\"\n",
              "       width=\"24px\">\n",
              "    <path d=\"M0 0h24v24H0V0z\" fill=\"none\"/>\n",
              "    <path d=\"M18.56 5.44l.94 2.06.94-2.06 2.06-.94-2.06-.94-.94-2.06-.94 2.06-2.06.94zm-11 1L8.5 8.5l.94-2.06 2.06-.94-2.06-.94L8.5 2.5l-.94 2.06-2.06.94zm10 10l.94 2.06.94-2.06 2.06-.94-2.06-.94-.94-2.06-.94 2.06-2.06.94z\"/><path d=\"M17.41 7.96l-1.37-1.37c-.4-.4-.92-.59-1.43-.59-.52 0-1.04.2-1.43.59L10.3 9.45l-7.72 7.72c-.78.78-.78 2.05 0 2.83L4 21.41c.39.39.9.59 1.41.59.51 0 1.02-.2 1.41-.59l7.78-7.78 2.81-2.81c.8-.78.8-2.07 0-2.86zM5.41 20L4 18.59l7.72-7.72 1.47 1.35L5.41 20z\"/>\n",
              "  </svg>\n",
              "      </button>\n",
              "      \n",
              "  <style>\n",
              "    .colab-df-container {\n",
              "      display:flex;\n",
              "      flex-wrap:wrap;\n",
              "      gap: 12px;\n",
              "    }\n",
              "\n",
              "    .colab-df-convert {\n",
              "      background-color: #E8F0FE;\n",
              "      border: none;\n",
              "      border-radius: 50%;\n",
              "      cursor: pointer;\n",
              "      display: none;\n",
              "      fill: #1967D2;\n",
              "      height: 32px;\n",
              "      padding: 0 0 0 0;\n",
              "      width: 32px;\n",
              "    }\n",
              "\n",
              "    .colab-df-convert:hover {\n",
              "      background-color: #E2EBFA;\n",
              "      box-shadow: 0px 1px 2px rgba(60, 64, 67, 0.3), 0px 1px 3px 1px rgba(60, 64, 67, 0.15);\n",
              "      fill: #174EA6;\n",
              "    }\n",
              "\n",
              "    [theme=dark] .colab-df-convert {\n",
              "      background-color: #3B4455;\n",
              "      fill: #D2E3FC;\n",
              "    }\n",
              "\n",
              "    [theme=dark] .colab-df-convert:hover {\n",
              "      background-color: #434B5C;\n",
              "      box-shadow: 0px 1px 3px 1px rgba(0, 0, 0, 0.15);\n",
              "      filter: drop-shadow(0px 1px 2px rgba(0, 0, 0, 0.3));\n",
              "      fill: #FFFFFF;\n",
              "    }\n",
              "  </style>\n",
              "\n",
              "      <script>\n",
              "        const buttonEl =\n",
              "          document.querySelector('#df-b28dfc14-e8c3-4850-9a72-e4536ddf8eab button.colab-df-convert');\n",
              "        buttonEl.style.display =\n",
              "          google.colab.kernel.accessAllowed ? 'block' : 'none';\n",
              "\n",
              "        async function convertToInteractive(key) {\n",
              "          const element = document.querySelector('#df-b28dfc14-e8c3-4850-9a72-e4536ddf8eab');\n",
              "          const dataTable =\n",
              "            await google.colab.kernel.invokeFunction('convertToInteractive',\n",
              "                                                     [key], {});\n",
              "          if (!dataTable) return;\n",
              "\n",
              "          const docLinkHtml = 'Like what you see? Visit the ' +\n",
              "            '<a target=\"_blank\" href=https://colab.research.google.com/notebooks/data_table.ipynb>data table notebook</a>'\n",
              "            + ' to learn more about interactive tables.';\n",
              "          element.innerHTML = '';\n",
              "          dataTable['output_type'] = 'display_data';\n",
              "          await google.colab.output.renderOutput(dataTable, element);\n",
              "          const docLink = document.createElement('div');\n",
              "          docLink.innerHTML = docLinkHtml;\n",
              "          element.appendChild(docLink);\n",
              "        }\n",
              "      </script>\n",
              "    </div>\n",
              "  </div>\n",
              "  "
            ],
            "text/plain": [
              "        Jenis_Kelamin  Umur  SIM  ...  Kanal_Penjualan  Lama_Berlangganan  Tertarik\n",
              "1                   1  48.0  1.0  ...             29.0              158.0         0\n",
              "2                   1  21.0  1.0  ...            160.0              119.0         0\n",
              "4                   1  50.0  1.0  ...             88.0              194.0         0\n",
              "5                   1  21.0  1.0  ...            152.0              171.0         0\n",
              "6                   0  33.0  1.0  ...            124.0              215.0         1\n",
              "...               ...   ...  ...  ...              ...                ...       ...\n",
              "285826              0  23.0  1.0  ...            152.0              217.0         0\n",
              "285827              0  21.0  1.0  ...            152.0               50.0         0\n",
              "285828              0  23.0  1.0  ...            152.0              226.0         0\n",
              "285829              1  68.0  1.0  ...            124.0              270.0         0\n",
              "285830              1  45.0  1.0  ...             26.0               44.0         0\n",
              "\n",
              "[230630 rows x 11 columns]"
            ]
          },
          "metadata": {},
          "execution_count": 45
        }
      ],
      "source": [
        "# Mencetak dataframe train yang sudah di proses menjadi csv\n",
        "df_cleaned_train.to_csv('df_train_cleaned.csv')\n",
        "df_cleaned_train"
      ]
    },
    {
      "cell_type": "markdown",
      "metadata": {
        "id": "DlbikIpddZVQ"
      },
      "source": [
        "### Deklarasi fitur vektor dan target"
      ]
    },
    {
      "cell_type": "code",
      "execution_count": 46,
      "metadata": {
        "id": "uzW-z_BB6d7f"
      },
      "outputs": [],
      "source": [
        "# Melakukan drop untuk variabel target untuk persiapan skalalisasi variabel vektor\n",
        "X_df_cleaned_train = df_cleaned_train.drop(['Tertarik'], axis=1) \n",
        "y_train = df_cleaned_train[\"Tertarik\"]"
      ]
    },
    {
      "cell_type": "code",
      "execution_count": 47,
      "metadata": {
        "colab": {
          "base_uri": "https://localhost:8080/"
        },
        "id": "nlma8l1y7pyY",
        "outputId": "060edbb1-12a0-4b5b-b944-04aa0d988d96"
      },
      "outputs": [
        {
          "output_type": "execute_result",
          "data": {
            "text/plain": [
              "1         0\n",
              "2         0\n",
              "4         0\n",
              "5         0\n",
              "6         1\n",
              "         ..\n",
              "285826    0\n",
              "285827    0\n",
              "285828    0\n",
              "285829    0\n",
              "285830    0\n",
              "Name: Tertarik, Length: 230630, dtype: int64"
            ]
          },
          "metadata": {},
          "execution_count": 47
        }
      ],
      "source": [
        "y_train"
      ]
    },
    {
      "cell_type": "markdown",
      "metadata": {
        "id": "E_2d8v0Fc3tH"
      },
      "source": [
        "### Feature Scaling"
      ]
    },
    {
      "cell_type": "code",
      "execution_count": 48,
      "metadata": {
        "colab": {
          "base_uri": "https://localhost:8080/",
          "height": 575
        },
        "id": "azomyVI4izpY",
        "outputId": "0efbe72b-a268-4e1a-f9f5-d01bb3eb8d67"
      },
      "outputs": [
        {
          "output_type": "display_data",
          "data": {
            "image/png": "[encoded data removed]",
            "text/plain": [
              "<Figure size 1440x576 with 1 Axes>"
            ]
          },
          "metadata": {
            "needs_background": "light"
          }
        }
      ],
      "source": [
        "#Melihat skala sebaran data di dalam dataset\n",
        "shades =[\"#f7b2b0\",\"#c98ea6\",\"#8f7198\",\"#50587f\", \"#003f5c\"]\n",
        "plt.figure(figsize=(20,8))\n",
        "sns.boxenplot(data = X_df_cleaned_train,palette = shades)\n",
        "plt.xticks(rotation=90)\n",
        "plt.show()"
      ]
    },
    {
      "cell_type": "markdown",
      "metadata": {
        "id": "RMxfrxUIjCvV"
      },
      "source": [
        "Plot di atas menunjukkan range yang berbeda dari semua fitur dataset misalnya, fitur 'Premi' yang memiliki range besar. Untuk menyesuaikan ini ke dalam sebuah model maka harus dilakukan skalalisasi ke range yang sama."
      ]
    },
    {
      "cell_type": "code",
      "execution_count": 49,
      "metadata": {
        "colab": {
          "base_uri": "https://localhost:8080/",
          "height": 424
        },
        "id": "_09r7hvZ-7L0",
        "outputId": "ce6d1103-09f2-427a-d41d-00dc8080461c"
      },
      "outputs": [
        {
          "output_type": "execute_result",
          "data": {
            "text/html": [
              "\n",
              "  <div id=\"df-d2d49552-5d46-4cf9-9393-0e4844a894d4\">\n",
              "    <div class=\"colab-df-container\">\n",
              "      <div>\n",
              "<style scoped>\n",
              "    .dataframe tbody tr th:only-of-type {\n",
              "        vertical-align: middle;\n",
              "    }\n",
              "\n",
              "    .dataframe tbody tr th {\n",
              "        vertical-align: top;\n",
              "    }\n",
              "\n",
              "    .dataframe thead th {\n",
              "        text-align: right;\n",
              "    }\n",
              "</style>\n",
              "<table border=\"1\" class=\"dataframe\">\n",
              "  <thead>\n",
              "    <tr style=\"text-align: right;\">\n",
              "      <th></th>\n",
              "      <th>Jenis_Kelamin</th>\n",
              "      <th>Umur</th>\n",
              "      <th>SIM</th>\n",
              "      <th>Kode_Daerah</th>\n",
              "      <th>Sudah_Asuransi</th>\n",
              "      <th>Umur_Kendaraan</th>\n",
              "      <th>Kendaraan_Rusak</th>\n",
              "      <th>Premi</th>\n",
              "      <th>Kanal_Penjualan</th>\n",
              "      <th>Lama_Berlangganan</th>\n",
              "    </tr>\n",
              "  </thead>\n",
              "  <tbody>\n",
              "    <tr>\n",
              "      <th>1</th>\n",
              "      <td>0.890543</td>\n",
              "      <td>0.646596</td>\n",
              "      <td>0.044705</td>\n",
              "      <td>0.986551</td>\n",
              "      <td>-0.915236</td>\n",
              "      <td>2.491429</td>\n",
              "      <td>0.976114</td>\n",
              "      <td>-1.013723</td>\n",
              "      <td>-1.590106</td>\n",
              "      <td>0.045929</td>\n",
              "    </tr>\n",
              "    <tr>\n",
              "      <th>2</th>\n",
              "      <td>0.890543</td>\n",
              "      <td>-1.140621</td>\n",
              "      <td>0.044705</td>\n",
              "      <td>1.537220</td>\n",
              "      <td>1.092610</td>\n",
              "      <td>-1.069807</td>\n",
              "      <td>-1.024466</td>\n",
              "      <td>-0.202020</td>\n",
              "      <td>0.910597</td>\n",
              "      <td>-0.431715</td>\n",
              "    </tr>\n",
              "    <tr>\n",
              "      <th>4</th>\n",
              "      <td>0.890543</td>\n",
              "      <td>0.778983</td>\n",
              "      <td>0.044705</td>\n",
              "      <td>0.671883</td>\n",
              "      <td>-0.915236</td>\n",
              "      <td>2.491429</td>\n",
              "      <td>0.976114</td>\n",
              "      <td>0.046654</td>\n",
              "      <td>-0.463835</td>\n",
              "      <td>0.486830</td>\n",
              "    </tr>\n",
              "    <tr>\n",
              "      <th>5</th>\n",
              "      <td>0.890543</td>\n",
              "      <td>-1.140621</td>\n",
              "      <td>0.044705</td>\n",
              "      <td>0.671883</td>\n",
              "      <td>1.092610</td>\n",
              "      <td>-1.069807</td>\n",
              "      <td>-1.024466</td>\n",
              "      <td>-1.372568</td>\n",
              "      <td>0.757882</td>\n",
              "      <td>0.205143</td>\n",
              "    </tr>\n",
              "    <tr>\n",
              "      <th>6</th>\n",
              "      <td>-1.122906</td>\n",
              "      <td>-0.346302</td>\n",
              "      <td>0.044705</td>\n",
              "      <td>-1.452126</td>\n",
              "      <td>-0.915236</td>\n",
              "      <td>0.710811</td>\n",
              "      <td>0.976114</td>\n",
              "      <td>-0.236910</td>\n",
              "      <td>0.223381</td>\n",
              "      <td>0.744023</td>\n",
              "    </tr>\n",
              "    <tr>\n",
              "      <th>...</th>\n",
              "      <td>...</td>\n",
              "      <td>...</td>\n",
              "      <td>...</td>\n",
              "      <td>...</td>\n",
              "      <td>...</td>\n",
              "      <td>...</td>\n",
              "      <td>...</td>\n",
              "      <td>...</td>\n",
              "      <td>...</td>\n",
              "      <td>...</td>\n",
              "    </tr>\n",
              "    <tr>\n",
              "      <th>285826</th>\n",
              "      <td>-1.122906</td>\n",
              "      <td>-1.008235</td>\n",
              "      <td>0.044705</td>\n",
              "      <td>-1.766794</td>\n",
              "      <td>1.092610</td>\n",
              "      <td>-1.069807</td>\n",
              "      <td>-1.024466</td>\n",
              "      <td>-0.991713</td>\n",
              "      <td>0.757882</td>\n",
              "      <td>0.768517</td>\n",
              "    </tr>\n",
              "    <tr>\n",
              "      <th>285827</th>\n",
              "      <td>-1.122906</td>\n",
              "      <td>-1.140621</td>\n",
              "      <td>0.044705</td>\n",
              "      <td>1.537220</td>\n",
              "      <td>1.092610</td>\n",
              "      <td>-1.069807</td>\n",
              "      <td>-1.024466</td>\n",
              "      <td>1.197415</td>\n",
              "      <td>0.757882</td>\n",
              "      <td>-1.276776</td>\n",
              "    </tr>\n",
              "    <tr>\n",
              "      <th>285828</th>\n",
              "      <td>-1.122906</td>\n",
              "      <td>-1.008235</td>\n",
              "      <td>0.044705</td>\n",
              "      <td>1.851888</td>\n",
              "      <td>1.092610</td>\n",
              "      <td>-1.069807</td>\n",
              "      <td>-1.024466</td>\n",
              "      <td>1.790416</td>\n",
              "      <td>0.757882</td>\n",
              "      <td>0.878743</td>\n",
              "    </tr>\n",
              "    <tr>\n",
              "      <th>285829</th>\n",
              "      <td>0.890543</td>\n",
              "      <td>1.970461</td>\n",
              "      <td>0.044705</td>\n",
              "      <td>-1.530793</td>\n",
              "      <td>1.092610</td>\n",
              "      <td>0.710811</td>\n",
              "      <td>-1.024466</td>\n",
              "      <td>-0.463105</td>\n",
              "      <td>0.223381</td>\n",
              "      <td>1.417623</td>\n",
              "    </tr>\n",
              "    <tr>\n",
              "      <th>285830</th>\n",
              "      <td>0.890543</td>\n",
              "      <td>0.448016</td>\n",
              "      <td>0.044705</td>\n",
              "      <td>0.121214</td>\n",
              "      <td>-0.915236</td>\n",
              "      <td>0.710811</td>\n",
              "      <td>0.976114</td>\n",
              "      <td>0.236671</td>\n",
              "      <td>-1.647374</td>\n",
              "      <td>-1.350260</td>\n",
              "    </tr>\n",
              "  </tbody>\n",
              "</table>\n",
              "<p>230630 rows × 10 columns</p>\n",
              "</div>\n",
              "      <button class=\"colab-df-convert\" onclick=\"convertToInteractive('df-d2d49552-5d46-4cf9-9393-0e4844a894d4')\"\n",
              "              title=\"Convert this dataframe to an interactive table.\"\n",
              "              style=\"display:none;\">\n",
              "        \n",
              "  <svg xmlns=\"http://www.w3.org/2000/svg\" height=\"24px\"viewBox=\"0 0 24 24\"\n",
              "       width=\"24px\">\n",
              "    <path d=\"M0 0h24v24H0V0z\" fill=\"none\"/>\n",
              "    <path d=\"M18.56 5.44l.94 2.06.94-2.06 2.06-.94-2.06-.94-.94-2.06-.94 2.06-2.06.94zm-11 1L8.5 8.5l.94-2.06 2.06-.94-2.06-.94L8.5 2.5l-.94 2.06-2.06.94zm10 10l.94 2.06.94-2.06 2.06-.94-2.06-.94-.94-2.06-.94 2.06-2.06.94z\"/><path d=\"M17.41 7.96l-1.37-1.37c-.4-.4-.92-.59-1.43-.59-.52 0-1.04.2-1.43.59L10.3 9.45l-7.72 7.72c-.78.78-.78 2.05 0 2.83L4 21.41c.39.39.9.59 1.41.59.51 0 1.02-.2 1.41-.59l7.78-7.78 2.81-2.81c.8-.78.8-2.07 0-2.86zM5.41 20L4 18.59l7.72-7.72 1.47 1.35L5.41 20z\"/>\n",
              "  </svg>\n",
              "      </button>\n",
              "      \n",
              "  <style>\n",
              "    .colab-df-container {\n",
              "      display:flex;\n",
              "      flex-wrap:wrap;\n",
              "      gap: 12px;\n",
              "    }\n",
              "\n",
              "    .colab-df-convert {\n",
              "      background-color: #E8F0FE;\n",
              "      border: none;\n",
              "      border-radius: 50%;\n",
              "      cursor: pointer;\n",
              "      display: none;\n",
              "      fill: #1967D2;\n",
              "      height: 32px;\n",
              "      padding: 0 0 0 0;\n",
              "      width: 32px;\n",
              "    }\n",
              "\n",
              "    .colab-df-convert:hover {\n",
              "      background-color: #E2EBFA;\n",
              "      box-shadow: 0px 1px 2px rgba(60, 64, 67, 0.3), 0px 1px 3px 1px rgba(60, 64, 67, 0.15);\n",
              "      fill: #174EA6;\n",
              "    }\n",
              "\n",
              "    [theme=dark] .colab-df-convert {\n",
              "      background-color: #3B4455;\n",
              "      fill: #D2E3FC;\n",
              "    }\n",
              "\n",
              "    [theme=dark] .colab-df-convert:hover {\n",
              "      background-color: #434B5C;\n",
              "      box-shadow: 0px 1px 3px 1px rgba(0, 0, 0, 0.15);\n",
              "      filter: drop-shadow(0px 1px 2px rgba(0, 0, 0, 0.3));\n",
              "      fill: #FFFFFF;\n",
              "    }\n",
              "  </style>\n",
              "\n",
              "      <script>\n",
              "        const buttonEl =\n",
              "          document.querySelector('#df-d2d49552-5d46-4cf9-9393-0e4844a894d4 button.colab-df-convert');\n",
              "        buttonEl.style.display =\n",
              "          google.colab.kernel.accessAllowed ? 'block' : 'none';\n",
              "\n",
              "        async function convertToInteractive(key) {\n",
              "          const element = document.querySelector('#df-d2d49552-5d46-4cf9-9393-0e4844a894d4');\n",
              "          const dataTable =\n",
              "            await google.colab.kernel.invokeFunction('convertToInteractive',\n",
              "                                                     [key], {});\n",
              "          if (!dataTable) return;\n",
              "\n",
              "          const docLinkHtml = 'Like what you see? Visit the ' +\n",
              "            '<a target=\"_blank\" href=https://colab.research.google.com/notebooks/data_table.ipynb>data table notebook</a>'\n",
              "            + ' to learn more about interactive tables.';\n",
              "          element.innerHTML = '';\n",
              "          dataTable['output_type'] = 'display_data';\n",
              "          await google.colab.output.renderOutput(dataTable, element);\n",
              "          const docLink = document.createElement('div');\n",
              "          docLink.innerHTML = docLinkHtml;\n",
              "          element.appendChild(docLink);\n",
              "        }\n",
              "      </script>\n",
              "    </div>\n",
              "  </div>\n",
              "  "
            ],
            "text/plain": [
              "        Jenis_Kelamin      Umur  ...  Kanal_Penjualan  Lama_Berlangganan\n",
              "1            0.890543  0.646596  ...        -1.590106           0.045929\n",
              "2            0.890543 -1.140621  ...         0.910597          -0.431715\n",
              "4            0.890543  0.778983  ...        -0.463835           0.486830\n",
              "5            0.890543 -1.140621  ...         0.757882           0.205143\n",
              "6           -1.122906 -0.346302  ...         0.223381           0.744023\n",
              "...               ...       ...  ...              ...                ...\n",
              "285826      -1.122906 -1.008235  ...         0.757882           0.768517\n",
              "285827      -1.122906 -1.140621  ...         0.757882          -1.276776\n",
              "285828      -1.122906 -1.008235  ...         0.757882           0.878743\n",
              "285829       0.890543  1.970461  ...         0.223381           1.417623\n",
              "285830       0.890543  0.448016  ...        -1.647374          -1.350260\n",
              "\n",
              "[230630 rows x 10 columns]"
            ]
          },
          "metadata": {},
          "execution_count": 49
        }
      ],
      "source": [
        "# Feature scaling dengan menggunakan StandarScaller\n",
        "X_df_scaled_train = (X_df_cleaned_train-X_df_cleaned_train.mean())/X_df_cleaned_train.std()\n",
        "X_df_scaled_train"
      ]
    },
    {
      "cell_type": "code",
      "execution_count": 50,
      "metadata": {
        "colab": {
          "base_uri": "https://localhost:8080/",
          "height": 363
        },
        "id": "JodVTRCwqhp6",
        "outputId": "2c95d3fb-795c-4645-ce94-2bfc1b0ab770"
      },
      "outputs": [
        {
          "output_type": "execute_result",
          "data": {
            "text/html": [
              "\n",
              "  <div id=\"df-195c11f2-b4f3-4af8-a2ca-4b8c759e8ebc\">\n",
              "    <div class=\"colab-df-container\">\n",
              "      <div>\n",
              "<style scoped>\n",
              "    .dataframe tbody tr th:only-of-type {\n",
              "        vertical-align: middle;\n",
              "    }\n",
              "\n",
              "    .dataframe tbody tr th {\n",
              "        vertical-align: top;\n",
              "    }\n",
              "\n",
              "    .dataframe thead th {\n",
              "        text-align: right;\n",
              "    }\n",
              "</style>\n",
              "<table border=\"1\" class=\"dataframe\">\n",
              "  <thead>\n",
              "    <tr style=\"text-align: right;\">\n",
              "      <th></th>\n",
              "      <th>count</th>\n",
              "      <th>mean</th>\n",
              "      <th>std</th>\n",
              "      <th>min</th>\n",
              "      <th>25%</th>\n",
              "      <th>50%</th>\n",
              "      <th>75%</th>\n",
              "      <th>max</th>\n",
              "    </tr>\n",
              "  </thead>\n",
              "  <tbody>\n",
              "    <tr>\n",
              "      <th>Jenis_Kelamin</th>\n",
              "      <td>230630.0</td>\n",
              "      <td>-2.610515e-15</td>\n",
              "      <td>1.0</td>\n",
              "      <td>-1.122906</td>\n",
              "      <td>-1.122906</td>\n",
              "      <td>0.890543</td>\n",
              "      <td>0.890543</td>\n",
              "      <td>0.890543</td>\n",
              "    </tr>\n",
              "    <tr>\n",
              "      <th>Umur</th>\n",
              "      <td>230630.0</td>\n",
              "      <td>-2.361817e-16</td>\n",
              "      <td>1.0</td>\n",
              "      <td>-1.206814</td>\n",
              "      <td>-0.942041</td>\n",
              "      <td>-0.081529</td>\n",
              "      <td>0.646596</td>\n",
              "      <td>3.095746</td>\n",
              "    </tr>\n",
              "    <tr>\n",
              "      <th>SIM</th>\n",
              "      <td>230630.0</td>\n",
              "      <td>1.268527e-15</td>\n",
              "      <td>1.0</td>\n",
              "      <td>-22.368893</td>\n",
              "      <td>0.044705</td>\n",
              "      <td>0.044705</td>\n",
              "      <td>0.044705</td>\n",
              "      <td>0.044705</td>\n",
              "    </tr>\n",
              "    <tr>\n",
              "      <th>Kode_Daerah</th>\n",
              "      <td>230630.0</td>\n",
              "      <td>-1.293378e-15</td>\n",
              "      <td>1.0</td>\n",
              "      <td>-2.081462</td>\n",
              "      <td>-0.901457</td>\n",
              "      <td>0.121214</td>\n",
              "      <td>0.671883</td>\n",
              "      <td>2.009222</td>\n",
              "    </tr>\n",
              "    <tr>\n",
              "      <th>Sudah_Asuransi</th>\n",
              "      <td>230630.0</td>\n",
              "      <td>1.488458e-15</td>\n",
              "      <td>1.0</td>\n",
              "      <td>-0.915236</td>\n",
              "      <td>-0.915236</td>\n",
              "      <td>-0.915236</td>\n",
              "      <td>1.092610</td>\n",
              "      <td>1.092610</td>\n",
              "    </tr>\n",
              "    <tr>\n",
              "      <th>Umur_Kendaraan</th>\n",
              "      <td>230630.0</td>\n",
              "      <td>-9.409526e-15</td>\n",
              "      <td>1.0</td>\n",
              "      <td>-1.069807</td>\n",
              "      <td>-1.069807</td>\n",
              "      <td>0.710811</td>\n",
              "      <td>0.710811</td>\n",
              "      <td>2.491429</td>\n",
              "    </tr>\n",
              "    <tr>\n",
              "      <th>Kendaraan_Rusak</th>\n",
              "      <td>230630.0</td>\n",
              "      <td>1.206093e-15</td>\n",
              "      <td>1.0</td>\n",
              "      <td>-1.024466</td>\n",
              "      <td>-1.024466</td>\n",
              "      <td>0.976114</td>\n",
              "      <td>0.976114</td>\n",
              "      <td>0.976114</td>\n",
              "    </tr>\n",
              "    <tr>\n",
              "      <th>Premi</th>\n",
              "      <td>230630.0</td>\n",
              "      <td>-6.659544e-16</td>\n",
              "      <td>1.0</td>\n",
              "      <td>-3.320397</td>\n",
              "      <td>-0.683563</td>\n",
              "      <td>-0.198157</td>\n",
              "      <td>0.599263</td>\n",
              "      <td>2.957451</td>\n",
              "    </tr>\n",
              "    <tr>\n",
              "      <th>Kanal_Penjualan</th>\n",
              "      <td>230630.0</td>\n",
              "      <td>1.660944e-15</td>\n",
              "      <td>1.0</td>\n",
              "      <td>-2.124608</td>\n",
              "      <td>-0.998337</td>\n",
              "      <td>0.223381</td>\n",
              "      <td>0.757882</td>\n",
              "      <td>0.967865</td>\n",
              "    </tr>\n",
              "    <tr>\n",
              "      <th>Lama_Berlangganan</th>\n",
              "      <td>230630.0</td>\n",
              "      <td>-7.008707e-17</td>\n",
              "      <td>1.0</td>\n",
              "      <td>-1.766667</td>\n",
              "      <td>-0.848122</td>\n",
              "      <td>-0.003060</td>\n",
              "      <td>0.842001</td>\n",
              "      <td>1.772793</td>\n",
              "    </tr>\n",
              "  </tbody>\n",
              "</table>\n",
              "</div>\n",
              "      <button class=\"colab-df-convert\" onclick=\"convertToInteractive('df-195c11f2-b4f3-4af8-a2ca-4b8c759e8ebc')\"\n",
              "              title=\"Convert this dataframe to an interactive table.\"\n",
              "              style=\"display:none;\">\n",
              "        \n",
              "  <svg xmlns=\"http://www.w3.org/2000/svg\" height=\"24px\"viewBox=\"0 0 24 24\"\n",
              "       width=\"24px\">\n",
              "    <path d=\"M0 0h24v24H0V0z\" fill=\"none\"/>\n",
              "    <path d=\"M18.56 5.44l.94 2.06.94-2.06 2.06-.94-2.06-.94-.94-2.06-.94 2.06-2.06.94zm-11 1L8.5 8.5l.94-2.06 2.06-.94-2.06-.94L8.5 2.5l-.94 2.06-2.06.94zm10 10l.94 2.06.94-2.06 2.06-.94-2.06-.94-.94-2.06-.94 2.06-2.06.94z\"/><path d=\"M17.41 7.96l-1.37-1.37c-.4-.4-.92-.59-1.43-.59-.52 0-1.04.2-1.43.59L10.3 9.45l-7.72 7.72c-.78.78-.78 2.05 0 2.83L4 21.41c.39.39.9.59 1.41.59.51 0 1.02-.2 1.41-.59l7.78-7.78 2.81-2.81c.8-.78.8-2.07 0-2.86zM5.41 20L4 18.59l7.72-7.72 1.47 1.35L5.41 20z\"/>\n",
              "  </svg>\n",
              "      </button>\n",
              "      \n",
              "  <style>\n",
              "    .colab-df-container {\n",
              "      display:flex;\n",
              "      flex-wrap:wrap;\n",
              "      gap: 12px;\n",
              "    }\n",
              "\n",
              "    .colab-df-convert {\n",
              "      background-color: #E8F0FE;\n",
              "      border: none;\n",
              "      border-radius: 50%;\n",
              "      cursor: pointer;\n",
              "      display: none;\n",
              "      fill: #1967D2;\n",
              "      height: 32px;\n",
              "      padding: 0 0 0 0;\n",
              "      width: 32px;\n",
              "    }\n",
              "\n",
              "    .colab-df-convert:hover {\n",
              "      background-color: #E2EBFA;\n",
              "      box-shadow: 0px 1px 2px rgba(60, 64, 67, 0.3), 0px 1px 3px 1px rgba(60, 64, 67, 0.15);\n",
              "      fill: #174EA6;\n",
              "    }\n",
              "\n",
              "    [theme=dark] .colab-df-convert {\n",
              "      background-color: #3B4455;\n",
              "      fill: #D2E3FC;\n",
              "    }\n",
              "\n",
              "    [theme=dark] .colab-df-convert:hover {\n",
              "      background-color: #434B5C;\n",
              "      box-shadow: 0px 1px 3px 1px rgba(0, 0, 0, 0.15);\n",
              "      filter: drop-shadow(0px 1px 2px rgba(0, 0, 0, 0.3));\n",
              "      fill: #FFFFFF;\n",
              "    }\n",
              "  </style>\n",
              "\n",
              "      <script>\n",
              "        const buttonEl =\n",
              "          document.querySelector('#df-195c11f2-b4f3-4af8-a2ca-4b8c759e8ebc button.colab-df-convert');\n",
              "        buttonEl.style.display =\n",
              "          google.colab.kernel.accessAllowed ? 'block' : 'none';\n",
              "\n",
              "        async function convertToInteractive(key) {\n",
              "          const element = document.querySelector('#df-195c11f2-b4f3-4af8-a2ca-4b8c759e8ebc');\n",
              "          const dataTable =\n",
              "            await google.colab.kernel.invokeFunction('convertToInteractive',\n",
              "                                                     [key], {});\n",
              "          if (!dataTable) return;\n",
              "\n",
              "          const docLinkHtml = 'Like what you see? Visit the ' +\n",
              "            '<a target=\"_blank\" href=https://colab.research.google.com/notebooks/data_table.ipynb>data table notebook</a>'\n",
              "            + ' to learn more about interactive tables.';\n",
              "          element.innerHTML = '';\n",
              "          dataTable['output_type'] = 'display_data';\n",
              "          await google.colab.output.renderOutput(dataTable, element);\n",
              "          const docLink = document.createElement('div');\n",
              "          docLink.innerHTML = docLinkHtml;\n",
              "          element.appendChild(docLink);\n",
              "        }\n",
              "      </script>\n",
              "    </div>\n",
              "  </div>\n",
              "  "
            ],
            "text/plain": [
              "                      count          mean  std  ...       50%       75%       max\n",
              "Jenis_Kelamin      230630.0 -2.610515e-15  1.0  ...  0.890543  0.890543  0.890543\n",
              "Umur               230630.0 -2.361817e-16  1.0  ... -0.081529  0.646596  3.095746\n",
              "SIM                230630.0  1.268527e-15  1.0  ...  0.044705  0.044705  0.044705\n",
              "Kode_Daerah        230630.0 -1.293378e-15  1.0  ...  0.121214  0.671883  2.009222\n",
              "Sudah_Asuransi     230630.0  1.488458e-15  1.0  ... -0.915236  1.092610  1.092610\n",
              "Umur_Kendaraan     230630.0 -9.409526e-15  1.0  ...  0.710811  0.710811  2.491429\n",
              "Kendaraan_Rusak    230630.0  1.206093e-15  1.0  ...  0.976114  0.976114  0.976114\n",
              "Premi              230630.0 -6.659544e-16  1.0  ... -0.198157  0.599263  2.957451\n",
              "Kanal_Penjualan    230630.0  1.660944e-15  1.0  ...  0.223381  0.757882  0.967865\n",
              "Lama_Berlangganan  230630.0 -7.008707e-17  1.0  ... -0.003060  0.842001  1.772793\n",
              "\n",
              "[10 rows x 8 columns]"
            ]
          },
          "metadata": {},
          "execution_count": 50
        }
      ],
      "source": [
        "X_df_scaled_train.describe().T"
      ]
    },
    {
      "cell_type": "code",
      "execution_count": 51,
      "metadata": {
        "colab": {
          "base_uri": "https://localhost:8080/",
          "height": 575
        },
        "id": "fFXt044ekdov",
        "outputId": "b8c05c77-50c3-46ed-cd6a-a87153f37198"
      },
      "outputs": [
        {
          "output_type": "display_data",
          "data": {
            "image/png": "[encoded data removed]",
            "text/plain": [
              "<Figure size 1440x576 with 1 Axes>"
            ]
          },
          "metadata": {
            "needs_background": "light"
          }
        }
      ],
      "source": [
        "shades =[\"#f7b2b0\",\"#c98ea6\",\"#8f7198\",\"#50587f\", \"#003f5c\"]\n",
        "plt.figure(figsize=(20,8))\n",
        "sns.boxenplot(data = X_df_scaled_train,palette = shades)\n",
        "plt.xticks(rotation=90)\n",
        "plt.show()"
      ]
    },
    {
      "cell_type": "markdown",
      "metadata": {
        "id": "ZdJs08iK_8vY"
      },
      "source": [
        "## Data Test"
      ]
    },
    {
      "cell_type": "code",
      "execution_count": 52,
      "metadata": {
        "colab": {
          "base_uri": "https://localhost:8080/"
        },
        "id": "H3nYQh-FATpl",
        "outputId": "77140bfb-8828-4434-b642-ba2d1bf00d5a"
      },
      "outputs": [
        {
          "output_type": "execute_result",
          "data": {
            "text/plain": [
              "(47639, 11)"
            ]
          },
          "metadata": {},
          "execution_count": 52
        }
      ],
      "source": [
        "df_test.shape"
      ]
    },
    {
      "cell_type": "code",
      "execution_count": 53,
      "metadata": {
        "colab": {
          "base_uri": "https://localhost:8080/"
        },
        "id": "m7Wd6iVmA7Ep",
        "outputId": "cffd24a6-acef-4e20-a268-8ffc6e40d00f"
      },
      "outputs": [
        {
          "output_type": "execute_result",
          "data": {
            "text/plain": [
              "Jenis_Kelamin        0\n",
              "Umur                 0\n",
              "SIM                  0\n",
              "Kode_Daerah          0\n",
              "Sudah_Asuransi       0\n",
              "Umur_Kendaraan       0\n",
              "Kendaraan_Rusak      0\n",
              "Premi                0\n",
              "Kanal_Penjualan      0\n",
              "Lama_Berlangganan    0\n",
              "Tertarik             0\n",
              "dtype: int64"
            ]
          },
          "metadata": {},
          "execution_count": 53
        }
      ],
      "source": [
        "df_test.isnull().sum()"
      ]
    },
    {
      "cell_type": "markdown",
      "metadata": {
        "id": "7YKEQCuwiIR8"
      },
      "source": [
        "### Feature Engineering"
      ]
    },
    {
      "cell_type": "code",
      "execution_count": 54,
      "metadata": {
        "colab": {
          "base_uri": "https://localhost:8080/"
        },
        "id": "1XhaPHONiNPN",
        "outputId": "d5bd7604-7869-45d6-dfd2-7df7c66c5bd8"
      },
      "outputs": [
        {
          "output_type": "stream",
          "name": "stdout",
          "text": [
            "Sekarang semua fitur numerik\n"
          ]
        }
      ],
      "source": [
        "data_labelling(df_test)\n",
        "print(\"Sekarang semua fitur numerik\")"
      ]
    },
    {
      "cell_type": "markdown",
      "metadata": {
        "id": "t_Zb98pLe15O"
      },
      "source": [
        "### Handling Outlier dengan metode IQR"
      ]
    },
    {
      "cell_type": "code",
      "execution_count": 55,
      "metadata": {
        "id": "o6SSwDofACyF"
      },
      "outputs": [],
      "source": [
        "# Mendefinisikan list kosong index_list yang menyimpan nilai index dari outliers\n",
        "index_list = []\n",
        "\n",
        "# Melakukan perulangan sebanyak columns\n",
        "for col in columns:\n",
        "  index_list.extend(outliers(df_test,col))"
      ]
    },
    {
      "cell_type": "code",
      "execution_count": 56,
      "metadata": {
        "id": "Rv28kYs3AL89"
      },
      "outputs": [],
      "source": [
        "# Menjadikan data yang bersih dari df_test menjadi df_cleaned_test\n",
        "df_cleaned_test = remove(df_test, index_list)\n",
        "df_cleaned_test.shape\n",
        "\n",
        "# Mencetak dataframe test yang sudah di proses menjadi csv\n",
        "df_cleaned_test.to_csv('df_test_cleaned.csv')"
      ]
    },
    {
      "cell_type": "markdown",
      "metadata": {
        "id": "9SEvfpIFfoyr"
      },
      "source": [
        "### Deklarasi variabel fitur dan target/class"
      ]
    },
    {
      "cell_type": "code",
      "execution_count": 57,
      "metadata": {
        "id": "6a7K24hL5sw4"
      },
      "outputs": [],
      "source": [
        "X_df_cleaned_test = df_cleaned_test.drop(['Tertarik'], axis=1) \n",
        "y_test = df_cleaned_test[\"Tertarik\"].values"
      ]
    },
    {
      "cell_type": "markdown",
      "metadata": {
        "id": "Hy9YmEZTfaxD"
      },
      "source": [
        "### Feature Scaling"
      ]
    },
    {
      "cell_type": "code",
      "execution_count": 58,
      "metadata": {
        "colab": {
          "base_uri": "https://localhost:8080/",
          "height": 424
        },
        "id": "Lhcf6WCo_PSf",
        "outputId": "42e7a5c6-e8dc-4abf-8da3-0b1bb2d7cd15"
      },
      "outputs": [
        {
          "output_type": "execute_result",
          "data": {
            "text/html": [
              "\n",
              "  <div id=\"df-03885f16-47ec-4560-a264-0f5cbe00e422\">\n",
              "    <div class=\"colab-df-container\">\n",
              "      <div>\n",
              "<style scoped>\n",
              "    .dataframe tbody tr th:only-of-type {\n",
              "        vertical-align: middle;\n",
              "    }\n",
              "\n",
              "    .dataframe tbody tr th {\n",
              "        vertical-align: top;\n",
              "    }\n",
              "\n",
              "    .dataframe thead th {\n",
              "        text-align: right;\n",
              "    }\n",
              "</style>\n",
              "<table border=\"1\" class=\"dataframe\">\n",
              "  <thead>\n",
              "    <tr style=\"text-align: right;\">\n",
              "      <th></th>\n",
              "      <th>Jenis_Kelamin</th>\n",
              "      <th>Umur</th>\n",
              "      <th>SIM</th>\n",
              "      <th>Kode_Daerah</th>\n",
              "      <th>Sudah_Asuransi</th>\n",
              "      <th>Umur_Kendaraan</th>\n",
              "      <th>Kendaraan_Rusak</th>\n",
              "      <th>Premi</th>\n",
              "      <th>Kanal_Penjualan</th>\n",
              "      <th>Lama_Berlangganan</th>\n",
              "    </tr>\n",
              "  </thead>\n",
              "  <tbody>\n",
              "    <tr>\n",
              "      <th>0</th>\n",
              "      <td>-1.090272</td>\n",
              "      <td>-1.075484</td>\n",
              "      <td>0.044829</td>\n",
              "      <td>1.927525</td>\n",
              "      <td>-0.922456</td>\n",
              "      <td>0.703491</td>\n",
              "      <td>0.995256</td>\n",
              "      <td>0.242038</td>\n",
              "      <td>0.207967</td>\n",
              "      <td>-0.996279</td>\n",
              "    </tr>\n",
              "    <tr>\n",
              "      <th>1</th>\n",
              "      <td>0.917183</td>\n",
              "      <td>0.992898</td>\n",
              "      <td>0.044829</td>\n",
              "      <td>1.927525</td>\n",
              "      <td>-0.922456</td>\n",
              "      <td>0.703491</td>\n",
              "      <td>0.995256</td>\n",
              "      <td>0.952262</td>\n",
              "      <td>0.207967</td>\n",
              "      <td>0.522047</td>\n",
              "    </tr>\n",
              "    <tr>\n",
              "      <th>2</th>\n",
              "      <td>-1.090272</td>\n",
              "      <td>-0.946210</td>\n",
              "      <td>0.044829</td>\n",
              "      <td>1.927525</td>\n",
              "      <td>-0.922456</td>\n",
              "      <td>0.703491</td>\n",
              "      <td>0.995256</td>\n",
              "      <td>1.063537</td>\n",
              "      <td>0.207967</td>\n",
              "      <td>0.199254</td>\n",
              "    </tr>\n",
              "    <tr>\n",
              "      <th>3</th>\n",
              "      <td>-1.090272</td>\n",
              "      <td>2.544185</td>\n",
              "      <td>0.044829</td>\n",
              "      <td>1.927525</td>\n",
              "      <td>-0.922456</td>\n",
              "      <td>2.471004</td>\n",
              "      <td>0.995256</td>\n",
              "      <td>0.914155</td>\n",
              "      <td>-1.608654</td>\n",
              "      <td>0.641601</td>\n",
              "    </tr>\n",
              "    <tr>\n",
              "      <th>4</th>\n",
              "      <td>-1.090272</td>\n",
              "      <td>0.411166</td>\n",
              "      <td>0.044829</td>\n",
              "      <td>1.927525</td>\n",
              "      <td>-0.922456</td>\n",
              "      <td>0.703491</td>\n",
              "      <td>0.995256</td>\n",
              "      <td>-1.806464</td>\n",
              "      <td>-1.608654</td>\n",
              "      <td>0.880707</td>\n",
              "    </tr>\n",
              "    <tr>\n",
              "      <th>...</th>\n",
              "      <td>...</td>\n",
              "      <td>...</td>\n",
              "      <td>...</td>\n",
              "      <td>...</td>\n",
              "      <td>...</td>\n",
              "      <td>...</td>\n",
              "      <td>...</td>\n",
              "      <td>...</td>\n",
              "      <td>...</td>\n",
              "      <td>...</td>\n",
              "    </tr>\n",
              "    <tr>\n",
              "      <th>47634</th>\n",
              "      <td>0.917183</td>\n",
              "      <td>0.152618</td>\n",
              "      <td>0.044829</td>\n",
              "      <td>-1.985492</td>\n",
              "      <td>-0.922456</td>\n",
              "      <td>0.703491</td>\n",
              "      <td>0.995256</td>\n",
              "      <td>-1.806464</td>\n",
              "      <td>-0.644733</td>\n",
              "      <td>-1.606001</td>\n",
              "    </tr>\n",
              "    <tr>\n",
              "      <th>47635</th>\n",
              "      <td>0.917183</td>\n",
              "      <td>0.023344</td>\n",
              "      <td>0.044829</td>\n",
              "      <td>-1.985492</td>\n",
              "      <td>-0.922456</td>\n",
              "      <td>0.703491</td>\n",
              "      <td>0.995256</td>\n",
              "      <td>-1.806464</td>\n",
              "      <td>0.207967</td>\n",
              "      <td>0.545958</td>\n",
              "    </tr>\n",
              "    <tr>\n",
              "      <th>47636</th>\n",
              "      <td>0.917183</td>\n",
              "      <td>-0.364478</td>\n",
              "      <td>0.044829</td>\n",
              "      <td>-1.985492</td>\n",
              "      <td>1.084039</td>\n",
              "      <td>-1.064023</td>\n",
              "      <td>-1.004745</td>\n",
              "      <td>-1.806464</td>\n",
              "      <td>0.727001</td>\n",
              "      <td>-0.027898</td>\n",
              "    </tr>\n",
              "    <tr>\n",
              "      <th>47637</th>\n",
              "      <td>-1.090272</td>\n",
              "      <td>2.091726</td>\n",
              "      <td>0.044829</td>\n",
              "      <td>-1.985492</td>\n",
              "      <td>-0.922456</td>\n",
              "      <td>0.703491</td>\n",
              "      <td>0.995256</td>\n",
              "      <td>-1.806464</td>\n",
              "      <td>-1.627191</td>\n",
              "      <td>0.856797</td>\n",
              "    </tr>\n",
              "    <tr>\n",
              "      <th>47638</th>\n",
              "      <td>-1.090272</td>\n",
              "      <td>-0.429115</td>\n",
              "      <td>0.044829</td>\n",
              "      <td>-1.985492</td>\n",
              "      <td>1.084039</td>\n",
              "      <td>0.703491</td>\n",
              "      <td>-1.004745</td>\n",
              "      <td>-1.806464</td>\n",
              "      <td>-1.608654</td>\n",
              "      <td>0.569869</td>\n",
              "    </tr>\n",
              "  </tbody>\n",
              "</table>\n",
              "<p>46368 rows × 10 columns</p>\n",
              "</div>\n",
              "      <button class=\"colab-df-convert\" onclick=\"convertToInteractive('df-03885f16-47ec-4560-a264-0f5cbe00e422')\"\n",
              "              title=\"Convert this dataframe to an interactive table.\"\n",
              "              style=\"display:none;\">\n",
              "        \n",
              "  <svg xmlns=\"http://www.w3.org/2000/svg\" height=\"24px\"viewBox=\"0 0 24 24\"\n",
              "       width=\"24px\">\n",
              "    <path d=\"M0 0h24v24H0V0z\" fill=\"none\"/>\n",
              "    <path d=\"M18.56 5.44l.94 2.06.94-2.06 2.06-.94-2.06-.94-.94-2.06-.94 2.06-2.06.94zm-11 1L8.5 8.5l.94-2.06 2.06-.94-2.06-.94L8.5 2.5l-.94 2.06-2.06.94zm10 10l.94 2.06.94-2.06 2.06-.94-2.06-.94-.94-2.06-.94 2.06-2.06.94z\"/><path d=\"M17.41 7.96l-1.37-1.37c-.4-.4-.92-.59-1.43-.59-.52 0-1.04.2-1.43.59L10.3 9.45l-7.72 7.72c-.78.78-.78 2.05 0 2.83L4 21.41c.39.39.9.59 1.41.59.51 0 1.02-.2 1.41-.59l7.78-7.78 2.81-2.81c.8-.78.8-2.07 0-2.86zM5.41 20L4 18.59l7.72-7.72 1.47 1.35L5.41 20z\"/>\n",
              "  </svg>\n",
              "      </button>\n",
              "      \n",
              "  <style>\n",
              "    .colab-df-container {\n",
              "      display:flex;\n",
              "      flex-wrap:wrap;\n",
              "      gap: 12px;\n",
              "    }\n",
              "\n",
              "    .colab-df-convert {\n",
              "      background-color: #E8F0FE;\n",
              "      border: none;\n",
              "      border-radius: 50%;\n",
              "      cursor: pointer;\n",
              "      display: none;\n",
              "      fill: #1967D2;\n",
              "      height: 32px;\n",
              "      padding: 0 0 0 0;\n",
              "      width: 32px;\n",
              "    }\n",
              "\n",
              "    .colab-df-convert:hover {\n",
              "      background-color: #E2EBFA;\n",
              "      box-shadow: 0px 1px 2px rgba(60, 64, 67, 0.3), 0px 1px 3px 1px rgba(60, 64, 67, 0.15);\n",
              "      fill: #174EA6;\n",
              "    }\n",
              "\n",
              "    [theme=dark] .colab-df-convert {\n",
              "      background-color: #3B4455;\n",
              "      fill: #D2E3FC;\n",
              "    }\n",
              "\n",
              "    [theme=dark] .colab-df-convert:hover {\n",
              "      background-color: #434B5C;\n",
              "      box-shadow: 0px 1px 3px 1px rgba(0, 0, 0, 0.15);\n",
              "      filter: drop-shadow(0px 1px 2px rgba(0, 0, 0, 0.3));\n",
              "      fill: #FFFFFF;\n",
              "    }\n",
              "  </style>\n",
              "\n",
              "      <script>\n",
              "        const buttonEl =\n",
              "          document.querySelector('#df-03885f16-47ec-4560-a264-0f5cbe00e422 button.colab-df-convert');\n",
              "        buttonEl.style.display =\n",
              "          google.colab.kernel.accessAllowed ? 'block' : 'none';\n",
              "\n",
              "        async function convertToInteractive(key) {\n",
              "          const element = document.querySelector('#df-03885f16-47ec-4560-a264-0f5cbe00e422');\n",
              "          const dataTable =\n",
              "            await google.colab.kernel.invokeFunction('convertToInteractive',\n",
              "                                                     [key], {});\n",
              "          if (!dataTable) return;\n",
              "\n",
              "          const docLinkHtml = 'Like what you see? Visit the ' +\n",
              "            '<a target=\"_blank\" href=https://colab.research.google.com/notebooks/data_table.ipynb>data table notebook</a>'\n",
              "            + ' to learn more about interactive tables.';\n",
              "          element.innerHTML = '';\n",
              "          dataTable['output_type'] = 'display_data';\n",
              "          await google.colab.output.renderOutput(dataTable, element);\n",
              "          const docLink = document.createElement('div');\n",
              "          docLink.innerHTML = docLinkHtml;\n",
              "          element.appendChild(docLink);\n",
              "        }\n",
              "      </script>\n",
              "    </div>\n",
              "  </div>\n",
              "  "
            ],
            "text/plain": [
              "       Jenis_Kelamin      Umur  ...  Kanal_Penjualan  Lama_Berlangganan\n",
              "0          -1.090272 -1.075484  ...         0.207967          -0.996279\n",
              "1           0.917183  0.992898  ...         0.207967           0.522047\n",
              "2          -1.090272 -0.946210  ...         0.207967           0.199254\n",
              "3          -1.090272  2.544185  ...        -1.608654           0.641601\n",
              "4          -1.090272  0.411166  ...        -1.608654           0.880707\n",
              "...              ...       ...  ...              ...                ...\n",
              "47634       0.917183  0.152618  ...        -0.644733          -1.606001\n",
              "47635       0.917183  0.023344  ...         0.207967           0.545958\n",
              "47636       0.917183 -0.364478  ...         0.727001          -0.027898\n",
              "47637      -1.090272  2.091726  ...        -1.627191           0.856797\n",
              "47638      -1.090272 -0.429115  ...        -1.608654           0.569869\n",
              "\n",
              "[46368 rows x 10 columns]"
            ]
          },
          "metadata": {},
          "execution_count": 58
        }
      ],
      "source": [
        "# Menormalisasikan data frame test dan dimasukkan menjadi df_cleaned_test\n",
        "X_df_scaled_test = (X_df_cleaned_test-X_df_cleaned_test.mean())/X_df_cleaned_test.std()\n",
        "X_df_scaled_test"
      ]
    },
    {
      "cell_type": "code",
      "execution_count": 59,
      "metadata": {
        "colab": {
          "base_uri": "https://localhost:8080/",
          "height": 363
        },
        "id": "rSdXFZHaCJe5",
        "outputId": "693dccfc-a355-4252-c208-ce9aacfec9d6"
      },
      "outputs": [
        {
          "output_type": "execute_result",
          "data": {
            "text/html": [
              "\n",
              "  <div id=\"df-8d7198eb-9541-4c8b-a66b-3a4df3728b45\">\n",
              "    <div class=\"colab-df-container\">\n",
              "      <div>\n",
              "<style scoped>\n",
              "    .dataframe tbody tr th:only-of-type {\n",
              "        vertical-align: middle;\n",
              "    }\n",
              "\n",
              "    .dataframe tbody tr th {\n",
              "        vertical-align: top;\n",
              "    }\n",
              "\n",
              "    .dataframe thead th {\n",
              "        text-align: right;\n",
              "    }\n",
              "</style>\n",
              "<table border=\"1\" class=\"dataframe\">\n",
              "  <thead>\n",
              "    <tr style=\"text-align: right;\">\n",
              "      <th></th>\n",
              "      <th>count</th>\n",
              "      <th>mean</th>\n",
              "      <th>std</th>\n",
              "      <th>min</th>\n",
              "      <th>25%</th>\n",
              "      <th>50%</th>\n",
              "      <th>75%</th>\n",
              "      <th>max</th>\n",
              "    </tr>\n",
              "  </thead>\n",
              "  <tbody>\n",
              "    <tr>\n",
              "      <th>Jenis_Kelamin</th>\n",
              "      <td>46368.0</td>\n",
              "      <td>2.792625e-15</td>\n",
              "      <td>1.0</td>\n",
              "      <td>-1.090272</td>\n",
              "      <td>-1.090272</td>\n",
              "      <td>0.917183</td>\n",
              "      <td>0.917183</td>\n",
              "      <td>0.917183</td>\n",
              "    </tr>\n",
              "    <tr>\n",
              "      <th>Umur</th>\n",
              "      <td>46368.0</td>\n",
              "      <td>2.758246e-16</td>\n",
              "      <td>1.0</td>\n",
              "      <td>-1.204758</td>\n",
              "      <td>-0.881573</td>\n",
              "      <td>-0.170567</td>\n",
              "      <td>0.669713</td>\n",
              "      <td>2.996644</td>\n",
              "    </tr>\n",
              "    <tr>\n",
              "      <th>SIM</th>\n",
              "      <td>46368.0</td>\n",
              "      <td>-1.893944e-15</td>\n",
              "      <td>1.0</td>\n",
              "      <td>-22.306275</td>\n",
              "      <td>0.044829</td>\n",
              "      <td>0.044829</td>\n",
              "      <td>0.044829</td>\n",
              "      <td>0.044829</td>\n",
              "    </tr>\n",
              "    <tr>\n",
              "      <th>Kode_Daerah</th>\n",
              "      <td>46368.0</td>\n",
              "      <td>-5.984203e-14</td>\n",
              "      <td>1.0</td>\n",
              "      <td>-1.985492</td>\n",
              "      <td>-0.856737</td>\n",
              "      <td>0.121517</td>\n",
              "      <td>0.723520</td>\n",
              "      <td>1.927525</td>\n",
              "    </tr>\n",
              "    <tr>\n",
              "      <th>Sudah_Asuransi</th>\n",
              "      <td>46368.0</td>\n",
              "      <td>6.644343e-15</td>\n",
              "      <td>1.0</td>\n",
              "      <td>-0.922456</td>\n",
              "      <td>-0.922456</td>\n",
              "      <td>-0.922456</td>\n",
              "      <td>1.084039</td>\n",
              "      <td>1.084039</td>\n",
              "    </tr>\n",
              "    <tr>\n",
              "      <th>Umur_Kendaraan</th>\n",
              "      <td>46368.0</td>\n",
              "      <td>-9.563898e-15</td>\n",
              "      <td>1.0</td>\n",
              "      <td>-1.064023</td>\n",
              "      <td>-1.064023</td>\n",
              "      <td>0.703491</td>\n",
              "      <td>0.703491</td>\n",
              "      <td>2.471004</td>\n",
              "    </tr>\n",
              "    <tr>\n",
              "      <th>Kendaraan_Rusak</th>\n",
              "      <td>46368.0</td>\n",
              "      <td>-3.814821e-15</td>\n",
              "      <td>1.0</td>\n",
              "      <td>-1.004745</td>\n",
              "      <td>-1.004745</td>\n",
              "      <td>0.995256</td>\n",
              "      <td>0.995256</td>\n",
              "      <td>0.995256</td>\n",
              "    </tr>\n",
              "    <tr>\n",
              "      <th>Premi</th>\n",
              "      <td>46368.0</td>\n",
              "      <td>-8.229011e-15</td>\n",
              "      <td>1.0</td>\n",
              "      <td>-1.806464</td>\n",
              "      <td>-0.354356</td>\n",
              "      <td>0.141728</td>\n",
              "      <td>0.631382</td>\n",
              "      <td>2.218184</td>\n",
              "    </tr>\n",
              "    <tr>\n",
              "      <th>Kanal_Penjualan</th>\n",
              "      <td>46368.0</td>\n",
              "      <td>1.658741e-14</td>\n",
              "      <td>1.0</td>\n",
              "      <td>-2.072078</td>\n",
              "      <td>-1.534507</td>\n",
              "      <td>0.708464</td>\n",
              "      <td>0.727001</td>\n",
              "      <td>0.930908</td>\n",
              "    </tr>\n",
              "    <tr>\n",
              "      <th>Lama_Berlangganan</th>\n",
              "      <td>46368.0</td>\n",
              "      <td>1.380524e-16</td>\n",
              "      <td>1.0</td>\n",
              "      <td>-1.725554</td>\n",
              "      <td>-0.864770</td>\n",
              "      <td>0.007968</td>\n",
              "      <td>0.868752</td>\n",
              "      <td>1.729535</td>\n",
              "    </tr>\n",
              "  </tbody>\n",
              "</table>\n",
              "</div>\n",
              "      <button class=\"colab-df-convert\" onclick=\"convertToInteractive('df-8d7198eb-9541-4c8b-a66b-3a4df3728b45')\"\n",
              "              title=\"Convert this dataframe to an interactive table.\"\n",
              "              style=\"display:none;\">\n",
              "        \n",
              "  <svg xmlns=\"http://www.w3.org/2000/svg\" height=\"24px\"viewBox=\"0 0 24 24\"\n",
              "       width=\"24px\">\n",
              "    <path d=\"M0 0h24v24H0V0z\" fill=\"none\"/>\n",
              "    <path d=\"M18.56 5.44l.94 2.06.94-2.06 2.06-.94-2.06-.94-.94-2.06-.94 2.06-2.06.94zm-11 1L8.5 8.5l.94-2.06 2.06-.94-2.06-.94L8.5 2.5l-.94 2.06-2.06.94zm10 10l.94 2.06.94-2.06 2.06-.94-2.06-.94-.94-2.06-.94 2.06-2.06.94z\"/><path d=\"M17.41 7.96l-1.37-1.37c-.4-.4-.92-.59-1.43-.59-.52 0-1.04.2-1.43.59L10.3 9.45l-7.72 7.72c-.78.78-.78 2.05 0 2.83L4 21.41c.39.39.9.59 1.41.59.51 0 1.02-.2 1.41-.59l7.78-7.78 2.81-2.81c.8-.78.8-2.07 0-2.86zM5.41 20L4 18.59l7.72-7.72 1.47 1.35L5.41 20z\"/>\n",
              "  </svg>\n",
              "      </button>\n",
              "      \n",
              "  <style>\n",
              "    .colab-df-container {\n",
              "      display:flex;\n",
              "      flex-wrap:wrap;\n",
              "      gap: 12px;\n",
              "    }\n",
              "\n",
              "    .colab-df-convert {\n",
              "      background-color: #E8F0FE;\n",
              "      border: none;\n",
              "      border-radius: 50%;\n",
              "      cursor: pointer;\n",
              "      display: none;\n",
              "      fill: #1967D2;\n",
              "      height: 32px;\n",
              "      padding: 0 0 0 0;\n",
              "      width: 32px;\n",
              "    }\n",
              "\n",
              "    .colab-df-convert:hover {\n",
              "      background-color: #E2EBFA;\n",
              "      box-shadow: 0px 1px 2px rgba(60, 64, 67, 0.3), 0px 1px 3px 1px rgba(60, 64, 67, 0.15);\n",
              "      fill: #174EA6;\n",
              "    }\n",
              "\n",
              "    [theme=dark] .colab-df-convert {\n",
              "      background-color: #3B4455;\n",
              "      fill: #D2E3FC;\n",
              "    }\n",
              "\n",
              "    [theme=dark] .colab-df-convert:hover {\n",
              "      background-color: #434B5C;\n",
              "      box-shadow: 0px 1px 3px 1px rgba(0, 0, 0, 0.15);\n",
              "      filter: drop-shadow(0px 1px 2px rgba(0, 0, 0, 0.3));\n",
              "      fill: #FFFFFF;\n",
              "    }\n",
              "  </style>\n",
              "\n",
              "      <script>\n",
              "        const buttonEl =\n",
              "          document.querySelector('#df-8d7198eb-9541-4c8b-a66b-3a4df3728b45 button.colab-df-convert');\n",
              "        buttonEl.style.display =\n",
              "          google.colab.kernel.accessAllowed ? 'block' : 'none';\n",
              "\n",
              "        async function convertToInteractive(key) {\n",
              "          const element = document.querySelector('#df-8d7198eb-9541-4c8b-a66b-3a4df3728b45');\n",
              "          const dataTable =\n",
              "            await google.colab.kernel.invokeFunction('convertToInteractive',\n",
              "                                                     [key], {});\n",
              "          if (!dataTable) return;\n",
              "\n",
              "          const docLinkHtml = 'Like what you see? Visit the ' +\n",
              "            '<a target=\"_blank\" href=https://colab.research.google.com/notebooks/data_table.ipynb>data table notebook</a>'\n",
              "            + ' to learn more about interactive tables.';\n",
              "          element.innerHTML = '';\n",
              "          dataTable['output_type'] = 'display_data';\n",
              "          await google.colab.output.renderOutput(dataTable, element);\n",
              "          const docLink = document.createElement('div');\n",
              "          docLink.innerHTML = docLinkHtml;\n",
              "          element.appendChild(docLink);\n",
              "        }\n",
              "      </script>\n",
              "    </div>\n",
              "  </div>\n",
              "  "
            ],
            "text/plain": [
              "                     count          mean  std  ...       50%       75%       max\n",
              "Jenis_Kelamin      46368.0  2.792625e-15  1.0  ...  0.917183  0.917183  0.917183\n",
              "Umur               46368.0  2.758246e-16  1.0  ... -0.170567  0.669713  2.996644\n",
              "SIM                46368.0 -1.893944e-15  1.0  ...  0.044829  0.044829  0.044829\n",
              "Kode_Daerah        46368.0 -5.984203e-14  1.0  ...  0.121517  0.723520  1.927525\n",
              "Sudah_Asuransi     46368.0  6.644343e-15  1.0  ... -0.922456  1.084039  1.084039\n",
              "Umur_Kendaraan     46368.0 -9.563898e-15  1.0  ...  0.703491  0.703491  2.471004\n",
              "Kendaraan_Rusak    46368.0 -3.814821e-15  1.0  ...  0.995256  0.995256  0.995256\n",
              "Premi              46368.0 -8.229011e-15  1.0  ...  0.141728  0.631382  2.218184\n",
              "Kanal_Penjualan    46368.0  1.658741e-14  1.0  ...  0.708464  0.727001  0.930908\n",
              "Lama_Berlangganan  46368.0  1.380524e-16  1.0  ...  0.007968  0.868752  1.729535\n",
              "\n",
              "[10 rows x 8 columns]"
            ]
          },
          "metadata": {},
          "execution_count": 59
        }
      ],
      "source": [
        "X_df_scaled_test.describe().T"
      ]
    },
    {
      "cell_type": "markdown",
      "metadata": {
        "id": "bNocnix-BaIN"
      },
      "source": [
        "# Pemodelan"
      ]
    },
    {
      "cell_type": "code",
      "execution_count": 60,
      "metadata": {
        "colab": {
          "base_uri": "https://localhost:8080/",
          "height": 438
        },
        "id": "gTxXmzHLBZhY",
        "outputId": "16cfdd52-a708-4b87-f108-7deb97d3f52f"
      },
      "outputs": [
        {
          "output_type": "stream",
          "name": "stdout",
          "text": [
            "0    202944\n",
            "1     27686\n",
            "Name: Tertarik, dtype: int64\n"
          ]
        },
        {
          "output_type": "execute_result",
          "data": {
            "text/plain": [
              "<seaborn.axisgrid.FacetGrid at 0x7f7fff1fbbd0>"
            ]
          },
          "metadata": {},
          "execution_count": 60
        },
        {
          "output_type": "display_data",
          "data": {
            "image/png": "[encoded data removed]",
            "text/plain": [
              "<Figure size 360x360 with 1 Axes>"
            ]
          },
          "metadata": {
            "needs_background": "light"
          }
        }
      ],
      "source": [
        "# Evaluasi target dalam dataset untuk mengetahui apakah data imbalance atau tidak\n",
        "print(df_cleaned_train['Tertarik'].value_counts())\n",
        "sns.catplot(x='Tertarik', data=df_cleaned_train, kind='count')"
      ]
    },
    {
      "cell_type": "markdown",
      "metadata": {
        "id": "nH9rj3D1AkWe"
      },
      "source": [
        "## Logistic Regression"
      ]
    },
    {
      "cell_type": "code",
      "execution_count": 61,
      "metadata": {
        "id": "yTh2aX65k5Kx"
      },
      "outputs": [],
      "source": [
        "class LogisticReg():\n",
        "    def __init__(self,l_r,iterasi):        \n",
        "        self.l_r = l_r       \n",
        "        self.iterasi = iterasi  \n",
        "    def fit(self, X_train, y_train):        \n",
        "        self.training, self.fitur = X_train.shape #Jumlah dari training dan fitur              \n",
        "        self.Weight = np.zeros(self.fitur) #Inisialisasi parameter \n",
        "        self.bias = 0 #inisialisasi bias\n",
        "        self.X_train = X_train        \n",
        "        self.y_train = y_train\n",
        "        self.loss = []\n",
        "        #learning      \n",
        "        for i in range(self.iterasi):            \n",
        "            self.update_weights()           \n",
        "        return self\n",
        "    def binary_cross_entropy(self,y_train,y_hat): #hitung binary entropy loss\n",
        "        training = y_train.shape[0]\n",
        "        return -(1/training)*np.sum(y_train*np.log(y_hat)+(1-y_train)*np.log(1-y_hat))\n",
        "    def update_weights(self):           \n",
        "        y_hat = 1/(1+np.exp(-(self.X_train.dot(self.Weight) + self.bias))) #hitung y_hat\n",
        "        temp = (y_hat-self.y_train.T)        \n",
        "        temp = np.reshape(temp,self.training)\n",
        "        loss = self.binary_cross_entropy(y_train,y_hat) #hitung loss\n",
        "        self.loss.append(loss)\n",
        "        dWeight = np.dot(self.X_train.T, temp)/self.training  #hitung turunan parsial\n",
        "        dbias = np.sum(temp)/self.training\n",
        "        self.Weight = self.Weight-self.l_r*dWeight  #update weights  \n",
        "        self.bias = self.bias-self.l_r*dbias #update bias\n",
        "        print(f\"loss after iteration : {loss}\") \n",
        "        return self\n",
        "    def sigmoid(self, z):\n",
        "        return 1/(1+np.exp(-z))\n",
        "    def predict(self,X_train):    \n",
        "        y_hat = 1/(1 + np.exp(-(X_train.dot(self.Weight)+self.bias)))        \n",
        "        y_train = np.where(y_hat>0.5,1,0)        \n",
        "        return y_train\n",
        "    def predict_proba(self,X_train):\n",
        "        y_hat = np.dot(X_train, self.Weight)+self.bias\n",
        "        return self.sigmoid(y_hat)"
      ]
    },
    {
      "cell_type": "markdown",
      "metadata": {
        "id": "NRNnvjCZhTZ1"
      },
      "source": [
        "### Model training"
      ]
    },
    {
      "cell_type": "code",
      "execution_count": 62,
      "metadata": {
        "id": "HXiGjXuUAvqt"
      },
      "outputs": [],
      "source": [
        "model = LogisticReg(l_r = 0.1,iterasi = 1000)"
      ]
    },
    {
      "cell_type": "code",
      "execution_count": 63,
      "metadata": {
        "colab": {
          "base_uri": "https://localhost:8080/"
        },
        "id": "nO-himPrAzLE",
        "outputId": "fe6d0d3b-572a-4da6-cf26-7f1755c94a00"
      },
      "outputs": [
        {
          "output_type": "stream",
          "name": "stdout",
          "text": [
            "loss after iteration : 0.6931471805599451\n",
            "loss after iteration : 0.675512023781814\n",
            "loss after iteration : 0.6590001199332942\n",
            "loss after iteration : 0.6435186799466648\n",
            "loss after iteration : 0.628983060329344\n",
            "loss after iteration : 0.6153163461917424\n",
            "loss after iteration : 0.6024488307012241\n",
            "loss after iteration : 0.59031744215242\n",
            "loss after iteration : 0.5788651560186423\n",
            "loss after iteration : 0.5680404178796009\n",
            "loss after iteration : 0.5577965940724182\n",
            "loss after iteration : 0.5480914600726711\n",
            "loss after iteration : 0.5388867316412136\n",
            "loss after iteration : 0.5301476403028845\n",
            "loss after iteration : 0.5218425524108179\n",
            "loss after iteration : 0.513942629599246\n",
            "loss after iteration : 0.5064215275979443\n",
            "loss after iteration : 0.4992551299853907\n",
            "loss after iteration : 0.49242131335361966\n",
            "loss after iteration : 0.48589974044172984\n",
            "loss after iteration : 0.4796716779927039\n",
            "loss after iteration : 0.4737198363477613\n",
            "loss after iteration : 0.46802822807885064\n",
            "loss after iteration : 0.46258204325011837\n",
            "loss after iteration : 0.4573675391789852\n",
            "loss after iteration : 0.45237194282849497\n",
            "loss after iteration : 0.44758336420065936\n",
            "loss after iteration : 0.4429907193140731\n",
            "loss after iteration : 0.4385836615382923\n",
            "loss after iteration : 0.43435252022358545\n",
            "loss after iteration : 0.4302882457094622\n",
            "loss after iteration : 0.4263823599209112\n",
            "loss after iteration : 0.4226269118696633\n",
            "loss after iteration : 0.41901443747107475\n",
            "loss after iteration : 0.41553792316734867\n",
            "loss after iteration : 0.41219077291650913\n",
            "loss after iteration : 0.40896677816540755\n",
            "loss after iteration : 0.4058600904754569\n",
            "loss after iteration : 0.4028651965129595\n",
            "loss after iteration : 0.39997689515290574\n",
            "loss after iteration : 0.3971902764768407\n",
            "loss after iteration : 0.39450070247265107\n",
            "loss after iteration : 0.3919037892675392\n",
            "loss after iteration : 0.3893953907456266\n",
            "loss after iteration : 0.38697158341903265\n",
            "loss after iteration : 0.38462865243632355\n",
            "loss after iteration : 0.3823630786252551\n",
            "loss after iteration : 0.3801715264780695\n",
            "loss after iteration : 0.3780508329974508\n",
            "loss after iteration : 0.37599799732986094\n",
            "loss after iteration : 0.3740101711205011\n",
            "loss after iteration : 0.37208464953076126\n",
            "loss after iteration : 0.37021886286482786\n",
            "loss after iteration : 0.36841036875726035\n",
            "loss after iteration : 0.3666568448778833\n",
            "loss after iteration : 0.3649560821143708\n",
            "loss after iteration : 0.3633059781964855\n",
            "loss after iteration : 0.36170453172912936\n",
            "loss after iteration : 0.3601498366042216\n",
            "loss after iteration : 0.35864007676398435\n",
            "loss after iteration : 0.35717352129051644\n",
            "loss after iteration : 0.3557485197986109\n",
            "loss after iteration : 0.3543634981106428\n",
            "loss after iteration : 0.3530169541940507\n",
            "loss after iteration : 0.3517074543434648\n",
            "loss after iteration : 0.35043362959093477\n",
            "loss after iteration : 0.3491941723289744\n",
            "loss after iteration : 0.34798783313229903\n",
            "loss after iteration : 0.34681341776518637\n",
            "loss after iteration : 0.345669784362356\n",
            "loss after iteration : 0.3445558407721487\n",
            "loss after iteration : 0.3434705420515945\n",
            "loss after iteration : 0.342412888103704\n",
            "loss after iteration : 0.34138192144800367\n",
            "loss after iteration : 0.34037672511596073\n",
            "loss after iteration : 0.339396420663529\n",
            "loss after iteration : 0.33844016629357654\n",
            "loss after iteration : 0.3375071550814555\n",
            "loss after iteration : 0.33659661329742835\n",
            "loss after iteration : 0.33570779882008434\n",
            "loss after iteration : 0.33483999963527944\n",
            "loss after iteration : 0.3339925324154827\n",
            "loss after iteration : 0.3331647411747617\n",
            "loss after iteration : 0.3323559959949369\n",
            "loss after iteration : 0.33156569181873813\n",
            "loss after iteration : 0.3307932473060525\n",
            "loss after iteration : 0.33003810374961\n",
            "loss after iteration : 0.32929972404668656\n",
            "loss after iteration : 0.32857759172361056\n",
            "loss after iteration : 0.32787121001007374\n",
            "loss after iteration : 0.32718010096042355\n",
            "loss after iteration : 0.3265038046192956\n",
            "loss after iteration : 0.325841878229103\n",
            "loss after iteration : 0.32519389547705524\n",
            "loss after iteration : 0.3245594457795203\n",
            "loss after iteration : 0.3239381336016725\n",
            "loss after iteration : 0.32332957781049804\n",
            "loss after iteration : 0.3227334110593421\n",
            "loss after iteration : 0.32214927920229025\n",
            "loss after iteration : 0.321576840736778\n",
            "loss after iteration : 0.3210157662729182\n",
            "loss after iteration : 0.3204657380281236\n",
            "loss after iteration : 0.3199264493456822\n",
            "loss after iteration : 0.31939760423602875\n",
            "loss after iteration : 0.31887891693951753\n",
            "loss after iteration : 0.3183701115095784\n",
            "loss after iteration : 0.31787092141519946\n",
            "loss after iteration : 0.31738108916173896\n",
            "loss after iteration : 0.31690036592912424\n",
            "loss after iteration : 0.31642851122655347\n",
            "loss after iteration : 0.31596529256285927\n",
            "loss after iteration : 0.315510485131744\n",
            "loss after iteration : 0.31506387151114024\n",
            "loss after iteration : 0.3146252413759883\n",
            "loss after iteration : 0.3141943912237645\n",
            "loss after iteration : 0.3137711241121292\n",
            "loss after iteration : 0.31335524940809684\n",
            "loss after iteration : 0.3129465825481644\n",
            "loss after iteration : 0.31254494480886413\n",
            "loss after iteration : 0.3121501630872337\n",
            "loss after iteration : 0.3117620696907263\n",
            "loss after iteration : 0.3113805021361075\n",
            "loss after iteration : 0.31100530295690887\n",
            "loss after iteration : 0.31063631951903115\n",
            "loss after iteration : 0.3102734038441125\n",
            "loss after iteration : 0.3099164124402967\n",
            "loss after iteration : 0.3095652061400516\n",
            "loss after iteration : 0.3092196499447136\n",
            "loss after iteration : 0.30887961287544186\n",
            "loss after iteration : 0.3085449678302908\n",
            "loss after iteration : 0.30821559144711463\n",
            "loss after iteration : 0.3078913639720429\n",
            "loss after iteration : 0.30757216913326835\n",
            "loss after iteration : 0.30725789401991105\n",
            "loss after iteration : 0.30694842896572694\n",
            "loss after iteration : 0.30664366743744526\n",
            "loss after iteration : 0.30634350592752696\n",
            "loss after iteration : 0.30604784385115025\n",
            "loss after iteration : 0.3057565834472328\n",
            "loss after iteration : 0.30546962968331526\n",
            "loss after iteration : 0.30518689016413875\n",
            "loss after iteration : 0.30490827504374957\n",
            "loss after iteration : 0.304633696940986\n",
            "loss after iteration : 0.304363070858193\n",
            "loss after iteration : 0.3040963141030339\n",
            "loss after iteration : 0.3038333462132594\n",
            "loss after iteration : 0.30357408888431403\n",
            "loss after iteration : 0.30331846589965566\n",
            "loss after iteration : 0.30306640306367577\n",
            "loss after iteration : 0.3028178281371111\n",
            "loss after iteration : 0.30257267077484096\n",
            "loss after iteration : 0.30233086246597357\n",
            "loss after iteration : 0.3020923364761237\n",
            "loss after iteration : 0.30185702779179435\n",
            "loss after iteration : 0.30162487306677366\n",
            "loss after iteration : 0.30139581057046555\n",
            "loss after iteration : 0.3011697801380762\n",
            "loss after iteration : 0.3009467231225796\n",
            "loss after iteration : 0.3007265823483933\n",
            "loss after iteration : 0.30050930206669074\n",
            "loss after iteration : 0.3002948279122924\n",
            "loss after iteration : 0.3000831068620635\n",
            "loss after iteration : 0.29987408719476843\n",
            "loss after iteration : 0.2996677184523162\n",
            "loss after iteration : 0.299463951402348\n",
            "loss after iteration : 0.29926273800211106\n",
            "loss after iteration : 0.29906403136357146\n",
            "loss after iteration : 0.2988677857197141\n",
            "loss after iteration : 0.2986739563919899\n",
            "loss after iteration : 0.2984824997588594\n",
            "loss after iteration : 0.2982933732253964\n",
            "loss after iteration : 0.2981065351939085\n",
            "loss after iteration : 0.2979219450355366\n",
            "loss after iteration : 0.2977395630627962\n",
            "loss after iteration : 0.2975593505030259\n",
            "loss after iteration : 0.29738126947270893\n",
            "loss after iteration : 0.2972052829526346\n",
            "loss after iteration : 0.29703135476386816\n",
            "loss after iteration : 0.2968594495445014\n",
            "loss after iteration : 0.2966895327271528\n",
            "loss after iteration : 0.2965215705171918\n",
            "loss after iteration : 0.29635552987165886\n",
            "loss after iteration : 0.296191378478857\n",
            "loss after iteration : 0.29602908473859196\n",
            "loss after iteration : 0.2958686177430348\n",
            "loss after iteration : 0.29570994725818683\n",
            "loss after iteration : 0.2955530437059242\n",
            "loss after iteration : 0.29539787814660284\n",
            "loss after iteration : 0.29524442226220216\n",
            "loss after iteration : 0.2950926483399892\n",
            "loss after iteration : 0.29494252925668707\n",
            "loss after iteration : 0.29479403846312574\n",
            "loss after iteration : 0.29464714996936225\n",
            "loss after iteration : 0.29450183833025284\n",
            "loss after iteration : 0.29435807863145974\n",
            "loss after iteration : 0.29421584647588106\n",
            "loss after iteration : 0.29407511797048574\n",
            "loss after iteration : 0.2939358697135426\n",
            "loss after iteration : 0.29379807878222725\n",
            "loss after iteration : 0.2936617227205981\n",
            "loss after iteration : 0.29352677952792383\n",
            "loss after iteration : 0.2933932276473565\n",
            "loss after iteration : 0.2932610459549316\n",
            "loss after iteration : 0.29313021374889264\n",
            "loss after iteration : 0.29300071073932094\n",
            "loss after iteration : 0.29287251703806755\n",
            "loss after iteration : 0.29274561314897235\n",
            "loss after iteration : 0.29261997995836486\n",
            "loss after iteration : 0.2924955987258341\n",
            "loss after iteration : 0.2923724510752611\n",
            "loss after iteration : 0.29225051898610493\n",
            "loss after iteration : 0.2921297847849335\n",
            "loss after iteration : 0.292010231137192\n",
            "loss after iteration : 0.29189184103920107\n",
            "loss after iteration : 0.29177459781037807\n",
            "loss after iteration : 0.2916584850856713\n",
            "loss after iteration : 0.2915434868082068\n",
            "loss after iteration : 0.29142958722213275\n",
            "loss after iteration : 0.2913167708656635\n",
            "loss after iteration : 0.29120502256430936\n",
            "loss after iteration : 0.29109432742429425\n",
            "loss after iteration : 0.29098467082614665\n",
            "loss after iteration : 0.29087603841846693\n",
            "loss after iteration : 0.29076841611185933\n",
            "loss after iteration : 0.2906617900730277\n",
            "loss after iteration : 0.29055614671902613\n",
            "loss after iteration : 0.2904514727116647\n",
            "loss after iteration : 0.29034775495205994\n",
            "loss after iteration : 0.29024498057533044\n",
            "loss after iteration : 0.2901431369454308\n",
            "loss after iteration : 0.2900422116501208\n",
            "loss after iteration : 0.28994219249606323\n",
            "loss after iteration : 0.2898430675040519\n",
            "loss after iteration : 0.2897448249043593\n",
            "loss after iteration : 0.28964745313220647\n",
            "loss after iteration : 0.2895509408233462\n",
            "loss after iteration : 0.2894552768097615\n",
            "loss after iteration : 0.28936045011547057\n",
            "loss after iteration : 0.2892664499524402\n",
            "loss after iteration : 0.2891732657165996\n",
            "loss after iteration : 0.28908088698395723\n",
            "loss after iteration : 0.28898930350681196\n",
            "loss after iteration : 0.2888985052100601\n",
            "loss after iteration : 0.28880848218759375\n",
            "loss after iteration : 0.28871922469878813\n",
            "loss after iteration : 0.2886307231650749\n",
            "loss after iteration : 0.28854296816660086\n",
            "loss after iteration : 0.2884559504389664\n",
            "loss after iteration : 0.2883696608700453\n",
            "loss after iteration : 0.28828409049688036\n",
            "loss after iteration : 0.2881992305026547\n",
            "loss after iteration : 0.28811507221373517\n",
            "loss after iteration : 0.28803160709678816\n",
            "loss after iteration : 0.28794882675596295\n",
            "loss after iteration : 0.28786672293014226\n",
            "loss after iteration : 0.2877852874902596\n",
            "loss after iteration : 0.2877045124366778\n",
            "loss after iteration : 0.2876243898966307\n",
            "loss after iteration : 0.28754491212172456\n",
            "loss after iteration : 0.28746607148549796\n",
            "loss after iteration : 0.28738786048103837\n",
            "loss after iteration : 0.28731027171865386\n",
            "loss after iteration : 0.2872332979235998\n",
            "loss after iteration : 0.2871569319338559\n",
            "loss after iteration : 0.2870811666979568\n",
            "loss after iteration : 0.2870059952728698\n",
            "loss after iteration : 0.2869314108219234\n",
            "loss after iteration : 0.2868574066127809\n",
            "loss after iteration : 0.28678397601546085\n",
            "loss after iteration : 0.2867111125004025\n",
            "loss after iteration : 0.28663880963657334\n",
            "loss after iteration : 0.28656706108962143\n",
            "loss after iteration : 0.2864958606200657\n",
            "loss after iteration : 0.2864252020815302\n",
            "loss after iteration : 0.28635507941901406\n",
            "loss after iteration : 0.2862854866672024\n",
            "loss after iteration : 0.2862164179488125\n",
            "loss after iteration : 0.28614786747297777\n",
            "loss after iteration : 0.2860798295336658\n",
            "loss after iteration : 0.2860122985081313\n",
            "loss after iteration : 0.2859452688554036\n",
            "loss after iteration : 0.285878735114805\n",
            "loss after iteration : 0.28581269190450254\n",
            "loss after iteration : 0.28574713392009116\n",
            "loss after iteration : 0.2856820559332053\n",
            "loss after iteration : 0.28561745279016204\n",
            "loss after iteration : 0.28555331941063267\n",
            "loss after iteration : 0.2854896507863417\n",
            "loss after iteration : 0.28542644197979433\n",
            "loss after iteration : 0.2853636881230297\n",
            "loss after iteration : 0.2853013844164014\n",
            "loss after iteration : 0.285239526127383\n",
            "loss after iteration : 0.28517810858939785\n",
            "loss after iteration : 0.2851171272006745\n",
            "loss after iteration : 0.28505657742312496\n",
            "loss after iteration : 0.28499645478124624\n",
            "loss after iteration : 0.2849367548610443\n",
            "loss after iteration : 0.2848774733089812\n",
            "loss after iteration : 0.2848186058309417\n",
            "loss after iteration : 0.28476014819122347\n",
            "loss after iteration : 0.2847020962115455\n",
            "loss after iteration : 0.28464444577007786\n",
            "loss after iteration : 0.28458719280049083\n",
            "loss after iteration : 0.28453033329102323\n",
            "loss after iteration : 0.2844738632835689\n",
            "loss after iteration : 0.284417778872782\n",
            "loss after iteration : 0.2843620762052004\n",
            "loss after iteration : 0.2843067514783848\n",
            "loss after iteration : 0.28425180094007785\n",
            "loss after iteration : 0.2841972208873765\n",
            "loss after iteration : 0.2841430076659234\n",
            "loss after iteration : 0.2840891576691122\n",
            "loss after iteration : 0.28403566733731017\n",
            "loss after iteration : 0.2839825331570937\n",
            "loss after iteration : 0.28392975166050155\n",
            "loss after iteration : 0.2838773194242992\n",
            "loss after iteration : 0.28382523306926055\n",
            "loss after iteration : 0.2837734892594615\n",
            "loss after iteration : 0.28372208470158733\n",
            "loss after iteration : 0.28367101614425433\n",
            "loss after iteration : 0.2836202803773429\n",
            "loss after iteration : 0.28356987423134433\n",
            "loss after iteration : 0.2835197945767204\n",
            "loss after iteration : 0.2834700383232729\n",
            "loss after iteration : 0.28342060241952793\n",
            "loss after iteration : 0.28337148385212946\n",
            "loss after iteration : 0.2833226796452454\n",
            "loss after iteration : 0.2832741868599842\n",
            "loss after iteration : 0.283226002593823\n",
            "loss after iteration : 0.2831781239800454\n",
            "loss after iteration : 0.2831305481871905\n",
            "loss after iteration : 0.2830832724185116\n",
            "loss after iteration : 0.283036293911445\n",
            "loss after iteration : 0.2829896099370886\n",
            "loss after iteration : 0.28294321779969006\n",
            "loss after iteration : 0.2828971148361435\n",
            "loss after iteration : 0.28285129841549694\n",
            "loss after iteration : 0.28280576593846696\n",
            "loss after iteration : 0.28276051483696335\n",
            "loss after iteration : 0.2827155425736219\n",
            "loss after iteration : 0.2826708466413449\n",
            "loss after iteration : 0.28262642456285103\n",
            "loss after iteration : 0.28258227389023255\n",
            "loss after iteration : 0.28253839220452065\n",
            "loss after iteration : 0.2824947771152581\n",
            "loss after iteration : 0.28245142626008013\n",
            "loss after iteration : 0.2824083373043022\n",
            "loss after iteration : 0.28236550794051457\n",
            "loss after iteration : 0.2823229358881857\n",
            "loss after iteration : 0.2822806188932702\n",
            "loss after iteration : 0.28223855472782594\n",
            "loss after iteration : 0.2821967411896358\n",
            "loss after iteration : 0.28215517610183716\n",
            "loss after iteration : 0.2821138573125579\n",
            "loss after iteration : 0.2820727826945576\n",
            "loss after iteration : 0.2820319501448765\n",
            "loss after iteration : 0.28199135758448846\n",
            "loss after iteration : 0.2819510029579617\n",
            "loss after iteration : 0.2819108842331245\n",
            "loss after iteration : 0.2818709994007363\n",
            "loss after iteration : 0.2818313464741649\n",
            "loss after iteration : 0.28179192348906934\n",
            "loss after iteration : 0.2817527285030867\n",
            "loss after iteration : 0.2817137595955262\n",
            "loss after iteration : 0.2816750148670667\n",
            "loss after iteration : 0.2816364924394603\n",
            "loss after iteration : 0.28159819045524037\n",
            "loss after iteration : 0.28156010707743473\n",
            "loss after iteration : 0.2815222404892829\n",
            "loss after iteration : 0.28148458889395955\n",
            "loss after iteration : 0.28144715051430036\n",
            "loss after iteration : 0.28140992359253414\n",
            "loss after iteration : 0.28137290639001905\n",
            "loss after iteration : 0.28133609718698166\n",
            "loss after iteration : 0.2812994942822628\n",
            "loss after iteration : 0.28126309599306526\n",
            "loss after iteration : 0.28122690065470624\n",
            "loss after iteration : 0.28119090662037516\n",
            "loss after iteration : 0.28115511226089274\n",
            "loss after iteration : 0.2811195159644769\n",
            "loss after iteration : 0.2810841161365098\n",
            "loss after iteration : 0.2810489111993105\n",
            "loss after iteration : 0.28101389959191003\n",
            "loss after iteration : 0.2809790797698309\n",
            "loss after iteration : 0.28094445020486947\n",
            "loss after iteration : 0.28091000938488203\n",
            "loss after iteration : 0.2808757558135741\n",
            "loss after iteration : 0.28084168801029397\n",
            "loss after iteration : 0.28080780450982723\n",
            "loss after iteration : 0.2807741038621977\n",
            "loss after iteration : 0.28074058463246804\n",
            "loss after iteration : 0.2807072454005468\n",
            "loss after iteration : 0.2806740847609954\n",
            "loss after iteration : 0.28064110132284054\n",
            "loss after iteration : 0.28060829370938783\n",
            "loss after iteration : 0.28057566055803973\n",
            "loss after iteration : 0.2805432005201145\n",
            "loss after iteration : 0.2805109122606698\n",
            "loss after iteration : 0.28047879445832796\n",
            "loss after iteration : 0.28044684580510343\n",
            "loss after iteration : 0.2804150650062347\n",
            "loss after iteration : 0.2803834507800165\n",
            "loss after iteration : 0.2803520018576361\n",
            "loss after iteration : 0.28032071698301175\n",
            "loss after iteration : 0.28028959491263294\n",
            "loss after iteration : 0.28025863441540383\n",
            "loss after iteration : 0.28022783427248865\n",
            "loss after iteration : 0.2801971932771597\n",
            "loss after iteration : 0.280166710234647\n",
            "loss after iteration : 0.2801363839619907\n",
            "loss after iteration : 0.280106213287896\n",
            "loss after iteration : 0.2800761970525886\n",
            "loss after iteration : 0.28004633410767504\n",
            "loss after iteration : 0.2800166233160022\n",
            "loss after iteration : 0.2799870635515207\n",
            "loss after iteration : 0.2799576536991497\n",
            "loss after iteration : 0.27992839265464403\n",
            "loss after iteration : 0.27989927932446224\n",
            "loss after iteration : 0.27987031262563794\n",
            "loss after iteration : 0.2798414914856523\n",
            "loss after iteration : 0.279812814842308\n",
            "loss after iteration : 0.2797842816436059\n",
            "loss after iteration : 0.2797558908476232\n",
            "loss after iteration : 0.2797276414223923\n",
            "loss after iteration : 0.2796995323457835\n",
            "loss after iteration : 0.279671562605387\n",
            "loss after iteration : 0.2796437311983987\n",
            "loss after iteration : 0.2796160371315059\n",
            "loss after iteration : 0.27958847942077614\n",
            "loss after iteration : 0.279561057091546\n",
            "loss after iteration : 0.2795337691783133\n",
            "loss after iteration : 0.2795066147246288\n",
            "loss after iteration : 0.27947959278299145\n",
            "loss after iteration : 0.2794527024147436\n",
            "loss after iteration : 0.2794259426899682\n",
            "loss after iteration : 0.2793993126873876\n",
            "loss after iteration : 0.2793728114942636\n",
            "loss after iteration : 0.27934643820629873\n",
            "loss after iteration : 0.2793201919275393\n",
            "loss after iteration : 0.27929407177027943\n",
            "loss after iteration : 0.27926807685496635\n",
            "loss after iteration : 0.27924220631010727\n",
            "loss after iteration : 0.27921645927217786\n",
            "loss after iteration : 0.2791908348855307\n",
            "loss after iteration : 0.2791653323023068\n",
            "loss after iteration : 0.27913995068234637\n",
            "loss after iteration : 0.2791146891931028\n",
            "loss after iteration : 0.27908954700955574\n",
            "loss after iteration : 0.2790645233141277\n",
            "loss after iteration : 0.27903961729659904\n",
            "loss after iteration : 0.27901482815402684\n",
            "loss after iteration : 0.27899015509066255\n",
            "loss after iteration : 0.27896559731787274\n",
            "loss after iteration : 0.2789411540540591\n",
            "loss after iteration : 0.27891682452458116\n",
            "loss after iteration : 0.27889260796167803\n",
            "loss after iteration : 0.2788685036043938\n",
            "loss after iteration : 0.2788445106985017\n",
            "loss after iteration : 0.27882062849643\n",
            "loss after iteration : 0.2787968562571896\n",
            "loss after iteration : 0.27877319324630123\n",
            "loss after iteration : 0.2787496387357245\n",
            "loss after iteration : 0.2787261920037883\n",
            "loss after iteration : 0.2787028523351204\n",
            "loss after iteration : 0.2786796190205801\n",
            "loss after iteration : 0.2786564913571902\n",
            "loss after iteration : 0.27863346864807054\n",
            "loss after iteration : 0.27861055020237235\n",
            "loss after iteration : 0.27858773533521286\n",
            "loss after iteration : 0.27856502336761185\n",
            "loss after iteration : 0.2785424136264281\n",
            "loss after iteration : 0.2785199054442971\n",
            "loss after iteration : 0.2784974981595692\n",
            "loss after iteration : 0.27847519111624897\n",
            "loss after iteration : 0.27845298366393506\n",
            "loss after iteration : 0.2784308751577613\n",
            "loss after iteration : 0.2784088649583372\n",
            "loss after iteration : 0.2783869524316912\n",
            "loss after iteration : 0.27836513694921283\n",
            "loss after iteration : 0.27834341788759714\n",
            "loss after iteration : 0.2783217946287883\n",
            "loss after iteration : 0.2783002665599248\n",
            "loss after iteration : 0.27827883307328616\n",
            "loss after iteration : 0.2782574935662377\n",
            "loss after iteration : 0.2782362474411791\n",
            "loss after iteration : 0.27821509410549156\n",
            "loss after iteration : 0.278194032971486\n",
            "loss after iteration : 0.2781730634563527\n",
            "loss after iteration : 0.27815218498211053\n",
            "loss after iteration : 0.2781313969755574\n",
            "loss after iteration : 0.2781106988682213\n",
            "loss after iteration : 0.27809009009631147\n",
            "loss after iteration : 0.27806957010067107\n",
            "loss after iteration : 0.27804913832672934\n",
            "loss after iteration : 0.2780287942244553\n",
            "loss after iteration : 0.27800853724831126\n",
            "loss after iteration : 0.27798836685720774\n",
            "loss after iteration : 0.27796828251445777\n",
            "loss after iteration : 0.2779482836877331\n",
            "loss after iteration : 0.2779283698490196\n",
            "loss after iteration : 0.27790854047457464\n",
            "loss after iteration : 0.2778887950448832\n",
            "loss after iteration : 0.2778691330446165\n",
            "loss after iteration : 0.27784955396258965\n",
            "loss after iteration : 0.2778300572917201\n",
            "loss after iteration : 0.27781064252898724\n",
            "loss after iteration : 0.27779130917539185\n",
            "loss after iteration : 0.2777720567359159\n",
            "loss after iteration : 0.2777528847194836\n",
            "loss after iteration : 0.2777337926389222\n",
            "loss after iteration : 0.2777147800109237\n",
            "loss after iteration : 0.27769584635600625\n",
            "loss after iteration : 0.27767699119847755\n",
            "loss after iteration : 0.27765821406639657\n",
            "loss after iteration : 0.2776395144915379\n",
            "loss after iteration : 0.2776208920093545\n",
            "loss after iteration : 0.27760234615894275\n",
            "loss after iteration : 0.2775838764830064\n",
            "loss after iteration : 0.27756548252782176\n",
            "loss after iteration : 0.2775471638432031\n",
            "loss after iteration : 0.2775289199824684\n",
            "loss after iteration : 0.2775107505024055\n",
            "loss after iteration : 0.27749265496323877\n",
            "loss after iteration : 0.27747463292859614\n",
            "loss after iteration : 0.2774566839654763\n",
            "loss after iteration : 0.2774388076442161\n",
            "loss after iteration : 0.2774210035384594\n",
            "loss after iteration : 0.277403271225125\n",
            "loss after iteration : 0.27738561028437553\n",
            "loss after iteration : 0.2773680202995866\n",
            "loss after iteration : 0.2773505008573165\n",
            "loss after iteration : 0.277333051547276\n",
            "loss after iteration : 0.27731567196229834\n",
            "loss after iteration : 0.2772983616983099\n",
            "loss after iteration : 0.27728112035430125\n",
            "loss after iteration : 0.2772639475322983\n",
            "loss after iteration : 0.27724684283733375\n",
            "loss after iteration : 0.27722980587741863\n",
            "loss after iteration : 0.2772128362635153\n",
            "loss after iteration : 0.27719593360950906\n",
            "loss after iteration : 0.27717909753218134\n",
            "loss after iteration : 0.27716232765118287\n",
            "loss after iteration : 0.27714562358900696\n",
            "loss after iteration : 0.27712898497096294\n",
            "loss after iteration : 0.2771124114251507\n",
            "loss after iteration : 0.27709590258243416\n",
            "loss after iteration : 0.277079458076417\n",
            "loss after iteration : 0.27706307754341597\n",
            "loss after iteration : 0.2770467606224374\n",
            "loss after iteration : 0.27703050695515147\n",
            "loss after iteration : 0.27701431618586897\n",
            "loss after iteration : 0.27699818796151593\n",
            "loss after iteration : 0.27698212193161104\n",
            "loss after iteration : 0.2769661177482412\n",
            "loss after iteration : 0.27695017506603886\n",
            "loss after iteration : 0.27693429354215815\n",
            "loss after iteration : 0.27691847283625304\n",
            "loss after iteration : 0.27690271261045407\n",
            "loss after iteration : 0.2768870125293464\n",
            "loss after iteration : 0.27687137225994746\n",
            "loss after iteration : 0.2768557914716856\n",
            "loss after iteration : 0.276840269836378\n",
            "loss after iteration : 0.2768248070282093\n",
            "loss after iteration : 0.2768094027237109\n",
            "loss after iteration : 0.27679405660173967\n",
            "loss after iteration : 0.2767787683434574\n",
            "loss after iteration : 0.2767635376323103\n",
            "loss after iteration : 0.27674836415400866\n",
            "loss after iteration : 0.2767332475965073\n",
            "loss after iteration : 0.2767181876499846\n",
            "loss after iteration : 0.27670318400682453\n",
            "loss after iteration : 0.27668823636159556\n",
            "loss after iteration : 0.27667334441103264\n",
            "loss after iteration : 0.2766585078540178\n",
            "loss after iteration : 0.27664372639156115\n",
            "loss after iteration : 0.27662899972678273\n",
            "loss after iteration : 0.2766143275648936\n",
            "loss after iteration : 0.27659970961317804\n",
            "loss after iteration : 0.2765851455809752\n",
            "loss after iteration : 0.27657063517966135\n",
            "loss after iteration : 0.27655617812263245\n",
            "loss after iteration : 0.27654177412528647\n",
            "loss after iteration : 0.2765274229050058\n",
            "loss after iteration : 0.2765131241811409\n",
            "loss after iteration : 0.27649887767499265\n",
            "loss after iteration : 0.276484683109796\n",
            "loss after iteration : 0.2764705402107029\n",
            "loss after iteration : 0.27645644870476693\n",
            "loss after iteration : 0.2764424083209254\n",
            "loss after iteration : 0.27642841878998486\n",
            "loss after iteration : 0.27641447984460427\n",
            "loss after iteration : 0.27640059121927946\n",
            "loss after iteration : 0.27638675265032775\n",
            "loss after iteration : 0.27637296387587185\n",
            "loss after iteration : 0.2763592246358256\n",
            "loss after iteration : 0.2763455346718778\n",
            "loss after iteration : 0.276331893727478\n",
            "loss after iteration : 0.2763183015478212\n",
            "loss after iteration : 0.2763047578798335\n",
            "loss after iteration : 0.27629126247215713\n",
            "loss after iteration : 0.2762778150751367\n",
            "loss after iteration : 0.2762644154408044\n",
            "loss after iteration : 0.27625106332286603\n",
            "loss after iteration : 0.27623775847668747\n",
            "loss after iteration : 0.27622450065928017\n",
            "loss after iteration : 0.2762112896292879\n",
            "loss after iteration : 0.2761981251469734\n",
            "loss after iteration : 0.27618500697420406\n",
            "loss after iteration : 0.27617193487443986\n",
            "loss after iteration : 0.27615890861271947\n",
            "loss after iteration : 0.27614592795564724\n",
            "loss after iteration : 0.27613299267138064\n",
            "loss after iteration : 0.27612010252961733\n",
            "loss after iteration : 0.2761072573015823\n",
            "loss after iteration : 0.2760944567600157\n",
            "loss after iteration : 0.27608170067916055\n",
            "loss after iteration : 0.2760689888347499\n",
            "loss after iteration : 0.2760563210039952\n",
            "loss after iteration : 0.27604369696557396\n",
            "loss after iteration : 0.27603111649961826\n",
            "loss after iteration : 0.2760185793877023\n",
            "loss after iteration : 0.27600608541283134\n",
            "loss after iteration : 0.2759936343594296\n",
            "loss after iteration : 0.27598122601332936\n",
            "loss after iteration : 0.27596886016175914\n",
            "loss after iteration : 0.2759565365933326\n",
            "loss after iteration : 0.27594425509803755\n",
            "loss after iteration : 0.27593201546722473\n",
            "loss after iteration : 0.27591981749359706\n",
            "loss after iteration : 0.2759076609711986\n",
            "loss after iteration : 0.27589554569540414\n",
            "loss after iteration : 0.2758834714629083\n",
            "loss after iteration : 0.27587143807171516\n",
            "loss after iteration : 0.27585944532112777\n",
            "loss after iteration : 0.2758474930117382\n",
            "loss after iteration : 0.2758355809454167\n",
            "loss after iteration : 0.275823708925302\n",
            "loss after iteration : 0.27581187675579144\n",
            "loss after iteration : 0.2758000842425305\n",
            "loss after iteration : 0.27578833119240326\n",
            "loss after iteration : 0.275776617413523\n",
            "loss after iteration : 0.27576494271522206\n",
            "loss after iteration : 0.2757533069080424\n",
            "loss after iteration : 0.27574170980372603\n",
            "loss after iteration : 0.2757301512152062\n",
            "loss after iteration : 0.2757186309565974\n",
            "loss after iteration : 0.2757071488431862\n",
            "loss after iteration : 0.275695704691423\n",
            "loss after iteration : 0.27568429831891167\n",
            "loss after iteration : 0.275672929544402\n",
            "loss after iteration : 0.27566159818777947\n",
            "loss after iteration : 0.2756503040700575\n",
            "loss after iteration : 0.27563904701336817\n",
            "loss after iteration : 0.27562782684095366\n",
            "loss after iteration : 0.2756166433771584\n",
            "loss after iteration : 0.2756054964474192\n",
            "loss after iteration : 0.2755943858782584\n",
            "loss after iteration : 0.2755833114972743\n",
            "loss after iteration : 0.27557227313313376\n",
            "loss after iteration : 0.2755612706155635\n",
            "loss after iteration : 0.2755503037753427\n",
            "loss after iteration : 0.27553937244429383\n",
            "loss after iteration : 0.27552847645527595\n",
            "loss after iteration : 0.2755176156421762\n",
            "loss after iteration : 0.27550678983990196\n",
            "loss after iteration : 0.27549599888437326\n",
            "loss after iteration : 0.2754852426125152\n",
            "loss after iteration : 0.27547452086225016\n",
            "loss after iteration : 0.27546383347249065\n",
            "loss after iteration : 0.27545318028313115\n",
            "loss after iteration : 0.27544256113504173\n",
            "loss after iteration : 0.2754319758700596\n",
            "loss after iteration : 0.27542142433098293\n",
            "loss after iteration : 0.27541090636156296\n",
            "loss after iteration : 0.27540042180649676\n",
            "loss after iteration : 0.27538997051142095\n",
            "loss after iteration : 0.2753795523229042\n",
            "loss after iteration : 0.27536916708843984\n",
            "loss after iteration : 0.27535881465643985\n",
            "loss after iteration : 0.27534849487622765\n",
            "loss after iteration : 0.2753382075980312\n",
            "loss after iteration : 0.27532795267297666\n",
            "loss after iteration : 0.27531772995308124\n",
            "loss after iteration : 0.2753075392912474\n",
            "loss after iteration : 0.27529738054125524\n",
            "loss after iteration : 0.27528725355775713\n",
            "loss after iteration : 0.27527715819627074\n",
            "loss after iteration : 0.27526709431317253\n",
            "loss after iteration : 0.27525706176569215\n",
            "loss after iteration : 0.27524706041190533\n",
            "loss after iteration : 0.2752370901107284\n",
            "loss after iteration : 0.2752271507219117\n",
            "loss after iteration : 0.2752172421060337\n",
            "loss after iteration : 0.27520736412449515\n",
            "loss after iteration : 0.27519751663951275\n",
            "loss after iteration : 0.27518769951411326\n",
            "loss after iteration : 0.275177912612128\n",
            "loss after iteration : 0.27516815579818676\n",
            "loss after iteration : 0.2751584289377118\n",
            "loss after iteration : 0.27514873189691286\n",
            "loss after iteration : 0.27513906454278036\n",
            "loss after iteration : 0.27512942674308116\n",
            "loss after iteration : 0.2751198183663517\n",
            "loss after iteration : 0.27511023928189327\n",
            "loss after iteration : 0.2751006893597662\n",
            "loss after iteration : 0.27509116847078485\n",
            "loss after iteration : 0.27508167648651155\n",
            "loss after iteration : 0.2750722132792516\n",
            "loss after iteration : 0.275062778722048\n",
            "loss after iteration : 0.27505337268867625\n",
            "loss after iteration : 0.27504399505363936\n",
            "loss after iteration : 0.27503464569216185\n",
            "loss after iteration : 0.2750253244801855\n",
            "loss after iteration : 0.27501603129436397\n",
            "loss after iteration : 0.2750067660120577\n",
            "loss after iteration : 0.2749975285113289\n",
            "loss after iteration : 0.2749883186709369\n",
            "loss after iteration : 0.27497913637033283\n",
            "loss after iteration : 0.274969981489655\n",
            "loss after iteration : 0.27496085390972386\n",
            "loss after iteration : 0.27495175351203777\n",
            "loss after iteration : 0.27494268017876755\n",
            "loss after iteration : 0.27493363379275226\n",
            "loss after iteration : 0.27492461423749415\n",
            "loss after iteration : 0.2749156213971544\n",
            "loss after iteration : 0.27490665515654855\n",
            "loss after iteration : 0.27489771540114133\n",
            "loss after iteration : 0.2748888020170432\n",
            "loss after iteration : 0.2748799148910045\n",
            "loss after iteration : 0.2748710539104125\n",
            "loss after iteration : 0.27486221896328594\n",
            "loss after iteration : 0.27485340993827095\n",
            "loss after iteration : 0.2748446267246371\n",
            "loss after iteration : 0.27483586921227227\n",
            "loss after iteration : 0.27482713729167946\n",
            "loss after iteration : 0.27481843085397156\n",
            "loss after iteration : 0.27480974979086775\n",
            "loss after iteration : 0.2748010939946894\n",
            "loss after iteration : 0.2747924633583555\n",
            "loss after iteration : 0.2747838577753788\n",
            "loss after iteration : 0.27477527713986205\n",
            "loss after iteration : 0.2747667213464933\n",
            "loss after iteration : 0.2747581902905427\n",
            "loss after iteration : 0.2747496838678581\n",
            "loss after iteration : 0.27474120197486085\n",
            "loss after iteration : 0.2747327445085427\n",
            "loss after iteration : 0.27472431136646097\n",
            "loss after iteration : 0.27471590244673577\n",
            "loss after iteration : 0.2747075176480453\n",
            "loss after iteration : 0.27469915686962243\n",
            "loss after iteration : 0.2746908200112511\n",
            "loss after iteration : 0.2746825069732625\n",
            "loss after iteration : 0.2746742176565315\n",
            "loss after iteration : 0.2746659519624723\n",
            "loss after iteration : 0.2746577097930359\n",
            "loss after iteration : 0.27464949105070585\n",
            "loss after iteration : 0.2746412956384949\n",
            "loss after iteration : 0.27463312345994123\n",
            "loss after iteration : 0.274624974419105\n",
            "loss after iteration : 0.2746168484205654\n",
            "loss after iteration : 0.27460874536941626\n",
            "loss after iteration : 0.2746006651712636\n",
            "loss after iteration : 0.27459260773222144\n",
            "loss after iteration : 0.2745845729589088\n",
            "loss after iteration : 0.27457656075844644\n",
            "loss after iteration : 0.2745685710384534\n",
            "loss after iteration : 0.2745606037070435\n",
            "loss after iteration : 0.2745526586728225\n",
            "loss after iteration : 0.2745447358448846\n",
            "loss after iteration : 0.27453683513280946\n",
            "loss after iteration : 0.2745289564466585\n",
            "loss after iteration : 0.2745210996969722\n",
            "loss after iteration : 0.27451326479476695\n",
            "loss after iteration : 0.2745054516515317\n",
            "loss after iteration : 0.27449766017922494\n",
            "loss after iteration : 0.27448989029027165\n",
            "loss after iteration : 0.2744821418975605\n",
            "loss after iteration : 0.2744744149144405\n",
            "loss after iteration : 0.2744667092547178\n",
            "loss after iteration : 0.2744590248326535\n",
            "loss after iteration : 0.27445136156296\n",
            "loss after iteration : 0.2744437193607983\n",
            "loss after iteration : 0.27443609814177505\n",
            "loss after iteration : 0.27442849782193984\n",
            "loss after iteration : 0.2744209183177821\n",
            "loss after iteration : 0.2744133595462285\n",
            "loss after iteration : 0.27440582142463976\n",
            "loss after iteration : 0.2743983038708084\n",
            "loss after iteration : 0.27439080680295536\n",
            "loss after iteration : 0.2743833301397278\n",
            "loss after iteration : 0.2743758738001961\n",
            "loss after iteration : 0.27436843770385105\n",
            "loss after iteration : 0.27436102177060123\n",
            "loss after iteration : 0.27435362592077045\n",
            "loss after iteration : 0.2743462500750952\n",
            "loss after iteration : 0.2743388941547219\n",
            "loss after iteration : 0.27433155808120363\n",
            "loss after iteration : 0.2743242417764989\n",
            "loss after iteration : 0.2743169451629679\n",
            "loss after iteration : 0.2743096681633707\n",
            "loss after iteration : 0.274302410700864\n",
            "loss after iteration : 0.2742951726989994\n",
            "loss after iteration : 0.27428795408172046\n",
            "loss after iteration : 0.2742807547733599\n",
            "loss after iteration : 0.2742735746986381\n",
            "loss after iteration : 0.2742664137826598\n",
            "loss after iteration : 0.274259271950912\n",
            "loss after iteration : 0.27425214912926144\n",
            "loss after iteration : 0.27424504524395255\n",
            "loss after iteration : 0.2742379602216048\n",
            "loss after iteration : 0.2742308939892102\n",
            "loss after iteration : 0.2742238464741311\n",
            "loss after iteration : 0.2742168176040984\n",
            "loss after iteration : 0.27420980730720834\n",
            "loss after iteration : 0.2742028155119209\n",
            "loss after iteration : 0.27419584214705733\n",
            "loss after iteration : 0.27418888714179757\n",
            "loss after iteration : 0.27418195042567883\n",
            "loss after iteration : 0.2741750319285925\n",
            "loss after iteration : 0.2741681315807824\n",
            "loss after iteration : 0.2741612493128427\n",
            "loss after iteration : 0.2741543850557155\n",
            "loss after iteration : 0.27414753874068853\n",
            "loss after iteration : 0.2741407102993937\n",
            "loss after iteration : 0.27413389966380425\n",
            "loss after iteration : 0.27412710676623303\n",
            "loss after iteration : 0.27412033153933013\n",
            "loss after iteration : 0.2741135739160814\n",
            "loss after iteration : 0.27410683382980555\n",
            "loss after iteration : 0.2741001112141528\n",
            "loss after iteration : 0.2740934060031026\n",
            "loss after iteration : 0.2740867181309615\n",
            "loss after iteration : 0.2740800475323615\n",
            "loss after iteration : 0.27407339414225756\n",
            "loss after iteration : 0.27406675789592616\n",
            "loss after iteration : 0.2740601387289629\n",
            "loss after iteration : 0.2740535365772809\n",
            "loss after iteration : 0.2740469513771086\n",
            "loss after iteration : 0.2740403830649881\n",
            "loss after iteration : 0.2740338315777733\n",
            "loss after iteration : 0.27402729685262744\n",
            "loss after iteration : 0.27402077882702186\n",
            "loss after iteration : 0.2740142774387341\n",
            "loss after iteration : 0.27400779262584557\n",
            "loss after iteration : 0.27400132432674024\n",
            "loss after iteration : 0.2739948724801025\n",
            "loss after iteration : 0.27398843702491565\n",
            "loss after iteration : 0.2739820179004597\n",
            "loss after iteration : 0.27397561504630985\n",
            "loss after iteration : 0.273969228402335\n",
            "loss after iteration : 0.2739628579086952\n",
            "loss after iteration : 0.2739565035058407\n",
            "loss after iteration : 0.27395016513450987\n",
            "loss after iteration : 0.27394384273572747\n",
            "loss after iteration : 0.2739375362508031\n",
            "loss after iteration : 0.2739312456213291\n",
            "loss after iteration : 0.2739249707891796\n",
            "loss after iteration : 0.2739187116965083\n",
            "loss after iteration : 0.2739124682857466\n",
            "loss after iteration : 0.27390624049960277\n",
            "loss after iteration : 0.2739000282810596\n",
            "loss after iteration : 0.27389383157337294\n",
            "loss after iteration : 0.2738876503200703\n",
            "loss after iteration : 0.27388148446494903\n",
            "loss after iteration : 0.2738753339520749\n",
            "loss after iteration : 0.27386919872578036\n",
            "loss after iteration : 0.27386307873066296\n",
            "loss after iteration : 0.27385697391158415\n",
            "loss after iteration : 0.27385088421366716\n",
            "loss after iteration : 0.27384480958229596\n",
            "loss after iteration : 0.27383874996311347\n",
            "loss after iteration : 0.2738327053020202\n",
            "loss after iteration : 0.27382667554517254\n",
            "loss after iteration : 0.2738206606389814\n",
            "loss after iteration : 0.27381466053011083\n",
            "loss after iteration : 0.2738086751654766\n",
            "loss after iteration : 0.27380270449224403\n",
            "loss after iteration : 0.27379674845782764\n",
            "loss after iteration : 0.27379080700988895\n",
            "loss after iteration : 0.27378488009633517\n",
            "loss after iteration : 0.273778967665318\n",
            "loss after iteration : 0.2737730696652321\n",
            "loss after iteration : 0.2737671860447134\n",
            "loss after iteration : 0.2737613167526382\n",
            "loss after iteration : 0.2737554617381216\n",
            "loss after iteration : 0.27374962095051614\n",
            "loss after iteration : 0.27374379433940993\n",
            "loss after iteration : 0.2737379818546263\n",
            "loss after iteration : 0.2737321834462216\n",
            "loss after iteration : 0.27372639906448426\n",
            "loss after iteration : 0.2737206286599332\n",
            "loss after iteration : 0.273714872183317\n",
            "loss after iteration : 0.27370912958561194\n",
            "loss after iteration : 0.27370340081802125\n",
            "loss after iteration : 0.27369768583197346\n",
            "loss after iteration : 0.2736919845791212\n",
            "loss after iteration : 0.2736862970113402\n",
            "loss after iteration : 0.27368062308072755\n",
            "loss after iteration : 0.2736749627396008\n",
            "loss after iteration : 0.2736693159404968\n",
            "loss after iteration : 0.2736636826361698\n",
            "loss after iteration : 0.27365806277959115\n",
            "loss after iteration : 0.27365245632394725\n",
            "loss after iteration : 0.2736468632226388\n",
            "loss after iteration : 0.2736412834292796\n",
            "loss after iteration : 0.2736357168976951\n",
            "loss after iteration : 0.2736301635819214\n",
            "loss after iteration : 0.273624623436204\n",
            "loss after iteration : 0.2736190964149964\n",
            "loss after iteration : 0.27361358247295964\n",
            "loss after iteration : 0.27360808156496014\n",
            "loss after iteration : 0.2736025936460694\n",
            "loss after iteration : 0.27359711867156244\n",
            "loss after iteration : 0.2735916565969167\n",
            "loss after iteration : 0.27358620737781103\n",
            "loss after iteration : 0.27358077097012423\n",
            "loss after iteration : 0.2735753473299347\n",
            "loss after iteration : 0.2735699364135182\n",
            "loss after iteration : 0.2735645381773481\n",
            "loss after iteration : 0.2735591525780928\n",
            "loss after iteration : 0.27355377957261595\n",
            "loss after iteration : 0.2735484191179747\n",
            "loss after iteration : 0.2735430711714186\n",
            "loss after iteration : 0.27353773569038875\n",
            "loss after iteration : 0.2735324126325169\n",
            "loss after iteration : 0.2735271019556239\n",
            "loss after iteration : 0.2735218036177193\n",
            "loss after iteration : 0.27351651757699935\n",
            "loss after iteration : 0.2735112437918472\n",
            "loss after iteration : 0.2735059822208309\n",
            "loss after iteration : 0.2735007328227029\n",
            "loss after iteration : 0.27349549555639857\n",
            "loss after iteration : 0.27349027038103607\n",
            "loss after iteration : 0.2734850572559141\n",
            "loss after iteration : 0.27347985614051207\n",
            "loss after iteration : 0.2734746669944886\n",
            "loss after iteration : 0.27346948977768015\n",
            "loss after iteration : 0.27346432445010105\n",
            "loss after iteration : 0.27345917097194156\n",
            "loss after iteration : 0.27345402930356755\n",
            "loss after iteration : 0.27344889940551914\n",
            "loss after iteration : 0.27344378123851004\n",
            "loss after iteration : 0.27343867476342637\n",
            "loss after iteration : 0.273433579941326\n",
            "loss after iteration : 0.27342849673343733\n",
            "loss after iteration : 0.2734234251011585\n",
            "loss after iteration : 0.2734183650060567\n",
            "loss after iteration : 0.27341331640986666\n",
            "loss after iteration : 0.2734082792744905\n",
            "loss after iteration : 0.2734032535619963\n",
            "loss after iteration : 0.27339823923461715\n",
            "loss after iteration : 0.27339323625475087\n",
            "loss after iteration : 0.2733882445849585\n",
            "loss after iteration : 0.27338326418796344\n",
            "loss after iteration : 0.27337829502665134\n",
            "loss after iteration : 0.2733733370640682\n",
            "loss after iteration : 0.27336839026342014\n",
            "loss after iteration : 0.2733634545880725\n",
            "loss after iteration : 0.27335853000154886\n",
            "loss after iteration : 0.27335361646753015\n",
            "loss after iteration : 0.2733487139498539\n",
            "loss after iteration : 0.27334382241251326\n",
            "loss after iteration : 0.27333894181965673\n",
            "loss after iteration : 0.2733340721355865\n",
            "loss after iteration : 0.27332921332475835\n",
            "loss after iteration : 0.27332436535178023\n",
            "loss after iteration : 0.27331952818141203\n",
            "loss after iteration : 0.27331470177856426\n",
            "loss after iteration : 0.27330988610829765\n",
            "loss after iteration : 0.2733050811358223\n",
            "loss after iteration : 0.2733002868264966\n",
            "loss after iteration : 0.2732955031458267\n",
            "loss after iteration : 0.2732907300594658\n",
            "loss after iteration : 0.2732859675332131\n",
            "loss after iteration : 0.27328121553301327\n",
            "loss after iteration : 0.2732764740249557\n",
            "loss after iteration : 0.2732717429752733\n",
            "loss after iteration : 0.27326702235034245\n",
            "loss after iteration : 0.2732623121166819\n",
            "loss after iteration : 0.2732576122409517\n",
            "loss after iteration : 0.273252922689953\n",
            "loss after iteration : 0.27324824343062737\n",
            "loss after iteration : 0.27324357443005504\n",
            "loss after iteration : 0.27323891565545577\n",
            "loss after iteration : 0.27323426707418674\n",
            "loss after iteration : 0.2732296286537426\n",
            "loss after iteration : 0.2732250003617544\n",
            "loss after iteration : 0.27322038216598926\n",
            "loss after iteration : 0.2732157740343491\n",
            "loss after iteration : 0.2732111759348707\n",
            "loss after iteration : 0.2732065878357241\n",
            "loss after iteration : 0.27320200970521263\n",
            "loss after iteration : 0.273197441511772\n",
            "loss after iteration : 0.27319288322396945\n",
            "loss after iteration : 0.27318833481050336\n",
            "loss after iteration : 0.27318379624020245\n",
            "loss after iteration : 0.27317926748202487\n",
            "loss after iteration : 0.27317474850505785\n",
            "loss after iteration : 0.2731702392785172\n",
            "loss after iteration : 0.27316573977174585\n"
          ]
        },
        {
          "output_type": "execute_result",
          "data": {
            "text/plain": [
              "<__main__.LogisticReg at 0x7f7fd71c80d0>"
            ]
          },
          "metadata": {},
          "execution_count": 63
        }
      ],
      "source": [
        "model.fit( X_df_scaled_train, y_train )"
      ]
    },
    {
      "cell_type": "markdown",
      "metadata": {
        "id": "BPTDACajhjwA"
      },
      "source": [
        "### Model Predict"
      ]
    },
    {
      "cell_type": "code",
      "execution_count": 64,
      "metadata": {
        "id": "-3MWuvXWA5SJ"
      },
      "outputs": [],
      "source": [
        "Y_pred = model.predict(X_df_scaled_test )"
      ]
    },
    {
      "cell_type": "code",
      "execution_count": 65,
      "metadata": {
        "colab": {
          "base_uri": "https://localhost:8080/"
        },
        "id": "yq4XfY2nzOl1",
        "outputId": "fbc85252-c450-4bd6-f73d-a1a38b897ac1"
      },
      "outputs": [
        {
          "output_type": "execute_result",
          "data": {
            "text/plain": [
              "array([0, 0, 0, 0, 0, 0, 0, 0, 0, 0])"
            ]
          },
          "metadata": {},
          "execution_count": 65
        }
      ],
      "source": [
        "Y_pred[0:10]"
      ]
    },
    {
      "cell_type": "code",
      "execution_count": 66,
      "metadata": {
        "colab": {
          "base_uri": "https://localhost:8080/"
        },
        "id": "YZDROcKJqFX2",
        "outputId": "64c32034-5149-464b-ef4b-1d6e8d17962e"
      },
      "outputs": [
        {
          "output_type": "execute_result",
          "data": {
            "text/plain": [
              "array([0.30969603, 0.22943942, 0.30055103, 0.31451111, 0.29100742])"
            ]
          },
          "metadata": {},
          "execution_count": 66
        }
      ],
      "source": [
        "y_pred_prob = model.predict_proba(X_df_scaled_test)\n",
        "\n",
        "y_pred_prob [0:5]"
      ]
    },
    {
      "cell_type": "markdown",
      "metadata": {
        "id": "FiSvoaDPF75C"
      },
      "source": [
        "# Naive Baiyes"
      ]
    },
    {
      "cell_type": "code",
      "execution_count": 67,
      "metadata": {
        "id": "o79HMYLft4l3"
      },
      "outputs": [],
      "source": [
        "class GaussianNaiveBayes:\n",
        "\n",
        "    def fit(self, x, y):\n",
        "        self._classes = np.unique(y)\n",
        "        n_classes = len(self._classes)\n",
        "        n_samples, n_features = x.shape\n",
        "\n",
        "        # Menghitung priors, rata-rata, dan variansi dari setiap kelas\n",
        "        # Membuat sebuah array kosong berdasarkan dimensi dari x yang dimana adalah array dataset yang dimasukkan\n",
        "        self._priors =  np.zeros(n_classes, dtype=np.float64)\n",
        "        self._mean = np.zeros((n_classes, n_features), dtype=np.float64)\n",
        "        self._var = np.zeros((n_classes, n_features), dtype=np.float64)\n",
        "\n",
        "        # Menghitung mean, variansi, dan prior P(H) untuk setiap kelas\n",
        "        for idx, c in enumerate(self._classes):\n",
        "            x_c = x[y==c]\n",
        "            self._mean[idx, :] = x_c.mean(axis=0)\n",
        "            self._var[idx, :] = x_c.var(axis=0)\n",
        "            self._priors[idx] = x_c.shape[0] / float(n_samples)\n",
        "\n",
        "    # Membuat array multidimensi yang berisi y_pred\n",
        "    def predict(self, x):\n",
        "        y_pred = [self._classify(x) for x in x]\n",
        "        return np.array(y_pred)\n",
        "\n",
        "    def _classify(self, x):\n",
        "        posteriors = []\n",
        "\n",
        "        # Mengkalkulasi posterior untuk mengkalsifikasi setiap kelas\n",
        "        for index, c in enumerate(self._classes):\n",
        "            prior = np.log(self._priors[index])\n",
        "            posterior = np.sum(np.log(self._calculate_likelihood(index, x)))\n",
        "            posterior = prior + posterior\n",
        "            posteriors.append(posterior)\n",
        "            \n",
        "        # Me-return class dengan nilai posterior tertinggi\n",
        "        return self._classes[np.argmax(posteriors)]\n",
        "            \n",
        "    # Menghitung P(E|H) dari data menggunakan nilai mean dan variancenya\n",
        "    def _calculate_likelihood(self, index_class, x):\n",
        "         mean = self._mean[index_class]\n",
        "         var = self._var[index_class]\n",
        "         num = np.exp(- (x-mean)**2 / (2 * var))\n",
        "         denom = np.sqrt(2 * np.pi * var)\n",
        "         return num / denom\n",
        "\n"
      ]
    },
    {
      "cell_type": "code",
      "execution_count": 68,
      "metadata": {
        "colab": {
          "base_uri": "https://localhost:8080/"
        },
        "id": "uRy9Yx3kD9TG",
        "outputId": "d3ff1e72-07dc-4a8e-e47e-4164ab7b9a09"
      },
      "outputs": [
        {
          "output_type": "stream",
          "name": "stdout",
          "text": [
            "Naive Bayes accuracy: 0.6439570393374742\n",
            "\n",
            "\n",
            "               precision    recall  f1-score   support\n",
            "\n",
            "           0       0.99      0.60      0.75     40696\n",
            "           1       0.25      0.97      0.40      5672\n",
            "\n",
            "    accuracy                           0.64     46368\n",
            "   macro avg       0.62      0.79      0.57     46368\n",
            "weighted avg       0.90      0.64      0.70     46368\n",
            "\n"
          ]
        }
      ],
      "source": [
        "from sklearn.metrics import accuracy_score\n",
        "\n",
        "def accuracy_result(y_test, y_pred):\n",
        "  accuracy = np.sum(y_test == y_pred) / len(y_test)\n",
        "  return accuracy\n",
        "\n",
        "#x_train = df_cleaned_train.drop(\"Tertarik\", axis=1)\n",
        "x_train = X_df_scaled_train\n",
        "y_train = df_cleaned_train[\"Tertarik\"]\n",
        "#x_test = df_cleaned_test.drop(\"Tertarik\",axis=1)\n",
        "x_test = X_df_scaled_test\n",
        "y_test = df_cleaned_test[\"Tertarik\"]\n",
        "\n",
        "nb = GaussianNaiveBayes()\n",
        "nb.fit(x_train.values, y_train.values)\n",
        "y_pred = nb.predict(x_test.values)\n",
        "\n",
        "\n",
        "print(f\"Naive Bayes accuracy: {accuracy_result(y_test, y_pred)}\\n\")\n",
        "print(\"\\n\", classification_report(y_test, y_pred))"
      ]
    },
    {
      "cell_type": "markdown",
      "metadata": {
        "id": "6zoi4uSQrNFj"
      },
      "source": [
        "# Evaluasi"
      ]
    },
    {
      "cell_type": "markdown",
      "metadata": {
        "id": "b5V3__iyGvxL"
      },
      "source": [
        "### Confusion Matrix dari Logistic Regression"
      ]
    },
    {
      "cell_type": "code",
      "execution_count": 69,
      "metadata": {
        "colab": {
          "base_uri": "https://localhost:8080/"
        },
        "id": "Y1XLieu0G7hv",
        "outputId": "1d2d5de8-94f9-49aa-fc74-841179f8d1a3"
      },
      "outputs": [
        {
          "output_type": "stream",
          "name": "stdout",
          "text": [
            "[[40677    19]\n",
            " [ 5666     6]]\n"
          ]
        }
      ],
      "source": [
        "cm = confusion_matrix(y_test,Y_pred)\n",
        "print(confusion_matrix(y_test,Y_pred))"
      ]
    },
    {
      "cell_type": "code",
      "execution_count": 70,
      "metadata": {
        "colab": {
          "base_uri": "https://localhost:8080/",
          "height": 335
        },
        "id": "fMnUraphG75D",
        "outputId": "51169186-91d9-4836-cb36-1d931b37d32b"
      },
      "outputs": [
        {
          "output_type": "display_data",
          "data": {
            "image/png": "[encoded data removed]",
            "text/plain": [
              "<Figure size 576x360 with 2 Axes>"
            ]
          },
          "metadata": {
            "needs_background": "light"
          }
        }
      ],
      "source": [
        "f, ax = plt.subplots(figsize=(8,5))\n",
        "sns.heatmap(cm, annot=True, fmt=\".0f\", ax=ax, cmap=shades)\n",
        "plt.xlabel(\"y_pred\")\n",
        "plt.ylabel(\"y_test\")\n",
        "plt.show()"
      ]
    },
    {
      "cell_type": "code",
      "execution_count": 71,
      "metadata": {
        "id": "JYiXqYiFINZ3"
      },
      "outputs": [],
      "source": [
        "TN = cm[0,0]\n",
        "TP = cm[1,1]\n",
        "FP = cm[0,1]\n",
        "FN = cm[1,0]"
      ]
    },
    {
      "cell_type": "markdown",
      "metadata": {
        "id": "IXNJQ5qkfcVF"
      },
      "source": [
        "### Accuracy"
      ]
    },
    {
      "cell_type": "code",
      "execution_count": 72,
      "metadata": {
        "colab": {
          "base_uri": "https://localhost:8080/"
        },
        "id": "T4CmXhptIQvJ",
        "outputId": "2f0fccb2-5653-450f-ad72-462a44ee1cb0"
      },
      "outputs": [
        {
          "output_type": "stream",
          "name": "stdout",
          "text": [
            "Classification accuracy : 0.8774\n"
          ]
        }
      ],
      "source": [
        "# print classification accuracy\n",
        "classification_accuracy = (TP + TN) / float(TP + TN + FP + FN)\n",
        "print('Classification accuracy : {0:0.4f}'.format(classification_accuracy))"
      ]
    },
    {
      "cell_type": "code",
      "execution_count": 73,
      "metadata": {
        "colab": {
          "base_uri": "https://localhost:8080/"
        },
        "id": "ejwmiVE_IQ8j",
        "outputId": "ba78e342-23fe-4b23-f78e-b90a98cfcb6d"
      },
      "outputs": [
        {
          "output_type": "stream",
          "name": "stdout",
          "text": [
            "Classification error : 0.1226\n"
          ]
        }
      ],
      "source": [
        "classification_error = (FP + FN) / float(TP + TN + FP + FN)\n",
        "print('Classification error : {0:0.4f}'.format(classification_error))"
      ]
    },
    {
      "cell_type": "code",
      "source": [
        ""
      ],
      "metadata": {
        "id": "ggmRuVcKeUjG"
      },
      "execution_count": 73,
      "outputs": []
    },
    {
      "cell_type": "markdown",
      "metadata": {
        "id": "2OWqoZ5NfhY8"
      },
      "source": [
        "### Precision and Recall"
      ]
    },
    {
      "cell_type": "code",
      "execution_count": 74,
      "metadata": {
        "colab": {
          "base_uri": "https://localhost:8080/"
        },
        "id": "ebtxhNBOIRN5",
        "outputId": "806050f3-9960-4091-88ba-43aec4892031"
      },
      "outputs": [
        {
          "output_type": "stream",
          "name": "stdout",
          "text": [
            "Precision : 0.2400\n"
          ]
        }
      ],
      "source": [
        "precision = TP / float(TP + FP)\n",
        "print('Precision : {0:0.4f}'.format(precision))"
      ]
    },
    {
      "cell_type": "code",
      "execution_count": 75,
      "metadata": {
        "colab": {
          "base_uri": "https://localhost:8080/"
        },
        "id": "UN0v9xiEIRef",
        "outputId": "ada90b59-f429-4ff3-cc70-5b21a3f3117d"
      },
      "outputs": [
        {
          "output_type": "stream",
          "name": "stdout",
          "text": [
            "Recall or Sensitivity or True Positive Rate : 0.0011\n"
          ]
        }
      ],
      "source": [
        "recall = TP / float(TP + FN)\n",
        "print('Recall or Sensitivity or True Positive Rate : {0:0.4f}'.format(recall))"
      ]
    },
    {
      "cell_type": "markdown",
      "metadata": {
        "id": "IIUZYEmbf4jG"
      },
      "source": [
        "### F1 Score"
      ]
    },
    {
      "cell_type": "code",
      "execution_count": 76,
      "metadata": {
        "colab": {
          "base_uri": "https://localhost:8080/"
        },
        "id": "K0p4BEZZf7Sw",
        "outputId": "8ee49034-1dcd-4278-c83d-38c205011041"
      },
      "outputs": [
        {
          "output_type": "stream",
          "name": "stdout",
          "text": [
            "F1 Score : 0.0021\n"
          ]
        }
      ],
      "source": [
        "f1_score = (2*(precision * recall)) / float(precision + recall)\n",
        "print('F1 Score : {0:0.4f}'.format(f1_score))"
      ]
    },
    {
      "cell_type": "markdown",
      "source": [
        "###Fall-out"
      ],
      "metadata": {
        "id": "mv730YgAUnch"
      }
    },
    {
      "cell_type": "code",
      "execution_count": 77,
      "metadata": {
        "colab": {
          "base_uri": "https://localhost:8080/"
        },
        "id": "oxU1NPg-IR7h",
        "outputId": "f1e41c52-498c-4272-9998-0c0eb8807b2b"
      },
      "outputs": [
        {
          "output_type": "stream",
          "name": "stdout",
          "text": [
            "False Positive Rate or fall-out : 0.0005\n"
          ]
        }
      ],
      "source": [
        "false_positive_rate = FP / float(FP + TN)\n",
        "print('False Positive Rate or fall-out : {0:0.4f}'.format(false_positive_rate))"
      ]
    },
    {
      "cell_type": "markdown",
      "source": [
        "### Specificity"
      ],
      "metadata": {
        "id": "o7f2I4z5U22H"
      }
    },
    {
      "cell_type": "code",
      "execution_count": 78,
      "metadata": {
        "colab": {
          "base_uri": "https://localhost:8080/"
        },
        "id": "6-heJHLIISHR",
        "outputId": "f6e58eda-7765-4a73-981e-7742711bf962"
      },
      "outputs": [
        {
          "output_type": "stream",
          "name": "stdout",
          "text": [
            "True Negeatif or Specificity : 0.9995\n"
          ]
        }
      ],
      "source": [
        "specificity = TN / (TN + FP)\n",
        "print('True Negeatif or Specificity : {0:0.4f}'.format(specificity))"
      ]
    },
    {
      "cell_type": "markdown",
      "source": [
        "### Balanced Accuracy"
      ],
      "metadata": {
        "id": "DVE82l70lNc0"
      }
    },
    {
      "cell_type": "code",
      "source": [
        "balanced_acuracy = (recall + specificity) / 2\n",
        "print('Balanced Accuracy : {0:0.4f}'.format(balanced_acuracy))"
      ],
      "metadata": {
        "colab": {
          "base_uri": "https://localhost:8080/"
        },
        "id": "jLExG0fuSgz7",
        "outputId": "4bcba508-deda-4610-b9bc-76b66e09800d"
      },
      "execution_count": 79,
      "outputs": [
        {
          "output_type": "stream",
          "name": "stdout",
          "text": [
            "Balanced Accuracy : 0.5003\n"
          ]
        }
      ]
    },
    {
      "cell_type": "markdown",
      "metadata": {
        "id": "rzT91H2hfDDX"
      },
      "source": [
        "### ROC AUC Curve"
      ]
    },
    {
      "cell_type": "code",
      "execution_count": 80,
      "metadata": {
        "colab": {
          "base_uri": "https://localhost:8080/",
          "height": 296
        },
        "id": "iQcvFJQnoxgc",
        "outputId": "40bb663e-436d-4ff2-b5d8-ac24918e1d01"
      },
      "outputs": [
        {
          "output_type": "display_data",
          "data": {
            "image/png": "[encoded data removed]",
            "text/plain": [
              "<Figure size 432x288 with 1 Axes>"
            ]
          },
          "metadata": {
            "needs_background": "light"
          }
        }
      ],
      "source": [
        "from sklearn.metrics import roc_curve\n",
        "fpr, tpr, thresholds = roc_curve(y_test, y_pred_prob, pos_label = 1)\n",
        "plt.figure(figsize=(6,4))\n",
        "plt.plot(fpr, tpr, linewidth=2)\n",
        "plt.plot([0,1], [0,1], 'k--' )\n",
        "plt.rcParams['font.size'] = 12\n",
        "plt.title('ROC curve untuk preferensi ketertarikan pelanggan')\n",
        "plt.xlabel('False Positive Rate (1 - Specificity)')\n",
        "plt.ylabel('True Positive Rate (Sensitivity)')\n",
        "plt.show()"
      ]
    },
    {
      "cell_type": "code",
      "execution_count": 81,
      "metadata": {
        "colab": {
          "base_uri": "https://localhost:8080/"
        },
        "id": "16451yG_6_hK",
        "outputId": "5895e787-7499-44db-e33f-3b529ae1e976"
      },
      "outputs": [
        {
          "output_type": "stream",
          "name": "stdout",
          "text": [
            "ROC AUC : 0.8303\n"
          ]
        }
      ],
      "source": [
        "from sklearn.metrics import roc_auc_score\n",
        "ROC_AUC = roc_auc_score(y_test, y_pred_prob)\n",
        "print('ROC AUC : {:.4f}'.format(ROC_AUC))"
      ]
    },
    {
      "cell_type": "markdown",
      "metadata": {
        "id": "PGf4sFHDvm-Z"
      },
      "source": [
        "### Confusion Matrix dari Naive Bayes"
      ]
    },
    {
      "cell_type": "code",
      "execution_count": 82,
      "metadata": {
        "colab": {
          "base_uri": "https://localhost:8080/",
          "height": 373
        },
        "id": "LFHLzYo0rO33",
        "outputId": "7669e2b4-353b-4743-8a2e-f23020560236"
      },
      "outputs": [
        {
          "output_type": "display_data",
          "data": {
            "image/png": "[encoded data removed]",
            "text/plain": [
              "<Figure size 576x360 with 2 Axes>"
            ]
          },
          "metadata": {
            "needs_background": "light"
          }
        }
      ],
      "source": [
        "# Membuat confussion matrix menggunakan y_test dan y_pred dari naive bayes\n",
        "nbm = confusion_matrix(y_test,y_pred)\n",
        "f, ax = plt.subplots(figsize=(8,5))\n",
        "sns.heatmap(nbm, annot=True, fmt=\".0f\", ax=ax, cmap=shades)\n",
        "plt.title(\"Naive Bayes Confusion Matrix\\n\")\n",
        "plt.xlabel(\"Predicted Label\")\n",
        "plt.ylabel(\"Actual Label\")\n",
        "plt.show()"
      ]
    },
    {
      "cell_type": "markdown",
      "metadata": {
        "id": "SlzWaDWdrRE-"
      },
      "source": [
        "# Eksperimen"
      ]
    },
    {
      "cell_type": "markdown",
      "metadata": {
        "id": "lZxdiMA0oik8"
      },
      "source": [
        "## Undersampling"
      ]
    },
    {
      "cell_type": "markdown",
      "metadata": {
        "id": "IesyK7eSiSZK"
      },
      "source": [
        "Random Under-Sampling:"
      ]
    },
    {
      "cell_type": "code",
      "execution_count": 83,
      "metadata": {
        "id": "wA7fVTuSY_8s"
      },
      "outputs": [],
      "source": [
        "df_concat = pd.concat([df_cleaned_train,df_cleaned_test])"
      ]
    },
    {
      "cell_type": "code",
      "execution_count": 84,
      "metadata": {
        "colab": {
          "base_uri": "https://localhost:8080/"
        },
        "id": "vjarPfbEzJy-",
        "outputId": "d445d423-e49c-4488-9769-f49146dd73bb"
      },
      "outputs": [
        {
          "output_type": "stream",
          "name": "stdout",
          "text": [
            "0    243640\n",
            "1     33358\n",
            "Name: Tertarik, dtype: int64\n"
          ]
        }
      ],
      "source": [
        "print(df_concat['Tertarik'].value_counts())"
      ]
    },
    {
      "cell_type": "code",
      "execution_count": 85,
      "metadata": {
        "id": "pRHgg4W-y5JC"
      },
      "outputs": [],
      "source": [
        "yes_df = df_concat.loc[df_concat['Tertarik'] == 1]\n",
        "no_df = df_concat.loc[df_concat['Tertarik'] == 0][:33358]"
      ]
    },
    {
      "cell_type": "code",
      "execution_count": 86,
      "metadata": {
        "colab": {
          "base_uri": "https://localhost:8080/",
          "height": 206
        },
        "id": "SwTu3zPyeU-l",
        "outputId": "34757b57-d7cb-4f22-d84c-5821490510c0"
      },
      "outputs": [
        {
          "output_type": "execute_result",
          "data": {
            "text/html": [
              "\n",
              "  <div id=\"df-39a9c09f-a053-4d2d-896d-4435e6a8a7c1\">\n",
              "    <div class=\"colab-df-container\">\n",
              "      <div>\n",
              "<style scoped>\n",
              "    .dataframe tbody tr th:only-of-type {\n",
              "        vertical-align: middle;\n",
              "    }\n",
              "\n",
              "    .dataframe tbody tr th {\n",
              "        vertical-align: top;\n",
              "    }\n",
              "\n",
              "    .dataframe thead th {\n",
              "        text-align: right;\n",
              "    }\n",
              "</style>\n",
              "<table border=\"1\" class=\"dataframe\">\n",
              "  <thead>\n",
              "    <tr style=\"text-align: right;\">\n",
              "      <th></th>\n",
              "      <th>Jenis_Kelamin</th>\n",
              "      <th>Umur</th>\n",
              "      <th>SIM</th>\n",
              "      <th>Kode_Daerah</th>\n",
              "      <th>Sudah_Asuransi</th>\n",
              "      <th>Umur_Kendaraan</th>\n",
              "      <th>Kendaraan_Rusak</th>\n",
              "      <th>Premi</th>\n",
              "      <th>Kanal_Penjualan</th>\n",
              "      <th>Lama_Berlangganan</th>\n",
              "      <th>Tertarik</th>\n",
              "    </tr>\n",
              "  </thead>\n",
              "  <tbody>\n",
              "    <tr>\n",
              "      <th>21333</th>\n",
              "      <td>1</td>\n",
              "      <td>23.0</td>\n",
              "      <td>1.0</td>\n",
              "      <td>16.0</td>\n",
              "      <td>1.0</td>\n",
              "      <td>0</td>\n",
              "      <td>0</td>\n",
              "      <td>30548.0</td>\n",
              "      <td>152.0</td>\n",
              "      <td>288.0</td>\n",
              "      <td>0</td>\n",
              "    </tr>\n",
              "    <tr>\n",
              "      <th>39069</th>\n",
              "      <td>1</td>\n",
              "      <td>41.0</td>\n",
              "      <td>1.0</td>\n",
              "      <td>10.0</td>\n",
              "      <td>0.0</td>\n",
              "      <td>2</td>\n",
              "      <td>1</td>\n",
              "      <td>36995.0</td>\n",
              "      <td>163.0</td>\n",
              "      <td>193.0</td>\n",
              "      <td>1</td>\n",
              "    </tr>\n",
              "    <tr>\n",
              "      <th>248855</th>\n",
              "      <td>1</td>\n",
              "      <td>38.0</td>\n",
              "      <td>1.0</td>\n",
              "      <td>3.0</td>\n",
              "      <td>0.0</td>\n",
              "      <td>1</td>\n",
              "      <td>1</td>\n",
              "      <td>38114.0</td>\n",
              "      <td>124.0</td>\n",
              "      <td>288.0</td>\n",
              "      <td>1</td>\n",
              "    </tr>\n",
              "    <tr>\n",
              "      <th>4511</th>\n",
              "      <td>1</td>\n",
              "      <td>20.0</td>\n",
              "      <td>1.0</td>\n",
              "      <td>3.0</td>\n",
              "      <td>0.0</td>\n",
              "      <td>0</td>\n",
              "      <td>1</td>\n",
              "      <td>30548.0</td>\n",
              "      <td>160.0</td>\n",
              "      <td>16.0</td>\n",
              "      <td>0</td>\n",
              "    </tr>\n",
              "    <tr>\n",
              "      <th>1394</th>\n",
              "      <td>1</td>\n",
              "      <td>38.0</td>\n",
              "      <td>1.0</td>\n",
              "      <td>26.0</td>\n",
              "      <td>0.0</td>\n",
              "      <td>1</td>\n",
              "      <td>1</td>\n",
              "      <td>40679.0</td>\n",
              "      <td>122.0</td>\n",
              "      <td>104.0</td>\n",
              "      <td>0</td>\n",
              "    </tr>\n",
              "  </tbody>\n",
              "</table>\n",
              "</div>\n",
              "      <button class=\"colab-df-convert\" onclick=\"convertToInteractive('df-39a9c09f-a053-4d2d-896d-4435e6a8a7c1')\"\n",
              "              title=\"Convert this dataframe to an interactive table.\"\n",
              "              style=\"display:none;\">\n",
              "        \n",
              "  <svg xmlns=\"http://www.w3.org/2000/svg\" height=\"24px\"viewBox=\"0 0 24 24\"\n",
              "       width=\"24px\">\n",
              "    <path d=\"M0 0h24v24H0V0z\" fill=\"none\"/>\n",
              "    <path d=\"M18.56 5.44l.94 2.06.94-2.06 2.06-.94-2.06-.94-.94-2.06-.94 2.06-2.06.94zm-11 1L8.5 8.5l.94-2.06 2.06-.94-2.06-.94L8.5 2.5l-.94 2.06-2.06.94zm10 10l.94 2.06.94-2.06 2.06-.94-2.06-.94-.94-2.06-.94 2.06-2.06.94z\"/><path d=\"M17.41 7.96l-1.37-1.37c-.4-.4-.92-.59-1.43-.59-.52 0-1.04.2-1.43.59L10.3 9.45l-7.72 7.72c-.78.78-.78 2.05 0 2.83L4 21.41c.39.39.9.59 1.41.59.51 0 1.02-.2 1.41-.59l7.78-7.78 2.81-2.81c.8-.78.8-2.07 0-2.86zM5.41 20L4 18.59l7.72-7.72 1.47 1.35L5.41 20z\"/>\n",
              "  </svg>\n",
              "      </button>\n",
              "      \n",
              "  <style>\n",
              "    .colab-df-container {\n",
              "      display:flex;\n",
              "      flex-wrap:wrap;\n",
              "      gap: 12px;\n",
              "    }\n",
              "\n",
              "    .colab-df-convert {\n",
              "      background-color: #E8F0FE;\n",
              "      border: none;\n",
              "      border-radius: 50%;\n",
              "      cursor: pointer;\n",
              "      display: none;\n",
              "      fill: #1967D2;\n",
              "      height: 32px;\n",
              "      padding: 0 0 0 0;\n",
              "      width: 32px;\n",
              "    }\n",
              "\n",
              "    .colab-df-convert:hover {\n",
              "      background-color: #E2EBFA;\n",
              "      box-shadow: 0px 1px 2px rgba(60, 64, 67, 0.3), 0px 1px 3px 1px rgba(60, 64, 67, 0.15);\n",
              "      fill: #174EA6;\n",
              "    }\n",
              "\n",
              "    [theme=dark] .colab-df-convert {\n",
              "      background-color: #3B4455;\n",
              "      fill: #D2E3FC;\n",
              "    }\n",
              "\n",
              "    [theme=dark] .colab-df-convert:hover {\n",
              "      background-color: #434B5C;\n",
              "      box-shadow: 0px 1px 3px 1px rgba(0, 0, 0, 0.15);\n",
              "      filter: drop-shadow(0px 1px 2px rgba(0, 0, 0, 0.3));\n",
              "      fill: #FFFFFF;\n",
              "    }\n",
              "  </style>\n",
              "\n",
              "      <script>\n",
              "        const buttonEl =\n",
              "          document.querySelector('#df-39a9c09f-a053-4d2d-896d-4435e6a8a7c1 button.colab-df-convert');\n",
              "        buttonEl.style.display =\n",
              "          google.colab.kernel.accessAllowed ? 'block' : 'none';\n",
              "\n",
              "        async function convertToInteractive(key) {\n",
              "          const element = document.querySelector('#df-39a9c09f-a053-4d2d-896d-4435e6a8a7c1');\n",
              "          const dataTable =\n",
              "            await google.colab.kernel.invokeFunction('convertToInteractive',\n",
              "                                                     [key], {});\n",
              "          if (!dataTable) return;\n",
              "\n",
              "          const docLinkHtml = 'Like what you see? Visit the ' +\n",
              "            '<a target=\"_blank\" href=https://colab.research.google.com/notebooks/data_table.ipynb>data table notebook</a>'\n",
              "            + ' to learn more about interactive tables.';\n",
              "          element.innerHTML = '';\n",
              "          dataTable['output_type'] = 'display_data';\n",
              "          await google.colab.output.renderOutput(dataTable, element);\n",
              "          const docLink = document.createElement('div');\n",
              "          docLink.innerHTML = docLinkHtml;\n",
              "          element.appendChild(docLink);\n",
              "        }\n",
              "      </script>\n",
              "    </div>\n",
              "  </div>\n",
              "  "
            ],
            "text/plain": [
              "        Jenis_Kelamin  Umur  SIM  ...  Kanal_Penjualan  Lama_Berlangganan  Tertarik\n",
              "21333               1  23.0  1.0  ...            152.0              288.0         0\n",
              "39069               1  41.0  1.0  ...            163.0              193.0         1\n",
              "248855              1  38.0  1.0  ...            124.0              288.0         1\n",
              "4511                1  20.0  1.0  ...            160.0               16.0         0\n",
              "1394                1  38.0  1.0  ...            122.0              104.0         0\n",
              "\n",
              "[5 rows x 11 columns]"
            ]
          },
          "metadata": {},
          "execution_count": 86
        }
      ],
      "source": [
        "normal_distributed_df = pd.concat([yes_df, no_df])\n",
        "\n",
        "new_df = normal_distributed_df.sample(frac=1, random_state=42)\n",
        "\n",
        "new_df.head()"
      ]
    },
    {
      "cell_type": "code",
      "execution_count": 87,
      "metadata": {
        "colab": {
          "base_uri": "https://localhost:8080/",
          "height": 426
        },
        "id": "TB4Z0fb9Z2zj",
        "outputId": "eacecf92-a03c-46ab-acfd-60932a2f5d36"
      },
      "outputs": [
        {
          "output_type": "stream",
          "name": "stdout",
          "text": [
            "Distribusi dalam subsample\n",
            "1    0.5\n",
            "0    0.5\n",
            "Name: Tertarik, dtype: float64\n"
          ]
        },
        {
          "output_type": "stream",
          "name": "stderr",
          "text": [
            "/usr/local/lib/python3.7/dist-packages/seaborn/_decorators.py:43: FutureWarning: Pass the following variable as a keyword arg: x. From version 0.12, the only valid positional argument will be `data`, and passing other arguments without an explicit keyword will result in an error or misinterpretation.\n",
            "  FutureWarning\n"
          ]
        },
        {
          "output_type": "display_data",
          "data": {
            "image/png": "[encoded data removed]",
            "text/plain": [
              "<Figure size 432x288 with 1 Axes>"
            ]
          },
          "metadata": {
            "needs_background": "light"
          }
        }
      ],
      "source": [
        "print('Distribusi dalam subsample')\n",
        "print(new_df['Tertarik'].value_counts()/len(new_df))\n",
        "\n",
        "sns.countplot('Tertarik', data=new_df, palette=shades)\n",
        "plt.title('Balanced Dataset', fontsize=14)\n",
        "plt.show()"
      ]
    },
    {
      "cell_type": "code",
      "execution_count": 88,
      "metadata": {
        "colab": {
          "base_uri": "https://localhost:8080/",
          "height": 1000
        },
        "id": "fYgcPKjlaYYw",
        "outputId": "04f81bd2-60f9-46d7-f8ba-1b4d0fb4ca57"
      },
      "outputs": [
        {
          "output_type": "display_data",
          "data": {
            "image/png": "[encoded data removed]",
            "text/plain": [
              "<Figure size 1728x1440 with 4 Axes>"
            ]
          },
          "metadata": {
            "needs_background": "light"
          }
        }
      ],
      "source": [
        "f, (ax1, ax2) = plt.subplots(2, 1, figsize=(24,20))\n",
        "corr = df_cleaned_train.corr()\n",
        "sns.heatmap(corr, cmap='coolwarm_r', annot_kws={'size':20}, ax=ax1)\n",
        "ax1.set_title(\"Imbalanced Correlation Matrix \\n (don't use for reference)\", fontsize=14)\n",
        "sub_sample_corr = new_df.corr()\n",
        "sns.heatmap(sub_sample_corr, cmap='coolwarm_r', annot_kws={'size':20}, ax=ax2)\n",
        "ax2.set_title('SubSample Correlation Matrix \\n (use for reference)', fontsize=14)\n",
        "plt.show()"
      ]
    },
    {
      "cell_type": "markdown",
      "metadata": {
        "id": "p8fkhHQlgMtT"
      },
      "source": [
        "\n",
        "Temuan\n",
        "*   Fitur 'Kendaraan_Rusak' memiliki korelasi positif terhadap target artinya pelanggan yang memiliki kendaraan rusak cenderung untuk membeli kendaraan baru\n",
        "*   Fitur 'Sudah_Asuransi' memiliki korelasi negatif terhadap target.\n",
        "\n"
      ]
    },
    {
      "cell_type": "code",
      "execution_count": 89,
      "metadata": {
        "id": "NXclPuV_ohzr"
      },
      "outputs": [],
      "source": [
        "new_df_X = new_df.drop('Tertarik', axis=1)\n",
        "new_df_y = new_df['Tertarik']"
      ]
    },
    {
      "cell_type": "code",
      "execution_count": 90,
      "metadata": {
        "id": "wfgddOseb80p"
      },
      "outputs": [],
      "source": [
        "new_df_X = (new_df_X-new_df_X.mean())/new_df_X.std()"
      ]
    },
    {
      "cell_type": "code",
      "execution_count": 91,
      "metadata": {
        "colab": {
          "base_uri": "https://localhost:8080/",
          "height": 363
        },
        "id": "xiXhXKgHc-np",
        "outputId": "821bef2c-8b54-42c3-bb88-bb1f7b9a2ac8"
      },
      "outputs": [
        {
          "output_type": "execute_result",
          "data": {
            "text/html": [
              "\n",
              "  <div id=\"df-91be72fd-9116-4af7-a38a-d172073a4b6f\">\n",
              "    <div class=\"colab-df-container\">\n",
              "      <div>\n",
              "<style scoped>\n",
              "    .dataframe tbody tr th:only-of-type {\n",
              "        vertical-align: middle;\n",
              "    }\n",
              "\n",
              "    .dataframe tbody tr th {\n",
              "        vertical-align: top;\n",
              "    }\n",
              "\n",
              "    .dataframe thead th {\n",
              "        text-align: right;\n",
              "    }\n",
              "</style>\n",
              "<table border=\"1\" class=\"dataframe\">\n",
              "  <thead>\n",
              "    <tr style=\"text-align: right;\">\n",
              "      <th></th>\n",
              "      <th>count</th>\n",
              "      <th>mean</th>\n",
              "      <th>std</th>\n",
              "      <th>min</th>\n",
              "      <th>25%</th>\n",
              "      <th>50%</th>\n",
              "      <th>75%</th>\n",
              "      <th>max</th>\n",
              "    </tr>\n",
              "  </thead>\n",
              "  <tbody>\n",
              "    <tr>\n",
              "      <th>Jenis_Kelamin</th>\n",
              "      <td>66716.0</td>\n",
              "      <td>1.376380e-17</td>\n",
              "      <td>1.0</td>\n",
              "      <td>-1.198231</td>\n",
              "      <td>-1.198231</td>\n",
              "      <td>0.834551</td>\n",
              "      <td>0.834551</td>\n",
              "      <td>0.834551</td>\n",
              "    </tr>\n",
              "    <tr>\n",
              "      <th>Umur</th>\n",
              "      <td>66716.0</td>\n",
              "      <td>-2.052704e-16</td>\n",
              "      <td>1.0</td>\n",
              "      <td>-1.451407</td>\n",
              "      <td>-0.952664</td>\n",
              "      <td>-0.097674</td>\n",
              "      <td>0.614817</td>\n",
              "      <td>3.179784</td>\n",
              "    </tr>\n",
              "    <tr>\n",
              "      <th>SIM</th>\n",
              "      <td>66716.0</td>\n",
              "      <td>-1.747086e-16</td>\n",
              "      <td>1.0</td>\n",
              "      <td>-27.834436</td>\n",
              "      <td>0.035926</td>\n",
              "      <td>0.035926</td>\n",
              "      <td>0.035926</td>\n",
              "      <td>0.035926</td>\n",
              "    </tr>\n",
              "    <tr>\n",
              "      <th>Kode_Daerah</th>\n",
              "      <td>66716.0</td>\n",
              "      <td>-1.055786e-16</td>\n",
              "      <td>1.0</td>\n",
              "      <td>-2.195523</td>\n",
              "      <td>-0.710336</td>\n",
              "      <td>0.114767</td>\n",
              "      <td>0.527319</td>\n",
              "      <td>2.095015</td>\n",
              "    </tr>\n",
              "    <tr>\n",
              "      <th>Sudah_Asuransi</th>\n",
              "      <td>66716.0</td>\n",
              "      <td>-5.181318e-16</td>\n",
              "      <td>1.0</td>\n",
              "      <td>-0.594750</td>\n",
              "      <td>-0.594750</td>\n",
              "      <td>-0.594750</td>\n",
              "      <td>1.681354</td>\n",
              "      <td>1.681354</td>\n",
              "    </tr>\n",
              "    <tr>\n",
              "      <th>Umur_Kendaraan</th>\n",
              "      <td>66716.0</td>\n",
              "      <td>-1.108769e-15</td>\n",
              "      <td>1.0</td>\n",
              "      <td>-1.337528</td>\n",
              "      <td>-1.337528</td>\n",
              "      <td>0.450166</td>\n",
              "      <td>0.450166</td>\n",
              "      <td>2.237859</td>\n",
              "    </tr>\n",
              "    <tr>\n",
              "      <th>Kendaraan_Rusak</th>\n",
              "      <td>66716.0</td>\n",
              "      <td>1.319298e-15</td>\n",
              "      <td>1.0</td>\n",
              "      <td>-1.577287</td>\n",
              "      <td>-1.577287</td>\n",
              "      <td>0.633991</td>\n",
              "      <td>0.633991</td>\n",
              "      <td>0.633991</td>\n",
              "    </tr>\n",
              "    <tr>\n",
              "      <th>Premi</th>\n",
              "      <td>66716.0</td>\n",
              "      <td>1.394783e-16</td>\n",
              "      <td>1.0</td>\n",
              "      <td>-3.347879</td>\n",
              "      <td>-0.601055</td>\n",
              "      <td>-0.134995</td>\n",
              "      <td>0.605003</td>\n",
              "      <td>2.872175</td>\n",
              "    </tr>\n",
              "    <tr>\n",
              "      <th>Kanal_Penjualan</th>\n",
              "      <td>66716.0</td>\n",
              "      <td>-9.552751e-16</td>\n",
              "      <td>1.0</td>\n",
              "      <td>-1.874129</td>\n",
              "      <td>-1.414570</td>\n",
              "      <td>0.386903</td>\n",
              "      <td>0.901610</td>\n",
              "      <td>1.103816</td>\n",
              "    </tr>\n",
              "    <tr>\n",
              "      <th>Lama_Berlangganan</th>\n",
              "      <td>66716.0</td>\n",
              "      <td>1.542890e-16</td>\n",
              "      <td>1.0</td>\n",
              "      <td>-1.765984</td>\n",
              "      <td>-0.846690</td>\n",
              "      <td>-0.000940</td>\n",
              "      <td>0.844811</td>\n",
              "      <td>1.776362</td>\n",
              "    </tr>\n",
              "  </tbody>\n",
              "</table>\n",
              "</div>\n",
              "      <button class=\"colab-df-convert\" onclick=\"convertToInteractive('df-91be72fd-9116-4af7-a38a-d172073a4b6f')\"\n",
              "              title=\"Convert this dataframe to an interactive table.\"\n",
              "              style=\"display:none;\">\n",
              "        \n",
              "  <svg xmlns=\"http://www.w3.org/2000/svg\" height=\"24px\"viewBox=\"0 0 24 24\"\n",
              "       width=\"24px\">\n",
              "    <path d=\"M0 0h24v24H0V0z\" fill=\"none\"/>\n",
              "    <path d=\"M18.56 5.44l.94 2.06.94-2.06 2.06-.94-2.06-.94-.94-2.06-.94 2.06-2.06.94zm-11 1L8.5 8.5l.94-2.06 2.06-.94-2.06-.94L8.5 2.5l-.94 2.06-2.06.94zm10 10l.94 2.06.94-2.06 2.06-.94-2.06-.94-.94-2.06-.94 2.06-2.06.94z\"/><path d=\"M17.41 7.96l-1.37-1.37c-.4-.4-.92-.59-1.43-.59-.52 0-1.04.2-1.43.59L10.3 9.45l-7.72 7.72c-.78.78-.78 2.05 0 2.83L4 21.41c.39.39.9.59 1.41.59.51 0 1.02-.2 1.41-.59l7.78-7.78 2.81-2.81c.8-.78.8-2.07 0-2.86zM5.41 20L4 18.59l7.72-7.72 1.47 1.35L5.41 20z\"/>\n",
              "  </svg>\n",
              "      </button>\n",
              "      \n",
              "  <style>\n",
              "    .colab-df-container {\n",
              "      display:flex;\n",
              "      flex-wrap:wrap;\n",
              "      gap: 12px;\n",
              "    }\n",
              "\n",
              "    .colab-df-convert {\n",
              "      background-color: #E8F0FE;\n",
              "      border: none;\n",
              "      border-radius: 50%;\n",
              "      cursor: pointer;\n",
              "      display: none;\n",
              "      fill: #1967D2;\n",
              "      height: 32px;\n",
              "      padding: 0 0 0 0;\n",
              "      width: 32px;\n",
              "    }\n",
              "\n",
              "    .colab-df-convert:hover {\n",
              "      background-color: #E2EBFA;\n",
              "      box-shadow: 0px 1px 2px rgba(60, 64, 67, 0.3), 0px 1px 3px 1px rgba(60, 64, 67, 0.15);\n",
              "      fill: #174EA6;\n",
              "    }\n",
              "\n",
              "    [theme=dark] .colab-df-convert {\n",
              "      background-color: #3B4455;\n",
              "      fill: #D2E3FC;\n",
              "    }\n",
              "\n",
              "    [theme=dark] .colab-df-convert:hover {\n",
              "      background-color: #434B5C;\n",
              "      box-shadow: 0px 1px 3px 1px rgba(0, 0, 0, 0.15);\n",
              "      filter: drop-shadow(0px 1px 2px rgba(0, 0, 0, 0.3));\n",
              "      fill: #FFFFFF;\n",
              "    }\n",
              "  </style>\n",
              "\n",
              "      <script>\n",
              "        const buttonEl =\n",
              "          document.querySelector('#df-91be72fd-9116-4af7-a38a-d172073a4b6f button.colab-df-convert');\n",
              "        buttonEl.style.display =\n",
              "          google.colab.kernel.accessAllowed ? 'block' : 'none';\n",
              "\n",
              "        async function convertToInteractive(key) {\n",
              "          const element = document.querySelector('#df-91be72fd-9116-4af7-a38a-d172073a4b6f');\n",
              "          const dataTable =\n",
              "            await google.colab.kernel.invokeFunction('convertToInteractive',\n",
              "                                                     [key], {});\n",
              "          if (!dataTable) return;\n",
              "\n",
              "          const docLinkHtml = 'Like what you see? Visit the ' +\n",
              "            '<a target=\"_blank\" href=https://colab.research.google.com/notebooks/data_table.ipynb>data table notebook</a>'\n",
              "            + ' to learn more about interactive tables.';\n",
              "          element.innerHTML = '';\n",
              "          dataTable['output_type'] = 'display_data';\n",
              "          await google.colab.output.renderOutput(dataTable, element);\n",
              "          const docLink = document.createElement('div');\n",
              "          docLink.innerHTML = docLinkHtml;\n",
              "          element.appendChild(docLink);\n",
              "        }\n",
              "      </script>\n",
              "    </div>\n",
              "  </div>\n",
              "  "
            ],
            "text/plain": [
              "                     count          mean  std  ...       50%       75%       max\n",
              "Jenis_Kelamin      66716.0  1.376380e-17  1.0  ...  0.834551  0.834551  0.834551\n",
              "Umur               66716.0 -2.052704e-16  1.0  ... -0.097674  0.614817  3.179784\n",
              "SIM                66716.0 -1.747086e-16  1.0  ...  0.035926  0.035926  0.035926\n",
              "Kode_Daerah        66716.0 -1.055786e-16  1.0  ...  0.114767  0.527319  2.095015\n",
              "Sudah_Asuransi     66716.0 -5.181318e-16  1.0  ... -0.594750  1.681354  1.681354\n",
              "Umur_Kendaraan     66716.0 -1.108769e-15  1.0  ...  0.450166  0.450166  2.237859\n",
              "Kendaraan_Rusak    66716.0  1.319298e-15  1.0  ...  0.633991  0.633991  0.633991\n",
              "Premi              66716.0  1.394783e-16  1.0  ... -0.134995  0.605003  2.872175\n",
              "Kanal_Penjualan    66716.0 -9.552751e-16  1.0  ...  0.386903  0.901610  1.103816\n",
              "Lama_Berlangganan  66716.0  1.542890e-16  1.0  ... -0.000940  0.844811  1.776362\n",
              "\n",
              "[10 rows x 8 columns]"
            ]
          },
          "metadata": {},
          "execution_count": 91
        }
      ],
      "source": [
        "new_df_X.describe().T"
      ]
    },
    {
      "cell_type": "code",
      "execution_count": 92,
      "metadata": {
        "id": "YiKFRO1z0S56"
      },
      "outputs": [],
      "source": [
        "from sklearn.model_selection import train_test_split"
      ]
    },
    {
      "cell_type": "code",
      "execution_count": 93,
      "metadata": {
        "id": "TRxNdh85zXpt"
      },
      "outputs": [],
      "source": [
        "X_train_new, X_test_new, y_train_new,y_test_new = train_test_split(new_df_X,new_df_y,test_size=0.2,random_state=0)"
      ]
    },
    {
      "cell_type": "code",
      "execution_count": 94,
      "metadata": {
        "id": "gJTyOBQ-0YB8"
      },
      "outputs": [],
      "source": [
        "X_train_new = X_train_new\n",
        "X_test_new = X_test_new.values\n",
        "y_train_new = y_train_new.values\n",
        "y_test_new = y_test_new.values"
      ]
    },
    {
      "cell_type": "code",
      "execution_count": 95,
      "metadata": {
        "id": "45DHeocJo4-v"
      },
      "outputs": [],
      "source": [
        "model_exp = LogisticReg( l_r = 0.3, iterasi = 500 )"
      ]
    },
    {
      "cell_type": "code",
      "execution_count": 96,
      "metadata": {
        "id": "cuhujHfmpvZ1",
        "colab": {
          "base_uri": "https://localhost:8080/"
        },
        "outputId": "ac9be0ac-de2e-4ac7-f390-4a981630403d"
      },
      "outputs": [
        {
          "output_type": "stream",
          "name": "stdout",
          "text": [
            "loss after iteration : 0.1576148705290084\n",
            "loss after iteration : 0.14531395246049833\n",
            "loss after iteration : 0.13742601044154804\n",
            "loss after iteration : 0.13220623143425242\n",
            "loss after iteration : 0.12862161369615724\n",
            "loss after iteration : 0.12607181606164938\n",
            "loss after iteration : 0.12420076906915874\n",
            "loss after iteration : 0.12279010809475108\n",
            "loss after iteration : 0.12170108900105263\n",
            "loss after iteration : 0.1208425791003895\n",
            "loss after iteration : 0.12015291546635827\n",
            "loss after iteration : 0.11958927738632193\n",
            "loss after iteration : 0.11912125109516657\n",
            "loss after iteration : 0.11872680948583347\n",
            "loss after iteration : 0.11838972755863286\n",
            "loss after iteration : 0.11809787724490493\n",
            "loss after iteration : 0.11784207588272043\n",
            "loss after iteration : 0.11761529217266592\n",
            "loss after iteration : 0.11741208831092592\n",
            "loss after iteration : 0.11722822144558513\n",
            "loss after iteration : 0.117060354662829\n",
            "loss after iteration : 0.11690584457388496\n",
            "loss after iteration : 0.11676258331296333\n",
            "loss after iteration : 0.11662887973357583\n",
            "loss after iteration : 0.11650336920795992\n",
            "loss after iteration : 0.11638494454260409\n",
            "loss after iteration : 0.11627270264853741\n",
            "loss after iteration : 0.11616590308009235\n",
            "loss after iteration : 0.1160639355933284\n",
            "loss after iteration : 0.11596629461419433\n",
            "loss after iteration : 0.11587255903887167\n",
            "loss after iteration : 0.1157823761764473\n",
            "loss after iteration : 0.11569544892924455\n",
            "loss after iteration : 0.11561152551785427\n",
            "loss after iteration : 0.11553039121644035\n",
            "loss after iteration : 0.11545186168354635\n",
            "loss after iteration : 0.11537577756461814\n",
            "loss after iteration : 0.11530200011212276\n",
            "loss after iteration : 0.11523040762282495\n",
            "loss after iteration : 0.11516089253340017\n",
            "loss after iteration : 0.115093359048003\n",
            "loss after iteration : 0.1150277211968304\n",
            "loss after iteration : 0.11496390124473314\n",
            "loss after iteration : 0.11490182838476053\n",
            "loss after iteration : 0.11484143766409675\n",
            "loss after iteration : 0.11478266909987214\n",
            "loss after iteration : 0.11472546695035611\n",
            "loss after iteration : 0.11466977911348218\n",
            "loss after iteration : 0.11461555662984356\n",
            "loss after iteration : 0.11456275327149253\n",
            "loss after iteration : 0.1145113252012719\n",
            "loss after iteration : 0.11446123069016682\n",
            "loss after iteration : 0.11441242988241132\n",
            "loss after iteration : 0.11436488459991444\n",
            "loss after iteration : 0.1143185581790708\n",
            "loss after iteration : 0.11427341533424595\n",
            "loss after iteration : 0.11422942204323389\n",
            "loss after iteration : 0.11418654545080938\n",
            "loss after iteration : 0.11414475378718056\n",
            "loss after iteration : 0.1141040162987048\n",
            "loss after iteration : 0.11406430318869372\n",
            "loss after iteration : 0.11402558556651625\n",
            "loss after iteration : 0.11398783540351987\n",
            "loss after iteration : 0.11395102549455384\n",
            "loss after iteration : 0.11391512942409117\n",
            "loss after iteration : 0.11388012153612519\n",
            "loss after iteration : 0.113845976907163\n",
            "loss after iteration : 0.11381267132175982\n",
            "loss after iteration : 0.11378018125013957\n",
            "loss after iteration : 0.11374848382752967\n",
            "loss after iteration : 0.11371755683490578\n",
            "loss after iteration : 0.11368737868090187\n",
            "loss after iteration : 0.11365792838468355\n",
            "loss after iteration : 0.11362918555962469\n",
            "loss after iteration : 0.11360113039765726\n",
            "loss after iteration : 0.11357374365419036\n",
            "loss after iteration : 0.11354700663351568\n",
            "loss after iteration : 0.11352090117463469\n",
            "loss after iteration : 0.11349540963745595\n",
            "loss after iteration : 0.11347051488932226\n",
            "loss after iteration : 0.1134462002918383\n",
            "loss after iteration : 0.11342244968797403\n",
            "loss after iteration : 0.11339924738942778\n",
            "loss after iteration : 0.11337657816423548\n",
            "loss after iteration : 0.11335442722461686\n",
            "loss after iteration : 0.11333278021505351\n",
            "loss after iteration : 0.11331162320059285\n",
            "loss after iteration : 0.11329094265537677\n",
            "loss after iteration : 0.11327072545139323\n",
            "loss after iteration : 0.11325095884744991\n",
            "loss after iteration : 0.11323163047836947\n",
            "loss after iteration : 0.11321272834440795\n",
            "loss after iteration : 0.11319424080089495\n",
            "loss after iteration : 0.11317615654809675\n",
            "loss after iteration : 0.1131584646213027\n",
            "loss after iteration : 0.11314115438113446\n",
            "loss after iteration : 0.11312421550407756\n",
            "loss after iteration : 0.11310763797323614\n",
            "loss after iteration : 0.1130914120693079\n",
            "loss after iteration : 0.11307552836178074\n",
            "loss after iteration : 0.11305997770034705\n",
            "loss after iteration : 0.11304475120653666\n",
            "loss after iteration : 0.11302984026556387\n",
            "loss after iteration : 0.11301523651838846\n",
            "loss after iteration : 0.11300093185398742\n",
            "loss after iteration : 0.11298691840183363\n",
            "loss after iteration : 0.11297318852458096\n",
            "loss after iteration : 0.11295973481095059\n",
            "loss after iteration : 0.11294655006881571\n",
            "loss after iteration : 0.11293362731848243\n",
            "loss after iteration : 0.11292095978616176\n",
            "loss after iteration : 0.11290854089762963\n",
            "loss after iteration : 0.11289636427207154\n",
            "loss after iteration : 0.11288442371610764\n",
            "loss after iteration : 0.11287271321799378\n",
            "loss after iteration : 0.11286122694199659\n",
            "loss after iteration : 0.11284995922293549\n",
            "loss after iteration : 0.11283890456089074\n",
            "loss after iteration : 0.11282805761607154\n",
            "loss after iteration : 0.11281741320384091\n",
            "loss after iteration : 0.11280696628989324\n",
            "loss after iteration : 0.112796711985581\n",
            "loss after iteration : 0.1127866455433854\n",
            "loss after iteration : 0.1127767623525287\n",
            "loss after iteration : 0.11276705793472347\n",
            "loss after iteration : 0.11275752794005477\n",
            "loss after iteration : 0.11274816814299198\n",
            "loss after iteration : 0.11273897443852698\n",
            "loss after iteration : 0.11272994283843332\n",
            "loss after iteration : 0.11272106946764537\n",
            "loss after iteration : 0.11271235056075174\n",
            "loss after iteration : 0.11270378245860044\n",
            "loss after iteration : 0.11269536160501294\n",
            "loss after iteration : 0.11268708454360274\n",
            "loss after iteration : 0.11267894791469603\n",
            "loss after iteration : 0.11267094845235108\n",
            "loss after iteration : 0.11266308298147316\n",
            "loss after iteration : 0.1126553484150227\n",
            "loss after iteration : 0.11264774175131208\n",
            "loss after iteration : 0.11264026007139097\n",
            "loss after iteration : 0.11263290053651444\n",
            "loss after iteration : 0.11262566038569355\n",
            "loss after iteration : 0.11261853693332423\n",
            "loss after iteration : 0.11261152756689313\n",
            "loss after iteration : 0.11260462974475703\n",
            "loss after iteration : 0.11259784099399398\n",
            "loss after iteration : 0.11259115890832323\n",
            "loss after iteration : 0.11258458114609313\n",
            "loss after iteration : 0.11257810542833274\n",
            "loss after iteration : 0.11257172953686669\n",
            "loss after iteration : 0.11256545131249066\n",
            "loss after iteration : 0.1125592686532053\n",
            "loss after iteration : 0.11255317951250703\n",
            "loss after iteration : 0.11254718189773359\n",
            "loss after iteration : 0.11254127386846269\n",
            "loss after iteration : 0.11253545353496174\n",
            "loss after iteration : 0.11252971905668772\n",
            "loss after iteration : 0.11252406864083418\n",
            "loss after iteration : 0.11251850054092534\n",
            "loss after iteration : 0.11251301305545452\n",
            "loss after iteration : 0.11250760452656626\n",
            "loss after iteration : 0.11250227333878007\n",
            "loss after iteration : 0.11249701791775471\n",
            "loss after iteration : 0.11249183672909203\n",
            "loss after iteration : 0.11248672827717807\n",
            "loss after iteration : 0.11248169110406106\n",
            "loss after iteration : 0.11247672378836511\n",
            "loss after iteration : 0.1124718249442375\n",
            "loss after iteration : 0.11246699322032945\n",
            "loss after iteration : 0.11246222729880885\n",
            "loss after iteration : 0.11245752589440387\n",
            "loss after iteration : 0.11245288775347646\n",
            "loss after iteration : 0.11244831165312473\n",
            "loss after iteration : 0.11244379640031316\n",
            "loss after iteration : 0.11243934083103019\n",
            "loss after iteration : 0.1124349438094719\n",
            "loss after iteration : 0.11243060422725026\n",
            "loss after iteration : 0.11242632100262696\n",
            "loss after iteration : 0.11242209307976998\n",
            "loss after iteration : 0.11241791942803327\n",
            "loss after iteration : 0.11241379904125873\n",
            "loss after iteration : 0.11240973093709945\n",
            "loss after iteration : 0.11240571415636338\n",
            "loss after iteration : 0.11240174776237764\n",
            "loss after iteration : 0.11239783084037118\n",
            "loss after iteration : 0.11239396249687723\n",
            "loss after iteration : 0.1123901418591534\n",
            "loss after iteration : 0.11238636807461874\n",
            "loss after iteration : 0.1123826403103088\n",
            "loss after iteration : 0.11237895775234638\n",
            "loss after iteration : 0.1123753196054283\n",
            "loss after iteration : 0.11237172509232754\n",
            "loss after iteration : 0.11236817345341034\n",
            "loss after iteration : 0.11236466394616747\n",
            "loss after iteration : 0.11236119584475979\n",
            "loss after iteration : 0.11235776843957668\n",
            "loss after iteration : 0.11235438103680793\n",
            "loss after iteration : 0.11235103295802862\n",
            "loss after iteration : 0.11234772353979504\n",
            "loss after iteration : 0.11234445213325377\n",
            "loss after iteration : 0.11234121810376124\n",
            "loss after iteration : 0.11233802083051514\n",
            "loss after iteration : 0.11233485970619568\n",
            "loss after iteration : 0.11233173413661815\n",
            "loss after iteration : 0.11232864354039487\n",
            "loss after iteration : 0.11232558734860756\n",
            "loss after iteration : 0.11232256500448813\n",
            "loss after iteration : 0.11231957596310993\n",
            "loss after iteration : 0.11231661969108682\n",
            "loss after iteration : 0.11231369566628105\n",
            "loss after iteration : 0.11231080337752003\n",
            "loss after iteration : 0.11230794232432041\n",
            "loss after iteration : 0.11230511201662041\n",
            "loss after iteration : 0.11230231197451948\n",
            "loss after iteration : 0.11229954172802575\n",
            "loss after iteration : 0.11229680081680961\n",
            "loss after iteration : 0.11229408878996576\n",
            "loss after iteration : 0.11229140520577996\n",
            "loss after iteration : 0.11228874963150422\n",
            "loss after iteration : 0.11228612164313666\n",
            "loss after iteration : 0.11228352082520851\n",
            "loss after iteration : 0.11228094677057668\n",
            "loss after iteration : 0.11227839908022165\n",
            "loss after iteration : 0.11227587736305165\n",
            "loss after iteration : 0.11227338123571184\n",
            "loss after iteration : 0.11227091032239815\n",
            "loss after iteration : 0.11226846425467776\n",
            "loss after iteration : 0.1122660426713123\n",
            "loss after iteration : 0.11226364521808792\n",
            "loss after iteration : 0.11226127154764873\n",
            "loss after iteration : 0.11225892131933479\n",
            "loss after iteration : 0.11225659419902516\n",
            "loss after iteration : 0.1122542898589844\n",
            "loss after iteration : 0.11225200797771381\n",
            "loss after iteration : 0.11224974823980564\n",
            "loss after iteration : 0.1122475103358028\n",
            "loss after iteration : 0.11224529396206057\n",
            "loss after iteration : 0.11224309882061324\n",
            "loss after iteration : 0.11224092461904353\n",
            "loss after iteration : 0.11223877107035554\n",
            "loss after iteration : 0.11223663789285175\n",
            "loss after iteration : 0.11223452481001214\n",
            "loss after iteration : 0.11223243155037699\n",
            "loss after iteration : 0.11223035784743322\n",
            "loss after iteration : 0.11222830343950274\n",
            "loss after iteration : 0.11222626806963426\n",
            "loss after iteration : 0.11222425148549767\n",
            "loss after iteration : 0.11222225343928162\n",
            "loss after iteration : 0.11222027368759299\n",
            "loss after iteration : 0.1122183119913592\n",
            "loss after iteration : 0.11221636811573352\n",
            "loss after iteration : 0.11221444183000182\n",
            "loss after iteration : 0.11221253290749271\n",
            "loss after iteration : 0.11221064112548941\n",
            "loss after iteration : 0.11220876626514327\n",
            "loss after iteration : 0.11220690811139115\n",
            "loss after iteration : 0.11220506645287291\n",
            "loss after iteration : 0.11220324108185237\n",
            "loss after iteration : 0.1122014317941395\n",
            "loss after iteration : 0.11219963838901491\n",
            "loss after iteration : 0.11219786066915603\n",
            "loss after iteration : 0.11219609844056527\n",
            "loss after iteration : 0.1121943515124996\n",
            "loss after iteration : 0.11219261969740252\n",
            "loss after iteration : 0.11219090281083677\n",
            "loss after iteration : 0.11218920067141966\n",
            "loss after iteration : 0.11218751310075929\n",
            "loss after iteration : 0.11218583992339266\n",
            "loss after iteration : 0.11218418096672497\n",
            "loss after iteration : 0.11218253606097085\n",
            "loss after iteration : 0.11218090503909647\n",
            "loss after iteration : 0.11217928773676361\n",
            "loss after iteration : 0.11217768399227436\n",
            "loss after iteration : 0.11217609364651808\n",
            "loss after iteration : 0.11217451654291859\n",
            "loss after iteration : 0.1121729525273834\n",
            "loss after iteration : 0.11217140144825374\n",
            "loss after iteration : 0.11216986315625599\n",
            "loss after iteration : 0.112168337504454\n",
            "loss after iteration : 0.11216682434820291\n",
            "loss after iteration : 0.11216532354510349\n",
            "loss after iteration : 0.11216383495495823\n",
            "loss after iteration : 0.11216235843972772\n",
            "loss after iteration : 0.11216089386348888\n",
            "loss after iteration : 0.11215944109239322\n",
            "loss after iteration : 0.11215799999462679\n",
            "loss after iteration : 0.11215657044037085\n",
            "loss after iteration : 0.1121551523017631\n",
            "loss after iteration : 0.11215374545286051\n",
            "loss after iteration : 0.11215234976960224\n",
            "loss after iteration : 0.11215096512977374\n",
            "loss after iteration : 0.11214959141297189\n",
            "loss after iteration : 0.11214822850057045\n",
            "loss after iteration : 0.11214687627568654\n",
            "loss after iteration : 0.11214553462314823\n",
            "loss after iteration : 0.11214420342946205\n",
            "loss after iteration : 0.11214288258278185\n",
            "loss after iteration : 0.11214157197287818\n",
            "loss after iteration : 0.11214027149110829\n",
            "loss after iteration : 0.11213898103038687\n",
            "loss after iteration : 0.11213770048515749\n",
            "loss after iteration : 0.11213642975136437\n",
            "loss after iteration : 0.1121351687264251\n",
            "loss after iteration : 0.11213391730920413\n",
            "loss after iteration : 0.11213267539998603\n",
            "loss after iteration : 0.11213144290045013\n",
            "loss after iteration : 0.11213021971364541\n",
            "loss after iteration : 0.11212900574396609\n",
            "loss after iteration : 0.1121278008971273\n",
            "loss after iteration : 0.11212660508014177\n",
            "loss after iteration : 0.1121254182012969\n",
            "loss after iteration : 0.11212424017013212\n",
            "loss after iteration : 0.11212307089741684\n",
            "loss after iteration : 0.11212191029512902\n",
            "loss after iteration : 0.11212075827643402\n",
            "loss after iteration : 0.11211961475566379\n",
            "loss after iteration : 0.11211847964829685\n",
            "loss after iteration : 0.11211735287093842\n",
            "loss after iteration : 0.11211623434130095\n",
            "loss after iteration : 0.11211512397818542\n",
            "loss after iteration : 0.11211402170146213\n",
            "loss after iteration : 0.11211292743205335\n",
            "loss after iteration : 0.11211184109191466\n",
            "loss after iteration : 0.1121107626040182\n",
            "loss after iteration : 0.1121096918923349\n",
            "loss after iteration : 0.11210862888181836\n",
            "loss after iteration : 0.112107573498388\n",
            "loss after iteration : 0.1121065256689131\n",
            "loss after iteration : 0.11210548532119705\n",
            "loss after iteration : 0.11210445238396208\n",
            "loss after iteration : 0.11210342678683384\n",
            "loss after iteration : 0.11210240846032682\n",
            "loss after iteration : 0.11210139733582962\n",
            "loss after iteration : 0.11210039334559109\n",
            "loss after iteration : 0.11209939642270578\n",
            "loss after iteration : 0.11209840650110084\n",
            "loss after iteration : 0.1120974235155224\n",
            "loss after iteration : 0.11209644740152225\n",
            "loss after iteration : 0.11209547809544525\n",
            "loss after iteration : 0.11209451553441659\n",
            "loss after iteration : 0.11209355965632935\n",
            "loss after iteration : 0.11209261039983244\n",
            "loss after iteration : 0.11209166770431861\n",
            "loss after iteration : 0.11209073150991296\n",
            "loss after iteration : 0.11208980175746112\n",
            "loss after iteration : 0.11208887838851853\n",
            "loss after iteration : 0.11208796134533898\n",
            "loss after iteration : 0.11208705057086406\n",
            "loss after iteration : 0.11208614600871243\n",
            "loss after iteration : 0.11208524760316947\n",
            "loss after iteration : 0.11208435529917722\n",
            "loss after iteration : 0.11208346904232407\n",
            "loss after iteration : 0.11208258877883516\n",
            "loss after iteration : 0.11208171445556275\n",
            "loss after iteration : 0.11208084601997663\n",
            "loss after iteration : 0.112079983420155\n",
            "loss after iteration : 0.11207912660477515\n",
            "loss after iteration : 0.11207827552310488\n",
            "loss after iteration : 0.11207743012499333\n",
            "loss after iteration : 0.11207659036086244\n",
            "loss after iteration : 0.11207575618169882\n",
            "loss after iteration : 0.11207492753904513\n",
            "loss after iteration : 0.11207410438499206\n",
            "loss after iteration : 0.11207328667217015\n",
            "loss after iteration : 0.11207247435374236\n",
            "loss after iteration : 0.11207166738339566\n",
            "loss after iteration : 0.11207086571533437\n",
            "loss after iteration : 0.1120700693042718\n",
            "loss after iteration : 0.11206927810542366\n",
            "loss after iteration : 0.11206849207450034\n",
            "loss after iteration : 0.11206771116770027\n",
            "loss after iteration : 0.11206693534170284\n",
            "loss after iteration : 0.11206616455366142\n",
            "loss after iteration : 0.11206539876119712\n",
            "loss after iteration : 0.11206463792239181\n",
            "loss after iteration : 0.11206388199578175\n",
            "loss after iteration : 0.11206313094035149\n",
            "loss after iteration : 0.11206238471552728\n",
            "loss after iteration : 0.1120616432811713\n",
            "loss after iteration : 0.11206090659757528\n",
            "loss after iteration : 0.11206017462545513\n",
            "loss after iteration : 0.11205944732594456\n",
            "loss after iteration : 0.11205872466058947\n",
            "loss after iteration : 0.11205800659134292\n",
            "loss after iteration : 0.11205729308055866\n",
            "loss after iteration : 0.11205658409098655\n",
            "loss after iteration : 0.11205587958576678\n",
            "loss after iteration : 0.1120551795284247\n",
            "loss after iteration : 0.11205448388286576\n",
            "loss after iteration : 0.11205379261337033\n",
            "loss after iteration : 0.11205310568458877\n",
            "loss after iteration : 0.11205242306153647\n",
            "loss after iteration : 0.11205174470958935\n",
            "loss after iteration : 0.11205107059447839\n",
            "loss after iteration : 0.1120504006822858\n",
            "loss after iteration : 0.11204973493943993\n",
            "loss after iteration : 0.11204907333271091\n",
            "loss after iteration : 0.11204841582920622\n",
            "loss after iteration : 0.11204776239636606\n",
            "loss after iteration : 0.1120471130019596\n",
            "loss after iteration : 0.11204646761408033\n",
            "loss after iteration : 0.11204582620114191\n",
            "loss after iteration : 0.11204518873187432\n",
            "loss after iteration : 0.11204455517531951\n",
            "loss after iteration : 0.11204392550082788\n",
            "loss after iteration : 0.1120432996780539\n",
            "loss after iteration : 0.11204267767695258\n",
            "loss after iteration : 0.1120420594677755\n",
            "loss after iteration : 0.11204144502106751\n",
            "loss after iteration : 0.11204083430766226\n",
            "loss after iteration : 0.11204022729867949\n",
            "loss after iteration : 0.11203962396552093\n",
            "loss after iteration : 0.11203902427986713\n",
            "loss after iteration : 0.11203842821367355\n",
            "loss after iteration : 0.11203783573916769\n",
            "loss after iteration : 0.11203724682884551\n",
            "loss after iteration : 0.11203666145546823\n",
            "loss after iteration : 0.11203607959205901\n",
            "loss after iteration : 0.1120355012118999\n",
            "loss after iteration : 0.11203492628852842\n",
            "loss after iteration : 0.11203435479573486\n",
            "loss after iteration : 0.112033786707559\n",
            "loss after iteration : 0.11203322199828722\n",
            "loss after iteration : 0.11203266064244946\n",
            "loss after iteration : 0.1120321026148163\n",
            "loss after iteration : 0.11203154789039627\n",
            "loss after iteration : 0.11203099644443285\n",
            "loss after iteration : 0.11203044825240167\n",
            "loss after iteration : 0.11202990329000817\n",
            "loss after iteration : 0.11202936153318421\n",
            "loss after iteration : 0.11202882295808611\n",
            "loss after iteration : 0.11202828754109152\n",
            "loss after iteration : 0.11202775525879707\n",
            "loss after iteration : 0.112027226088016\n",
            "loss after iteration : 0.11202670000577514\n",
            "loss after iteration : 0.11202617698931304\n",
            "loss after iteration : 0.11202565701607703\n",
            "loss after iteration : 0.11202514006372125\n",
            "loss after iteration : 0.11202462611010383\n",
            "loss after iteration : 0.11202411513328511\n",
            "loss after iteration : 0.1120236071115248\n",
            "loss after iteration : 0.11202310202327996\n",
            "loss after iteration : 0.11202259984720297\n",
            "loss after iteration : 0.11202210056213888\n",
            "loss after iteration : 0.11202160414712366\n",
            "loss after iteration : 0.11202111058138169\n",
            "loss after iteration : 0.11202061984432402\n",
            "loss after iteration : 0.11202013191554602\n",
            "loss after iteration : 0.1120196467748255\n",
            "loss after iteration : 0.11201916440212045\n",
            "loss after iteration : 0.11201868477756731\n",
            "loss after iteration : 0.11201820788147887\n",
            "loss after iteration : 0.11201773369434233\n",
            "loss after iteration : 0.1120172621968174\n",
            "loss after iteration : 0.11201679336973441\n",
            "loss after iteration : 0.11201632719409246\n",
            "loss after iteration : 0.11201586365105755\n",
            "loss after iteration : 0.11201540272196078\n",
            "loss after iteration : 0.11201494438829661\n",
            "loss after iteration : 0.11201448863172112\n",
            "loss after iteration : 0.11201403543404997\n",
            "loss after iteration : 0.11201358477725717\n",
            "loss after iteration : 0.11201313664347302\n",
            "loss after iteration : 0.11201269101498253\n",
            "loss after iteration : 0.11201224787422376\n",
            "loss after iteration : 0.1120118072037863\n",
            "loss after iteration : 0.11201136898640962\n",
            "loss after iteration : 0.11201093320498134\n",
            "loss after iteration : 0.11201049984253572\n",
            "loss after iteration : 0.11201006888225237\n",
            "loss after iteration : 0.11200964030745432\n",
            "loss after iteration : 0.11200921410160687\n",
            "loss after iteration : 0.11200879024831574\n",
            "loss after iteration : 0.11200836873132614\n",
            "loss after iteration : 0.11200794953452073\n",
            "loss after iteration : 0.11200753264191848\n",
            "loss after iteration : 0.11200711803767326\n",
            "loss after iteration : 0.11200670570607262\n",
            "loss after iteration : 0.11200629563153591\n",
            "loss after iteration : 0.11200588779861338\n",
            "loss after iteration : 0.11200548219198472\n",
            "loss after iteration : 0.11200507879645762\n",
            "loss after iteration : 0.11200467759696665\n",
            "loss after iteration : 0.1120042785785718\n",
            "loss after iteration : 0.11200388172645726\n",
            "loss after iteration : 0.11200348702593013\n",
            "loss after iteration : 0.11200309446241943\n",
            "loss after iteration : 0.11200270402147443\n",
            "loss after iteration : 0.11200231568876383\n",
            "loss after iteration : 0.11200192945007431\n",
            "loss after iteration : 0.1120015452913095\n",
            "loss after iteration : 0.11200116319848862\n",
            "loss after iteration : 0.11200078315774573\n",
            "loss after iteration : 0.11200040515532803\n",
            "loss after iteration : 0.11200002917759519\n",
            "loss after iteration : 0.11199965521101811\n",
            "loss after iteration : 0.11199928324217756\n",
            "loss after iteration : 0.11199891325776358\n",
            "loss after iteration : 0.11199854524457391\n",
            "loss after iteration : 0.11199817918951338\n"
          ]
        },
        {
          "output_type": "execute_result",
          "data": {
            "text/plain": [
              "<__main__.LogisticReg at 0x7f7fd7276810>"
            ]
          },
          "metadata": {},
          "execution_count": 96
        }
      ],
      "source": [
        "model_exp.fit(X_train_new, y_train_new)"
      ]
    },
    {
      "cell_type": "code",
      "execution_count": 97,
      "metadata": {
        "id": "CwWlIOzvp5K2"
      },
      "outputs": [],
      "source": [
        " Y_pred_new = model_exp.predict(X_test_new)"
      ]
    },
    {
      "cell_type": "code",
      "source": [
        "y_pred_prob_exp = model.predict_proba(X_test_new)"
      ],
      "metadata": {
        "id": "hql5_t5H5yVP"
      },
      "execution_count": 98,
      "outputs": []
    },
    {
      "cell_type": "code",
      "execution_count": 99,
      "metadata": {
        "id": "kAvT6ieHqHlb"
      },
      "outputs": [],
      "source": [
        "correctly_classified_us = 0 \n",
        "count = 0    \n",
        "for count in range( np.size(Y_pred_new) ) :  \n",
        "        if y_test_new[count] == Y_pred_new[count] :            \n",
        "            correctly_classified_us = correctly_classified_us + 1              \n",
        "        count = count + 1"
      ]
    },
    {
      "cell_type": "code",
      "execution_count": 100,
      "metadata": {
        "id": "tlx8fErGlxbU"
      },
      "outputs": [],
      "source": [
        "cm_exp = confusion_matrix(y_test_new, Y_pred_new)"
      ]
    },
    {
      "cell_type": "code",
      "execution_count": 101,
      "metadata": {
        "id": "UKb1g6XWm_gG",
        "colab": {
          "base_uri": "https://localhost:8080/",
          "height": 373
        },
        "outputId": "b7b94675-a137-4085-c871-31cddb121667"
      },
      "outputs": [
        {
          "output_type": "display_data",
          "data": {
            "image/png": "[encoded data removed]",
            "text/plain": [
              "<Figure size 576x360 with 2 Axes>"
            ]
          },
          "metadata": {
            "needs_background": "light"
          }
        }
      ],
      "source": [
        "f, ax = plt.subplots(figsize=(8,5))\n",
        "sns.heatmap(cm_exp, annot=True, fmt=\".0f\", ax=ax, cmap=shades)\n",
        "plt.title(\"Logistic Regression Undersampling Confusion Matrix\\n\")\n",
        "plt.xlabel(\"Predicted Label\")\n",
        "plt.ylabel(\"True Label\")\n",
        "plt.show()"
      ]
    },
    {
      "cell_type": "code",
      "execution_count": 102,
      "metadata": {
        "id": "u3M1PjUPqL4y",
        "colab": {
          "base_uri": "https://localhost:8080/"
        },
        "outputId": "3f6a5312-128e-4a64-eb93-211d4da56fd2"
      },
      "outputs": [
        {
          "output_type": "stream",
          "name": "stdout",
          "text": [
            "Accuracy model undersampling       :   78.67955635491607\n"
          ]
        }
      ],
      "source": [
        "print( \"Accuracy model undersampling       :  \", ( \n",
        "      correctly_classified_us / count ) * 100 )"
      ]
    },
    {
      "cell_type": "code",
      "execution_count": 103,
      "metadata": {
        "id": "wNwJCpa71Jwr"
      },
      "outputs": [],
      "source": [
        "from sklearn.metrics import precision_score, recall_score, f1_score, roc_auc_score, accuracy_score, classification_report"
      ]
    },
    {
      "cell_type": "code",
      "execution_count": 104,
      "metadata": {
        "id": "Kj8e3aqFlbVv",
        "colab": {
          "base_uri": "https://localhost:8080/"
        },
        "outputId": "62da5c47-8387-463e-dbc3-9554cf396e51"
      },
      "outputs": [
        {
          "output_type": "stream",
          "name": "stdout",
          "text": [
            "0.7044361888111889\n"
          ]
        }
      ],
      "source": [
        "print(precision_score(y_test_new, Y_pred_new))"
      ]
    },
    {
      "cell_type": "code",
      "execution_count": 105,
      "metadata": {
        "id": "1VEaFL8gmIgb",
        "colab": {
          "base_uri": "https://localhost:8080/"
        },
        "outputId": "6ab5bbd3-5bea-4f39-c1db-16aaba294201"
      },
      "outputs": [
        {
          "output_type": "stream",
          "name": "stdout",
          "text": [
            "0.9787460148777896\n"
          ]
        }
      ],
      "source": [
        "print(recall_score(y_test_new, Y_pred_new))"
      ]
    },
    {
      "cell_type": "code",
      "execution_count": 106,
      "metadata": {
        "id": "5iT0_KPOlKDK",
        "colab": {
          "base_uri": "https://localhost:8080/"
        },
        "outputId": "f6735948-45e0-4f19-d209-6ad672ab95c4"
      },
      "outputs": [
        {
          "output_type": "stream",
          "name": "stdout",
          "text": [
            "0.8192388334709956\n"
          ]
        }
      ],
      "source": [
        "print(f1_score(y_test_new, Y_pred_new))"
      ]
    },
    {
      "cell_type": "code",
      "execution_count": 107,
      "metadata": {
        "id": "1E-orwJW1UOp",
        "colab": {
          "base_uri": "https://localhost:8080/"
        },
        "outputId": "b1a1baa1-f24e-4018-966f-330d19ebfe14"
      },
      "outputs": [
        {
          "output_type": "stream",
          "name": "stdout",
          "text": [
            "              precision    recall  f1-score   support\n",
            "\n",
            "           0       0.97      0.60      0.74      6757\n",
            "           1       0.70      0.98      0.82      6587\n",
            "\n",
            "    accuracy                           0.79     13344\n",
            "   macro avg       0.84      0.79      0.78     13344\n",
            "weighted avg       0.84      0.79      0.78     13344\n",
            "\n"
          ]
        }
      ],
      "source": [
        "print(classification_report(y_test_new,Y_pred_new))"
      ]
    },
    {
      "cell_type": "code",
      "source": [
        "fpr, tpr, thresholds = roc_curve(y_test_new, y_pred_prob_exp, pos_label = 1)\n",
        "plt.figure(figsize=(6,4))\n",
        "plt.plot(fpr, tpr, linewidth=2)\n",
        "plt.plot([0,1], [0,1], 'k--' )\n",
        "plt.rcParams['font.size'] = 12\n",
        "plt.title('ROC curve untuk preferensi ketertarikan pelanggan')\n",
        "plt.xlabel('False Positive Rate (1 - Specificity)')\n",
        "plt.ylabel('True Positive Rate (Sensitivity)')\n",
        "plt.show()"
      ],
      "metadata": {
        "colab": {
          "base_uri": "https://localhost:8080/",
          "height": 302
        },
        "id": "2c3DCt0s6MBJ",
        "outputId": "c38c1ab5-12ef-4c14-ed33-347a53239b4f"
      },
      "execution_count": 108,
      "outputs": [
        {
          "output_type": "display_data",
          "data": {
            "image/png": "[encoded data removed]",
            "text/plain": [
              "<Figure size 432x288 with 1 Axes>"
            ]
          },
          "metadata": {
            "needs_background": "light"
          }
        }
      ]
    },
    {
      "cell_type": "code",
      "source": [
        "ROC_AUC = roc_auc_score(y_test_new, y_pred_prob_exp)\n",
        "print('ROC AUC : {:.4f}'.format(ROC_AUC))"
      ],
      "metadata": {
        "id": "N1aRDwAl6dLN",
        "outputId": "a94815e7-f14e-429e-a908-de75e247de33",
        "colab": {
          "base_uri": "https://localhost:8080/"
        }
      },
      "execution_count": 109,
      "outputs": [
        {
          "output_type": "stream",
          "name": "stdout",
          "text": [
            "ROC AUC : 0.8351\n"
          ]
        }
      ]
    }
  ],
  "metadata": {
    "colab": {
      "collapsed_sections": [
        "aUHZLG-BQoMb"
      ],
      "name": "Tugas Besar Kedua Pembelajaran Mesin.ipynb",
      "provenance": []
    },
    "kernelspec": {
      "display_name": "Python 3",
      "name": "python3"
    },
    "language_info": {
      "name": "python"
    }
  },
  "nbformat": 4,
  "nbformat_minor": 0
}